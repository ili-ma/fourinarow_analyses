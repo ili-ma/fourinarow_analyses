{
 "cells": [
  {
   "cell_type": "code",
   "execution_count": 7,
   "metadata": {},
   "outputs": [],
   "source": [
    "import numpy as np\n",
    "import matplotlib.pyplot as plt\n",
    "from scipy import stats\n",
    "import math\n",
    "import matplotlib as mpl\n",
    "from matplotlib.ticker import FormatStrFormatter\n",
    "from matplotlib import rc,rcParams\n",
    "\n",
    "fig_direc = 'C:/Users/svo/Google Drive/Bas Zahy Gianni - Games/Manuscripts/Paper/Figures/'\n",
    "mpl.rcParams['text.usetex'] = True\n",
    "mpl.rcParams['text.latex.preamble'] = [r'\\usepackage{amsmath}'] #for \\text command\n",
    "#rcParams['font.sans-serif'] = \"Helvetica Neue LT Std\"\n",
    "#rcParams['font.family'] = \"sans-serif\"\n",
    "\n",
    "direc = 'C:/Users/svo/Google Drive/Bas Games/'\n",
    "\n",
    "param_names = [r'$\\theta$',r'$\\gamma$',r'$\\delta$',r'$\\lambda$',r'$C$',r'$w_{\\text{center}}$',\n",
    "               r'$w_{\\text{connected 2-in-a-row}}$',r'$w_{\\text{unconnected 2-in-a-row}}$',\n",
    "              r'$w_{\\text{3-in-a-row}}$',r'$w_{\\text{4-in-a-row}}$']\n",
    "\n",
    "Nparams = len(param_names)"
   ]
  },
  {
   "cell_type": "code",
   "execution_count": 8,
   "metadata": {},
   "outputs": [],
   "source": [
    "def plot_param_bars(rho,sem,xlabel,c,filename,letter):\n",
    "    fig,ax = plt.subplots()\n",
    "    ax.set_xlim([0,1])\n",
    "    ax.set_xlabel(xlabel,usetex=False)\n",
    "    ax.barh(range(Nparams,0,-1), rho, xerr=sem, align='center',\n",
    "        color=c, ecolor='black')\n",
    "    plt.xticks(usetex=False)\n",
    "    plt.yticks(range(Nparams,0,-1),param_names,usetex=True, fontsize =14)\n",
    "    ax.spines['top'].set_visible(False)\n",
    "    ax.spines['right'].set_visible(False)\n",
    "    ax.text(0.02, 0.9, letter, horizontalalignment='left',\n",
    "            verticalalignment='center', transform=fig.transFigure, fontsize = 20)\n",
    "    fig.tight_layout()\n",
    "    fig.savefig(fig_direc + filename)\n",
    "    plt.show()"
   ]
  },
  {
   "cell_type": "code",
   "execution_count": 9,
   "metadata": {},
   "outputs": [
    {
     "ename": "FileNotFoundError",
     "evalue": "[Errno 2] No such file or directory: 'C:/Users/svo/Google Drive/Bas Zahy Gianni - Games/Manuscripts/Paper/Figures/param_corrs_A.pdf'",
     "output_type": "error",
     "traceback": [
      "\u001b[1;31m---------------------------------------------------------------------------\u001b[0m",
      "\u001b[1;31mFileNotFoundError\u001b[0m                         Traceback (most recent call last)",
      "\u001b[1;32m<ipython-input-9-e9c6c4743668>\u001b[0m in \u001b[0;36m<module>\u001b[1;34m\u001b[0m\n\u001b[0;32m      3\u001b[0m \u001b[0mP\u001b[0m\u001b[1;33m=\u001b[0m\u001b[0mnp\u001b[0m\u001b[1;33m.\u001b[0m\u001b[0mmean\u001b[0m\u001b[1;33m(\u001b[0m\u001b[0mnp\u001b[0m\u001b[1;33m.\u001b[0m\u001b[0mreshape\u001b[0m\u001b[1;33m(\u001b[0m\u001b[0mP\u001b[0m\u001b[1;33m,\u001b[0m\u001b[1;33m[\u001b[0m\u001b[0mint\u001b[0m\u001b[1;33m(\u001b[0m\u001b[0mP\u001b[0m\u001b[1;33m.\u001b[0m\u001b[0mshape\u001b[0m\u001b[1;33m[\u001b[0m\u001b[1;36m0\u001b[0m\u001b[1;33m]\u001b[0m\u001b[1;33m/\u001b[0m\u001b[1;36m5\u001b[0m\u001b[1;33m)\u001b[0m\u001b[1;33m,\u001b[0m\u001b[1;36m5\u001b[0m\u001b[1;33m,\u001b[0m\u001b[1;36m10\u001b[0m\u001b[1;33m]\u001b[0m\u001b[1;33m)\u001b[0m\u001b[1;33m,\u001b[0m\u001b[0maxis\u001b[0m\u001b[1;33m=\u001b[0m\u001b[1;36m1\u001b[0m\u001b[1;33m)\u001b[0m\u001b[1;33m\u001b[0m\u001b[1;33m\u001b[0m\u001b[0m\n\u001b[0;32m      4\u001b[0m \u001b[0mrho4\u001b[0m\u001b[1;33m=\u001b[0m\u001b[1;33m[\u001b[0m\u001b[0mstats\u001b[0m\u001b[1;33m.\u001b[0m\u001b[0mspearmanr\u001b[0m\u001b[1;33m(\u001b[0m\u001b[0mP\u001b[0m\u001b[1;33m[\u001b[0m\u001b[1;33m:\u001b[0m\u001b[1;36m40\u001b[0m\u001b[1;33m,\u001b[0m\u001b[0mi\u001b[0m\u001b[1;33m]\u001b[0m\u001b[1;33m,\u001b[0m\u001b[0mP\u001b[0m\u001b[1;33m[\u001b[0m\u001b[1;36m40\u001b[0m\u001b[1;33m:\u001b[0m\u001b[1;33m,\u001b[0m\u001b[0mi\u001b[0m\u001b[1;33m]\u001b[0m\u001b[1;33m)\u001b[0m\u001b[1;33m.\u001b[0m\u001b[0mcorrelation\u001b[0m \u001b[1;32mfor\u001b[0m \u001b[0mi\u001b[0m \u001b[1;32min\u001b[0m \u001b[0mrange\u001b[0m\u001b[1;33m(\u001b[0m\u001b[1;36m10\u001b[0m\u001b[1;33m)\u001b[0m\u001b[1;33m]\u001b[0m\u001b[1;33m\u001b[0m\u001b[1;33m\u001b[0m\u001b[0m\n\u001b[1;32m----> 5\u001b[1;33m \u001b[0mplot_param_bars\u001b[0m\u001b[1;33m(\u001b[0m\u001b[0mrho4\u001b[0m\u001b[1;33m,\u001b[0m\u001b[1;33m[\u001b[0m\u001b[1;36m0\u001b[0m \u001b[1;32mfor\u001b[0m \u001b[0mr\u001b[0m \u001b[1;32min\u001b[0m \u001b[0mrho4\u001b[0m\u001b[1;33m]\u001b[0m\u001b[1;33m,\u001b[0m\u001b[1;34m'Correlation between repeated fits'\u001b[0m\u001b[1;33m,\u001b[0m\u001b[1;34m'Red'\u001b[0m\u001b[1;33m,\u001b[0m\u001b[1;34m'param_corrs_A.pdf'\u001b[0m\u001b[1;33m,\u001b[0m\u001b[1;34m'A'\u001b[0m\u001b[1;33m)\u001b[0m\u001b[1;33m\u001b[0m\u001b[1;33m\u001b[0m\u001b[0m\n\u001b[0m",
      "\u001b[1;32m<ipython-input-8-57d2910f53a5>\u001b[0m in \u001b[0;36mplot_param_bars\u001b[1;34m(rho, sem, xlabel, c, filename, letter)\u001b[0m\n\u001b[0;32m     12\u001b[0m             verticalalignment='center', transform=fig.transFigure, fontsize = 20)\n\u001b[0;32m     13\u001b[0m     \u001b[0mfig\u001b[0m\u001b[1;33m.\u001b[0m\u001b[0mtight_layout\u001b[0m\u001b[1;33m(\u001b[0m\u001b[1;33m)\u001b[0m\u001b[1;33m\u001b[0m\u001b[1;33m\u001b[0m\u001b[0m\n\u001b[1;32m---> 14\u001b[1;33m     \u001b[0mfig\u001b[0m\u001b[1;33m.\u001b[0m\u001b[0msavefig\u001b[0m\u001b[1;33m(\u001b[0m\u001b[0mfig_direc\u001b[0m \u001b[1;33m+\u001b[0m \u001b[0mfilename\u001b[0m\u001b[1;33m)\u001b[0m\u001b[1;33m\u001b[0m\u001b[1;33m\u001b[0m\u001b[0m\n\u001b[0m\u001b[0;32m     15\u001b[0m     \u001b[0mplt\u001b[0m\u001b[1;33m.\u001b[0m\u001b[0mshow\u001b[0m\u001b[1;33m(\u001b[0m\u001b[1;33m)\u001b[0m\u001b[1;33m\u001b[0m\u001b[1;33m\u001b[0m\u001b[0m\n",
      "\u001b[1;32m~\\AppData\\Local\\Continuum\\anaconda3\\lib\\site-packages\\matplotlib\\figure.py\u001b[0m in \u001b[0;36msavefig\u001b[1;34m(self, fname, transparent, **kwargs)\u001b[0m\n\u001b[0;32m   2178\u001b[0m             \u001b[0mself\u001b[0m\u001b[1;33m.\u001b[0m\u001b[0mpatch\u001b[0m\u001b[1;33m.\u001b[0m\u001b[0mset_visible\u001b[0m\u001b[1;33m(\u001b[0m\u001b[0mframeon\u001b[0m\u001b[1;33m)\u001b[0m\u001b[1;33m\u001b[0m\u001b[1;33m\u001b[0m\u001b[0m\n\u001b[0;32m   2179\u001b[0m \u001b[1;33m\u001b[0m\u001b[0m\n\u001b[1;32m-> 2180\u001b[1;33m         \u001b[0mself\u001b[0m\u001b[1;33m.\u001b[0m\u001b[0mcanvas\u001b[0m\u001b[1;33m.\u001b[0m\u001b[0mprint_figure\u001b[0m\u001b[1;33m(\u001b[0m\u001b[0mfname\u001b[0m\u001b[1;33m,\u001b[0m \u001b[1;33m**\u001b[0m\u001b[0mkwargs\u001b[0m\u001b[1;33m)\u001b[0m\u001b[1;33m\u001b[0m\u001b[1;33m\u001b[0m\u001b[0m\n\u001b[0m\u001b[0;32m   2181\u001b[0m \u001b[1;33m\u001b[0m\u001b[0m\n\u001b[0;32m   2182\u001b[0m         \u001b[1;32mif\u001b[0m \u001b[0mframeon\u001b[0m\u001b[1;33m:\u001b[0m\u001b[1;33m\u001b[0m\u001b[1;33m\u001b[0m\u001b[0m\n",
      "\u001b[1;32m~\\AppData\\Local\\Continuum\\anaconda3\\lib\\site-packages\\matplotlib\\backend_bases.py\u001b[0m in \u001b[0;36mprint_figure\u001b[1;34m(self, filename, dpi, facecolor, edgecolor, orientation, format, bbox_inches, **kwargs)\u001b[0m\n\u001b[0;32m   2080\u001b[0m                     \u001b[0morientation\u001b[0m\u001b[1;33m=\u001b[0m\u001b[0morientation\u001b[0m\u001b[1;33m,\u001b[0m\u001b[1;33m\u001b[0m\u001b[1;33m\u001b[0m\u001b[0m\n\u001b[0;32m   2081\u001b[0m                     \u001b[0mbbox_inches_restore\u001b[0m\u001b[1;33m=\u001b[0m\u001b[0m_bbox_inches_restore\u001b[0m\u001b[1;33m,\u001b[0m\u001b[1;33m\u001b[0m\u001b[1;33m\u001b[0m\u001b[0m\n\u001b[1;32m-> 2082\u001b[1;33m                     **kwargs)\n\u001b[0m\u001b[0;32m   2083\u001b[0m             \u001b[1;32mfinally\u001b[0m\u001b[1;33m:\u001b[0m\u001b[1;33m\u001b[0m\u001b[1;33m\u001b[0m\u001b[0m\n\u001b[0;32m   2084\u001b[0m                 \u001b[1;32mif\u001b[0m \u001b[0mbbox_inches\u001b[0m \u001b[1;32mand\u001b[0m \u001b[0mrestore_bbox\u001b[0m\u001b[1;33m:\u001b[0m\u001b[1;33m\u001b[0m\u001b[1;33m\u001b[0m\u001b[0m\n",
      "\u001b[1;32m~\\AppData\\Local\\Continuum\\anaconda3\\lib\\site-packages\\matplotlib\\backends\\backend_pdf.py\u001b[0m in \u001b[0;36mprint_pdf\u001b[1;34m(self, filename, dpi, bbox_inches_restore, metadata, **kwargs)\u001b[0m\n\u001b[0;32m   2494\u001b[0m             \u001b[0mfile\u001b[0m \u001b[1;33m=\u001b[0m \u001b[0mfilename\u001b[0m\u001b[1;33m.\u001b[0m\u001b[0m_file\u001b[0m\u001b[1;33m\u001b[0m\u001b[1;33m\u001b[0m\u001b[0m\n\u001b[0;32m   2495\u001b[0m         \u001b[1;32melse\u001b[0m\u001b[1;33m:\u001b[0m\u001b[1;33m\u001b[0m\u001b[1;33m\u001b[0m\u001b[0m\n\u001b[1;32m-> 2496\u001b[1;33m             \u001b[0mfile\u001b[0m \u001b[1;33m=\u001b[0m \u001b[0mPdfFile\u001b[0m\u001b[1;33m(\u001b[0m\u001b[0mfilename\u001b[0m\u001b[1;33m,\u001b[0m \u001b[0mmetadata\u001b[0m\u001b[1;33m=\u001b[0m\u001b[0mmetadata\u001b[0m\u001b[1;33m)\u001b[0m\u001b[1;33m\u001b[0m\u001b[1;33m\u001b[0m\u001b[0m\n\u001b[0m\u001b[0;32m   2497\u001b[0m         \u001b[1;32mtry\u001b[0m\u001b[1;33m:\u001b[0m\u001b[1;33m\u001b[0m\u001b[1;33m\u001b[0m\u001b[0m\n\u001b[0;32m   2498\u001b[0m             \u001b[0mfile\u001b[0m\u001b[1;33m.\u001b[0m\u001b[0mnewPage\u001b[0m\u001b[1;33m(\u001b[0m\u001b[0mwidth\u001b[0m\u001b[1;33m,\u001b[0m \u001b[0mheight\u001b[0m\u001b[1;33m)\u001b[0m\u001b[1;33m\u001b[0m\u001b[1;33m\u001b[0m\u001b[0m\n",
      "\u001b[1;32m~\\AppData\\Local\\Continuum\\anaconda3\\lib\\site-packages\\matplotlib\\backends\\backend_pdf.py\u001b[0m in \u001b[0;36m__init__\u001b[1;34m(self, filename, metadata)\u001b[0m\n\u001b[0;32m    430\u001b[0m         \u001b[0mself\u001b[0m\u001b[1;33m.\u001b[0m\u001b[0moriginal_file_like\u001b[0m \u001b[1;33m=\u001b[0m \u001b[1;32mNone\u001b[0m\u001b[1;33m\u001b[0m\u001b[1;33m\u001b[0m\u001b[0m\n\u001b[0;32m    431\u001b[0m         \u001b[0mself\u001b[0m\u001b[1;33m.\u001b[0m\u001b[0mtell_base\u001b[0m \u001b[1;33m=\u001b[0m \u001b[1;36m0\u001b[0m\u001b[1;33m\u001b[0m\u001b[1;33m\u001b[0m\u001b[0m\n\u001b[1;32m--> 432\u001b[1;33m         \u001b[0mfh\u001b[0m\u001b[1;33m,\u001b[0m \u001b[0mopened\u001b[0m \u001b[1;33m=\u001b[0m \u001b[0mcbook\u001b[0m\u001b[1;33m.\u001b[0m\u001b[0mto_filehandle\u001b[0m\u001b[1;33m(\u001b[0m\u001b[0mfilename\u001b[0m\u001b[1;33m,\u001b[0m \u001b[1;34m\"wb\"\u001b[0m\u001b[1;33m,\u001b[0m \u001b[0mreturn_opened\u001b[0m\u001b[1;33m=\u001b[0m\u001b[1;32mTrue\u001b[0m\u001b[1;33m)\u001b[0m\u001b[1;33m\u001b[0m\u001b[1;33m\u001b[0m\u001b[0m\n\u001b[0m\u001b[0;32m    433\u001b[0m         \u001b[1;32mif\u001b[0m \u001b[1;32mnot\u001b[0m \u001b[0mopened\u001b[0m\u001b[1;33m:\u001b[0m\u001b[1;33m\u001b[0m\u001b[1;33m\u001b[0m\u001b[0m\n\u001b[0;32m    434\u001b[0m             \u001b[1;32mtry\u001b[0m\u001b[1;33m:\u001b[0m\u001b[1;33m\u001b[0m\u001b[1;33m\u001b[0m\u001b[0m\n",
      "\u001b[1;32m~\\AppData\\Local\\Continuum\\anaconda3\\lib\\site-packages\\matplotlib\\cbook\\__init__.py\u001b[0m in \u001b[0;36mto_filehandle\u001b[1;34m(fname, flag, return_opened, encoding)\u001b[0m\n\u001b[0;32m    430\u001b[0m             \u001b[0mfh\u001b[0m \u001b[1;33m=\u001b[0m \u001b[0mbz2\u001b[0m\u001b[1;33m.\u001b[0m\u001b[0mBZ2File\u001b[0m\u001b[1;33m(\u001b[0m\u001b[0mfname\u001b[0m\u001b[1;33m,\u001b[0m \u001b[0mflag\u001b[0m\u001b[1;33m)\u001b[0m\u001b[1;33m\u001b[0m\u001b[1;33m\u001b[0m\u001b[0m\n\u001b[0;32m    431\u001b[0m         \u001b[1;32melse\u001b[0m\u001b[1;33m:\u001b[0m\u001b[1;33m\u001b[0m\u001b[1;33m\u001b[0m\u001b[0m\n\u001b[1;32m--> 432\u001b[1;33m             \u001b[0mfh\u001b[0m \u001b[1;33m=\u001b[0m \u001b[0mopen\u001b[0m\u001b[1;33m(\u001b[0m\u001b[0mfname\u001b[0m\u001b[1;33m,\u001b[0m \u001b[0mflag\u001b[0m\u001b[1;33m,\u001b[0m \u001b[0mencoding\u001b[0m\u001b[1;33m=\u001b[0m\u001b[0mencoding\u001b[0m\u001b[1;33m)\u001b[0m\u001b[1;33m\u001b[0m\u001b[1;33m\u001b[0m\u001b[0m\n\u001b[0m\u001b[0;32m    433\u001b[0m         \u001b[0mopened\u001b[0m \u001b[1;33m=\u001b[0m \u001b[1;32mTrue\u001b[0m\u001b[1;33m\u001b[0m\u001b[1;33m\u001b[0m\u001b[0m\n\u001b[0;32m    434\u001b[0m     \u001b[1;32melif\u001b[0m \u001b[0mhasattr\u001b[0m\u001b[1;33m(\u001b[0m\u001b[0mfname\u001b[0m\u001b[1;33m,\u001b[0m \u001b[1;34m'seek'\u001b[0m\u001b[1;33m)\u001b[0m\u001b[1;33m:\u001b[0m\u001b[1;33m\u001b[0m\u001b[1;33m\u001b[0m\u001b[0m\n",
      "\u001b[1;31mFileNotFoundError\u001b[0m: [Errno 2] No such file or directory: 'C:/Users/svo/Google Drive/Bas Zahy Gianni - Games/Manuscripts/Paper/Figures/param_corrs_A.pdf'"
     ]
    },
    {
     "data": {
      "image/png": "[encoded data removed]",
      "text/plain": [
       "<Figure size 432x288 with 1 Axes>"
      ]
     },
     "metadata": {
      "needs_background": "light"
     },
     "output_type": "display_data"
    }
   ],
   "source": [
    "P=np.vstack([np.loadtxt(direc + 'Analysis/Params/params_hvh_' + m + '_short.txt') \n",
    "             for m in ['final','final2']])\n",
    "P=np.mean(np.reshape(P,[int(P.shape[0]/5),5,10]),axis=1)\n",
    "rho4=[stats.spearmanr(P[:40,i],P[40:,i]).correlation for i in range(10)]\n",
    "plot_param_bars(rho4,[0 for r in rho4],'Correlation between repeated fits','Red','param_corrs_A.pdf','A')"
   ]
  },
  {
   "cell_type": "code",
   "execution_count": null,
   "metadata": {},
   "outputs": [],
   "source": [
    "P=np.vstack([np.loadtxt(direc + 'Analysis/Params/params_' + e + '_final_short.txt') \n",
    "             for e in ['hvh','learn','tai','tur','gen','eye']])\n",
    "P=np.reshape(P,[int(P.shape[0]/5),5,10])\n",
    "p1=[stats.ttest_1samp(stats.spearmanr(P[:,:,i])[0][np.triu_indices(5,1)],popmean=0).pvalue \n",
    "    for i in range(10)]\n",
    "rho1=[np.mean(stats.spearmanr(P[:,:,i])[0][np.triu_indices(5,1)]) for i in range(10)]\n",
    "sem1=[np.std(stats.spearmanr(P[:,:,i])[0][np.triu_indices(5,1)])/np.sqrt(10) for i in range(10)]\n",
    "plot_param_bars(rho1,sem1,'Correlation between cross-validation splits','green','param_corrs_B.pdf','B')"
   ]
  },
  {
   "cell_type": "code",
   "execution_count": null,
   "metadata": {},
   "outputs": [],
   "source": [
    "P=np.vstack([np.loadtxt(direc + 'Analysis/Params/params_' + e + '_final_short.txt') \n",
    "             for e in ['hvh','learn','tai','tur','gen','eye']])\n",
    "P=np.reshape(P,[int(P.shape[0]/5),5,10])\n",
    "#p1=[stats.ttest_1samp(stats.spearmanr(P[:,:,i])[0][np.triu_indices(5,1)],popmean=0).pvalue \n",
    "#    for i in range(10)]\n",
    "#rho1=[np.mean(stats.spearmanr(P[:,:,i])[0][np.triu_indices(5,1)]) for i in range(10)]\n",
    "#sem1=[np.std(stats.spearmanr(P[:,:,i])[0][np.triu_indices(5,1)])/np.sqrt(10) for i in range(10)]\n",
    "#plot_param_bars(rho1,sem1,'Correlation between cross-validation splits','green','param_corrs_B.pdf','B')"
   ]
  },
  {
   "cell_type": "code",
   "execution_count": null,
   "metadata": {},
   "outputs": [],
   "source": [
    "print(np.nanmean(np.std(P,axis=1)/np.sqrt(5),axis=0)[2],np.nanstd(np.std(P,axis=1)/np.sqrt(5),axis=0)[2]/np.sqrt(P.shape[0]))\n",
    "p1=[stats.ttest_1samp(stats.spearmanr(P[:,:,i])[0][np.triu_indices(5,1)],popmean=0).pvalue \n",
    "    for i in range(10)]\n",
    "rho1=[np.mean(stats.spearmanr(P[:,:,i])[0][np.triu_indices(5,1)]) for i in range(10)]\n",
    "sem1=[np.std(stats.spearmanr(P[:,:,i])[0][np.triu_indices(5,1)])/np.sqrt(10) for i in range(10)]\n",
    "print(rho1[2],sem1[2])"
   ]
  },
  {
   "cell_type": "code",
   "execution_count": null,
   "metadata": {},
   "outputs": [],
   "source": [
    "#correlations across learning sessions \n",
    "P=np.loadtxt(direc + 'Analysis/Params/params_learn_final_short.txt')\n",
    "P=np.mean(np.reshape(P,[int(P.shape[0]/5),5,10]),axis=1)\n",
    "rho2 = [np.mean(np.hstack([[stats.spearmanr(P[n::5,i],P[m::5,i])[0] for m in range(n)] for n in range(5)])) for i in range(10)]\n",
    "sem2 = [np.std(np.hstack([[stats.spearmanr(P[n::5,i],P[m::5,i])[0]/np.sqrt(10) for m in range(n)] for n in range(5)])) for i in range(10)]\n",
    "p2 = [stats.ttest_1samp(np.hstack([[stats.spearmanr(P[n::5,i],P[m::5,i])[0] for m in range(n)] for n in range(5)]),popmean=0).pvalue for i in range(10)]\n",
    "plot_param_bars(rho2,sem2,'Correlation between learning sessions','Orange','param_corrs_C.pdf','C')"
   ]
  },
  {
   "cell_type": "code",
   "execution_count": null,
   "metadata": {},
   "outputs": [],
   "source": [
    "P=np.loadtxt(direc + 'Analysis/Params/params_tai_final_short.txt')\n",
    "P=np.mean(np.reshape(P,[int(P.shape[0]/5),5,10]),axis=1)\n",
    "rho3 = [np.mean(np.hstack([[stats.spearmanr(P[n::3,i],P[m::3,i])[0] for m in range(n)] for n in range(3)])) for i in range(10)]\n",
    "sem3 = [np.std(np.hstack([[stats.spearmanr(P[n::3,i],P[m::3,i])[0]/np.sqrt(3) for m in range(n)] for n in range(3)])) for i in range(10)]\n",
    "p3 = [stats.ttest_1samp(np.hstack([[stats.spearmanr(P[n::3,i],P[m::3,i])[0] for m in range(n)] for n in range(3)]),popmean=0).pvalue for i in range(10)]\n",
    "plot_param_bars(rho3,sem3,'Correlation between time constraint conditions','Purple','param_corrs_D.pdf','D')"
   ]
  },
  {
   "cell_type": "code",
   "execution_count": 4,
   "metadata": {
    "scrolled": true
   },
   "outputs": [],
   "source": [
    "direc = 'C:/Users/Bas/Google Drive/Bas Games/Analysis/loglik/'\n",
    "\n",
    "def get_mean(fname):\n",
    "    try:\n",
    "        x = np.loadtxt(fname)\n",
    "        if len(x.shape)>1:\n",
    "            return np.mean(x[:,np.nonzero(np.prod(x>0,axis=0))[0]])\n",
    "        else:\n",
    "            return np.mean(x)\n",
    "    except OSError:\n",
    "        print('File not found: ' + fname)\n",
    "        return np.nan\n",
    "    \n",
    "def get_data(fname):\n",
    "    try:\n",
    "        x = np.loadtxt(fname)\n",
    "        if len(x.shape)>1:\n",
    "            return np.mean(x[:,np.nonzero(np.prod(x>0,axis=0))[0]],axis=1)\n",
    "        else:\n",
    "            print(fname)\n",
    "            return np.mean(x)\n",
    "    except OSError:\n",
    "        print('File not found: ' + fname)\n",
    "        return np.nan\n",
    "\n",
    "\n"
   ]
  },
  {
   "cell_type": "code",
   "execution_count": 52,
   "metadata": {},
   "outputs": [],
   "source": [
    "direc = 'C:/Users/svo/Google Drive/Bas Games/Analysis/loglik/'\n",
    "\n",
    "models=['final','final_nonoise','final_nodelta','final_noprune','final_notree','final_noact','final_no3',\n",
    "        'final_no2conn','final_nocenter','final_no4','final_no2unc',\n",
    "        'final_optweights','final_mcts_myopic','final_drop_tile','final_fixed_iters',\n",
    "        'final_fixed_depth','final_fixed_branch','final_weight_hvd','final_drop_hvd',\n",
    "        'final_triangle','final_drop_type','final_opp','final_mcts_rand']\n",
    "\n",
    "model_names = ['Main','No noise','No feature drop','No pruning','No tree','No active scaling',\n",
    "               'No 3-in-a-row','No connected 2-in-a-row','No center','No 4-in-a-row',\n",
    "               'No unconnected 2-in-a-row','Optimal weights','Monte Carlo Tree Search',\n",
    "               'Tile dropping','Fixed iterations','Fixed depth','Fixed branching',\n",
    "               'Orientation-dependent weights','Orientation-dependent dropping','Triangle',\n",
    "               'Type-dependent dropping','Opponent scaling','Random-playout MCTS']\n",
    "\n",
    "model_colors = ['black'] + ['#A30006']*10 + ['#025D8C']*6 + ['#519548']*5 + ['gray']              \n",
    "\n",
    "mpl.rcParams['text.usetex'] = False\n",
    "\n",
    "L = [np.hstack([get_data(direc + 'loglik_' + d + '_' + m + '.txt') for d in ['learn1','learn2','learn3']]) for m in models]\n",
    "loglik_learn = np.array([np.mean(np.mean(np.reshape(L[i],[30,5,5]),axis=2),axis=0) for i,m in enumerate(models)])\n",
    "\n",
    "L = [np.hstack([get_data(direc + 'loglik_' + d + '_' + m + '.txt') for d in ['tai1','tai2']]) for m in models]\n",
    "loglik_tai = np.array([np.mean(np.mean(np.reshape(L[i],[30,3,5]),axis=2),axis=0) for i,m in enumerate(models)])\n",
    "\n",
    "loglik = np.hstack([np.array([[get_mean(direc + 'loglik_' + d + '_' + m + '.txt') \n",
    "                               for d in ['hvh','gen','eye']] \n",
    "                              for m in models]),\n",
    "                    loglik_learn,loglik_tai])\n"
   ]
  },
  {
   "cell_type": "code",
   "execution_count": 50,
   "metadata": {},
   "outputs": [
    {
     "data": {
      "text/plain": [
       "array([[1.92452287, 1.85827167, 1.8115142 , 1.73879587, 1.73176653],\n",
       "       [2.04406747, 1.99347273, 1.95234467, 1.88781053, 1.87431347],\n",
       "       [1.95788619, 1.89620747, 1.8604156 , 1.7795726 , 1.76115193],\n",
       "       [1.94825941, 1.91790253, 1.85706387, 1.79091353, 1.77785547],\n",
       "       [1.95072333, 1.894974  , 1.850724  , 1.7876764 , 1.79248493],\n",
       "       [1.93836245, 1.86452333, 1.820164  , 1.75284613, 1.7435244 ],\n",
       "       [2.16468393, 2.12419007, 2.08989927, 2.0127512 , 2.00305033],\n",
       "       [2.00808073, 1.94982707, 1.9110424 , 1.84558407, 1.83806527],\n",
       "       [1.98932173, 1.94037993, 1.91341493, 1.8507164 , 1.83784507],\n",
       "       [1.9358816 , 1.88123467, 1.82993693, 1.77109613, 1.74972907],\n",
       "       [1.94022982, 1.87910293, 1.82750853, 1.76320367, 1.7552634 ],\n",
       "       [1.94817328, 1.9291218 , 1.89167733, 1.84984213, 1.84035907],\n",
       "       [1.95183387, 1.89059927, 1.86962253, 1.792574  , 1.7825428 ],\n",
       "       [1.91857171, 1.84928713, 1.8085872 , 1.743809  , 1.72782687],\n",
       "       [1.92145124, 1.85126953, 1.80677447, 1.73830367, 1.73371853],\n",
       "       [1.90874882, 1.8381146 , 1.796453  , 1.7311938 , 1.7124608 ],\n",
       "       [1.90671985, 1.83266367, 1.78787407, 1.73019607, 1.71771867],\n",
       "       [1.92141383, 1.85865107, 1.805009  , 1.74271393, 1.74208793],\n",
       "       [1.92877413, 1.8478894 , 1.80424227, 1.74501907, 1.7297096 ],\n",
       "       [1.92492477, 1.85417827, 1.81270513, 1.74808953, 1.73769947],\n",
       "       [1.92417131, 1.85141847, 1.807628  , 1.7395082 , 1.7319292 ],\n",
       "       [1.91125797, 1.8611594 , 1.8136928 , 1.7445558 , 1.7346178 ],\n",
       "       [2.75595228, 2.75842528, 2.73442333, 2.71457456, 2.72231322]])"
      ]
     },
     "execution_count": 50,
     "metadata": {},
     "output_type": "execute_result"
    }
   ],
   "source": [
    "loglik_learn"
   ]
  },
  {
   "cell_type": "code",
   "execution_count": 17,
   "metadata": {},
   "outputs": [],
   "source": [
    "np.savetxt(direc + 'loglik_learn.csv',loglik_learn)"
   ]
  },
  {
   "cell_type": "code",
   "execution_count": 30,
   "metadata": {},
   "outputs": [
    {
     "data": {
      "text/plain": [
       "[('Main', 0.0),\n",
       " ('No noise', 0.1374275466666668),\n",
       " ('No feature drop', 0.03807253200000038),\n",
       " ('No pruning', 0.04542473600000041),\n",
       " ('No tree', 0.04234230666666683),\n",
       " ('No active scaling', 0.010909837333333838),\n",
       " ('No 3-in-a-row', 0.2659407333333337),\n",
       " ('No connected 2-in-a-row', 0.0975456800000003),\n",
       " ('No center', 0.09336138533333371),\n",
       " ('No 4-in-a-row', 0.020601453333333852),\n",
       " ('No unconnected 2-in-a-row', 0.020087444000000065),\n",
       " ('Optimal weights', 0.07886049600000034),\n",
       " ('Monte Carlo Tree Search', 0.044460266666666914),\n",
       " ('Tile dropping', -0.0033578453333329428),\n",
       " ('Fixed iterations', -0.00267073866666645),\n",
       " ('Fixed depth', -0.015580022666666693),\n",
       " ('Fixed branching', -0.017939763999999414),\n",
       " ('Orientation-dependent weights', 0.0010009253333336243),\n",
       " ('Orientation-dependent dropping', -0.0018473346666663115),\n",
       " ('Triangle', 0.0025452066666669104),\n",
       " ('Type-dependent dropping', -0.002043191999999916),\n",
       " ('Opponent scaling', 8.252666666708208e-05),\n",
       " ('Random-playout MCTS', 0.9241635066666669)]"
      ]
     },
     "execution_count": 30,
     "metadata": {},
     "output_type": "execute_result"
    }
   ],
   "source": [
    "list(zip(model_names,np.mean(loglik_learn,axis=1)-np.mean(loglik_learn[0])))"
   ]
  },
  {
   "cell_type": "code",
   "execution_count": 18,
   "metadata": {},
   "outputs": [
    {
     "data": {
      "text/plain": [
       "'C:/Users/svo/Google Drive/Bas Games/Analysis/loglik/'"
      ]
     },
     "execution_count": 18,
     "metadata": {},
     "output_type": "execute_result"
    }
   ],
   "source": [
    "direc"
   ]
  },
  {
   "cell_type": "code",
   "execution_count": 31,
   "metadata": {},
   "outputs": [],
   "source": [
    "def ave_across_splits(p):\n",
    "    if len(p.shape)==2:\n",
    "        return np.nanmean(np.reshape(p,[int(p.shape[0]/5),5,int(p.shape[1])]),axis=1)\n",
    "    elif len(p.shape)==1:\n",
    "        return np.nanmean(np.reshape(p,[int(p.shape[0]/5),5]),axis=1)\n",
    "    else:\n",
    "        return np.nan\n",
    "\n",
    "#data_sets = ['hvh','gen','eye','learn1','learn2','learn3','tai1','tai2']\n",
    "data_sets = ['learn1','learn2','learn3']\n",
    "loglik_all = [[ave_across_splits(get_data(direc + 'loglik_' + d + '_' + m + '.txt')) \n",
    "                      for m in models] for d in data_sets]"
   ]
  },
  {
   "cell_type": "code",
   "execution_count": 32,
   "metadata": {},
   "outputs": [
    {
     "data": {
      "image/png": "[encoded data removed]",
      "text/plain": [
       "<Figure size 432x288 with 1 Axes>"
      ]
     },
     "metadata": {
      "needs_background": "light"
     },
     "output_type": "display_data"
    },
    {
     "name": "stdout",
     "output_type": "stream",
     "text": [
      "(150, 1)\n",
      "Ttest_1sampResult(statistic=array([6.67273126]), pvalue=array([4.6232001e-10]))\n"
     ]
    }
   ],
   "source": [
    "L_treeminusnotree = 160*ave_across_splits(np.hstack([get_data(direc + 'loglik_' + d + '_final_notree.txt') - \n",
    "                                                 get_data(direc + 'loglik_' + d + '_final.txt')                               \n",
    "                                                 for d in data_sets])[:,None])\n",
    "plt.hist(L_treeminusnotree,50)\n",
    "plt.axvline(x=0,linestyle='dashed',color='black')\n",
    "plt.savefig('Tree-minus-notree.pdf')\n",
    "plt.show()\n",
    "print(L_treeminusnotree.shape)\n",
    "import scipy.stats as sts\n",
    "print(sts.ttest_1samp(L_treeminusnotree,popmean=0))"
   ]
  },
  {
   "cell_type": "code",
   "execution_count": 33,
   "metadata": {},
   "outputs": [
    {
     "name": "stdout",
     "output_type": "stream",
     "text": [
      "0.09754568 0.005247281466091178\n"
     ]
    }
   ],
   "source": [
    "L_mainminusno2conn = ave_across_splits(np.hstack([get_data(direc + 'loglik_' + d + '_final_no2conn.txt') - \n",
    "                                                 get_data(direc + 'loglik_' + d + '_final.txt')                               \n",
    "                                                 for d in data_sets])[:,None])\n",
    "print(np.mean(L_mainminusno2conn),np.std(L_mainminusno2conn)/np.sqrt(L_mainminusno2conn.shape[0]))"
   ]
  },
  {
   "cell_type": "code",
   "execution_count": 34,
   "metadata": {},
   "outputs": [
    {
     "ename": "ValueError",
     "evalue": "cannot reshape array of size 0 into shape (30,5)",
     "output_type": "error",
     "traceback": [
      "\u001b[1;31m---------------------------------------------------------------------------\u001b[0m",
      "\u001b[1;31mValueError\u001b[0m                                Traceback (most recent call last)",
      "\u001b[1;32m<ipython-input-34-8a8d6b09a303>\u001b[0m in \u001b[0;36m<module>\u001b[1;34m\u001b[0m\n\u001b[1;32m----> 1\u001b[1;33m \u001b[0mx\u001b[0m\u001b[1;33m=\u001b[0m\u001b[0mnp\u001b[0m\u001b[1;33m.\u001b[0m\u001b[0mreshape\u001b[0m\u001b[1;33m(\u001b[0m\u001b[0mL_treeminusnotree\u001b[0m\u001b[1;33m[\u001b[0m\u001b[1;36m90\u001b[0m\u001b[1;33m:\u001b[0m\u001b[1;33m-\u001b[0m\u001b[1;36m90\u001b[0m\u001b[1;33m]\u001b[0m\u001b[1;33m/\u001b[0m\u001b[1;36m160\u001b[0m\u001b[1;33m,\u001b[0m\u001b[1;33m[\u001b[0m\u001b[1;36m30\u001b[0m\u001b[1;33m,\u001b[0m\u001b[1;36m5\u001b[0m\u001b[1;33m]\u001b[0m\u001b[1;33m)\u001b[0m\u001b[1;33m\u001b[0m\u001b[1;33m\u001b[0m\u001b[0m\n\u001b[0m\u001b[0;32m      2\u001b[0m \u001b[0mplt\u001b[0m\u001b[1;33m.\u001b[0m\u001b[0mplot\u001b[0m\u001b[1;33m(\u001b[0m\u001b[0mx\u001b[0m\u001b[1;33m.\u001b[0m\u001b[0mT\u001b[0m\u001b[1;33m,\u001b[0m\u001b[1;34m'.-'\u001b[0m\u001b[1;33m,\u001b[0m\u001b[0mcolor\u001b[0m\u001b[1;33m=\u001b[0m\u001b[1;34m'gray'\u001b[0m\u001b[1;33m)\u001b[0m\u001b[1;33m\u001b[0m\u001b[1;33m\u001b[0m\u001b[0m\n\u001b[0;32m      3\u001b[0m \u001b[0mplt\u001b[0m\u001b[1;33m.\u001b[0m\u001b[0merrorbar\u001b[0m\u001b[1;33m(\u001b[0m\u001b[0mrange\u001b[0m\u001b[1;33m(\u001b[0m\u001b[1;36m5\u001b[0m\u001b[1;33m)\u001b[0m\u001b[1;33m,\u001b[0m\u001b[0mnp\u001b[0m\u001b[1;33m.\u001b[0m\u001b[0mmean\u001b[0m\u001b[1;33m(\u001b[0m\u001b[0mx\u001b[0m\u001b[1;33m,\u001b[0m\u001b[0maxis\u001b[0m\u001b[1;33m=\u001b[0m\u001b[1;36m0\u001b[0m\u001b[1;33m)\u001b[0m\u001b[1;33m,\u001b[0m\u001b[0mnp\u001b[0m\u001b[1;33m.\u001b[0m\u001b[0mstd\u001b[0m\u001b[1;33m(\u001b[0m\u001b[0mx\u001b[0m\u001b[1;33m,\u001b[0m\u001b[0maxis\u001b[0m\u001b[1;33m=\u001b[0m\u001b[1;36m0\u001b[0m\u001b[1;33m)\u001b[0m\u001b[1;33m/\u001b[0m\u001b[0mnp\u001b[0m\u001b[1;33m.\u001b[0m\u001b[0msqrt\u001b[0m\u001b[1;33m(\u001b[0m\u001b[1;36m30\u001b[0m\u001b[1;33m)\u001b[0m\u001b[1;33m,\u001b[0m\u001b[0mcolor\u001b[0m\u001b[1;33m=\u001b[0m\u001b[1;34m'black'\u001b[0m\u001b[1;33m)\u001b[0m\u001b[1;33m\u001b[0m\u001b[1;33m\u001b[0m\u001b[0m\n\u001b[0;32m      4\u001b[0m \u001b[0mplt\u001b[0m\u001b[1;33m.\u001b[0m\u001b[0mshow\u001b[0m\u001b[1;33m(\u001b[0m\u001b[1;33m)\u001b[0m\u001b[1;33m\u001b[0m\u001b[1;33m\u001b[0m\u001b[0m\n",
      "\u001b[1;32m~\\AppData\\Local\\Continuum\\anaconda3\\lib\\site-packages\\numpy\\core\\fromnumeric.py\u001b[0m in \u001b[0;36mreshape\u001b[1;34m(a, newshape, order)\u001b[0m\n\u001b[0;32m    290\u001b[0m            [5, 6]])\n\u001b[0;32m    291\u001b[0m     \"\"\"\n\u001b[1;32m--> 292\u001b[1;33m     \u001b[1;32mreturn\u001b[0m \u001b[0m_wrapfunc\u001b[0m\u001b[1;33m(\u001b[0m\u001b[0ma\u001b[0m\u001b[1;33m,\u001b[0m \u001b[1;34m'reshape'\u001b[0m\u001b[1;33m,\u001b[0m \u001b[0mnewshape\u001b[0m\u001b[1;33m,\u001b[0m \u001b[0morder\u001b[0m\u001b[1;33m=\u001b[0m\u001b[0morder\u001b[0m\u001b[1;33m)\u001b[0m\u001b[1;33m\u001b[0m\u001b[1;33m\u001b[0m\u001b[0m\n\u001b[0m\u001b[0;32m    293\u001b[0m \u001b[1;33m\u001b[0m\u001b[0m\n\u001b[0;32m    294\u001b[0m \u001b[1;33m\u001b[0m\u001b[0m\n",
      "\u001b[1;32m~\\AppData\\Local\\Continuum\\anaconda3\\lib\\site-packages\\numpy\\core\\fromnumeric.py\u001b[0m in \u001b[0;36m_wrapfunc\u001b[1;34m(obj, method, *args, **kwds)\u001b[0m\n\u001b[0;32m     54\u001b[0m \u001b[1;32mdef\u001b[0m \u001b[0m_wrapfunc\u001b[0m\u001b[1;33m(\u001b[0m\u001b[0mobj\u001b[0m\u001b[1;33m,\u001b[0m \u001b[0mmethod\u001b[0m\u001b[1;33m,\u001b[0m \u001b[1;33m*\u001b[0m\u001b[0margs\u001b[0m\u001b[1;33m,\u001b[0m \u001b[1;33m**\u001b[0m\u001b[0mkwds\u001b[0m\u001b[1;33m)\u001b[0m\u001b[1;33m:\u001b[0m\u001b[1;33m\u001b[0m\u001b[1;33m\u001b[0m\u001b[0m\n\u001b[0;32m     55\u001b[0m     \u001b[1;32mtry\u001b[0m\u001b[1;33m:\u001b[0m\u001b[1;33m\u001b[0m\u001b[1;33m\u001b[0m\u001b[0m\n\u001b[1;32m---> 56\u001b[1;33m         \u001b[1;32mreturn\u001b[0m \u001b[0mgetattr\u001b[0m\u001b[1;33m(\u001b[0m\u001b[0mobj\u001b[0m\u001b[1;33m,\u001b[0m \u001b[0mmethod\u001b[0m\u001b[1;33m)\u001b[0m\u001b[1;33m(\u001b[0m\u001b[1;33m*\u001b[0m\u001b[0margs\u001b[0m\u001b[1;33m,\u001b[0m \u001b[1;33m**\u001b[0m\u001b[0mkwds\u001b[0m\u001b[1;33m)\u001b[0m\u001b[1;33m\u001b[0m\u001b[1;33m\u001b[0m\u001b[0m\n\u001b[0m\u001b[0;32m     57\u001b[0m \u001b[1;33m\u001b[0m\u001b[0m\n\u001b[0;32m     58\u001b[0m     \u001b[1;31m# An AttributeError occurs if the object does not have\u001b[0m\u001b[1;33m\u001b[0m\u001b[1;33m\u001b[0m\u001b[1;33m\u001b[0m\u001b[0m\n",
      "\u001b[1;31mValueError\u001b[0m: cannot reshape array of size 0 into shape (30,5)"
     ]
    }
   ],
   "source": [
    "x=np.reshape(L_treeminusnotree[90:-90]/160,[30,5])\n",
    "plt.plot(x.T,'.-',color='gray')\n",
    "plt.errorbar(range(5),np.mean(x,axis=0),np.std(x,axis=0)/np.sqrt(30),color='black')\n",
    "plt.show()"
   ]
  },
  {
   "cell_type": "code",
   "execution_count": 35,
   "metadata": {},
   "outputs": [
    {
     "data": {
      "text/plain": [
       "(3, 23, 50)"
      ]
     },
     "execution_count": 35,
     "metadata": {},
     "output_type": "execute_result"
    }
   ],
   "source": [
    "np.array(loglik_all).shape"
   ]
  },
  {
   "cell_type": "code",
   "execution_count": 40,
   "metadata": {},
   "outputs": [],
   "source": [
    "loglik_big = [np.hstack([ave_across_splits(get_data(direc + 'loglik_' + d + '_'+ m +'.txt')) \n",
    "                                      for d in data_sets]) for m in models]\n",
    "loglik_sem = [np.nanstd(l)/np.sqrt(150) for l in loglik_big]"
   ]
  },
  {
   "cell_type": "code",
   "execution_count": 45,
   "metadata": {},
   "outputs": [
    {
     "data": {
      "text/plain": [
       "[0.02232617915126972,\n",
       " 0.0196299952436744,\n",
       " 0.023440723231729958,\n",
       " 0.023347025782101908,\n",
       " 0.02178823971805926,\n",
       " 0.02198655983427648,\n",
       " 0.022838987640087686,\n",
       " 0.020410714097935802,\n",
       " 0.020164621728562853,\n",
       " 0.02216195757524506,\n",
       " 0.023079615129784015,\n",
       " 0.01952575100498214,\n",
       " 0.02056974630287403,\n",
       " 0.022156693483644196,\n",
       " 0.021794989850822667,\n",
       " 0.02253840307998863,\n",
       " 0.022075915914268253,\n",
       " 0.022254360106950106,\n",
       " 0.022573791421270317,\n",
       " 0.021981879846985925,\n",
       " 0.022553945994242004,\n",
       " 0.021633622110405287,\n",
       " 0.010550381728010405]"
      ]
     },
     "execution_count": 45,
     "metadata": {},
     "output_type": "execute_result"
    }
   ],
   "source": [
    "loglik_sem"
   ]
  },
  {
   "cell_type": "code",
   "execution_count": 57,
   "metadata": {},
   "outputs": [
    {
     "data": {
      "image/png": "[encoded data removed]",
      "text/plain": [
       "<Figure size 432x288 with 1 Axes>"
      ]
     },
     "metadata": {
      "needs_background": "light"
     },
     "output_type": "display_data"
    }
   ],
   "source": [
    "fig, ax = plt.subplots()\n",
    "\n",
    "loglik=loglik_tai\n",
    "\n",
    "loglik_main = -np.mean(loglik[0,:])\n",
    "loglik_diff = -np.mean(loglik,axis=1) - loglik_main\n",
    "\n",
    "ax.set_ylim([0.5,len(model_names)+0.5])\n",
    "ax.set_xlim([-2.3,-1.9])\n",
    "ax.set_yticks(range(len(model_names),0,-1))\n",
    "ax.set_yticklabels(model_names)\n",
    "ax.barh(range(len(model_names),0,-1), loglik_diff, xerr = loglik_sem, height = 0.7, align='center',\n",
    "     color=model_colors, ecolor='black', left=loglik_main)\n",
    "ax.plot(loglik_main,len(model_names),'.k')\n",
    "ax.axvline(x=loglik_main, color='black')\n",
    "ax.axhline(y=22.5, color='black', linestyle = 'dashed')\n",
    "ax.axhline(y=17.5, color='black', linestyle = 'dashed')\n",
    "ax.axhline(y=12.5, color='black', linestyle = 'dashed')\n",
    "ax.axhline(y=6.5, color='black', linestyle = 'dashed')\n",
    "ax.axhline(y=1.5, color='black', linestyle = 'dashed')\n",
    "ax.yaxis.tick_right()\n",
    "ax.spines['left'].set_visible(False)\n",
    "ax.spines['top'].set_visible(False)\n",
    "ax.set_xlim([-2.8,-2.0])\n",
    "ax.text(-2.8,23, 'Lesions: features', ha ='left', va='bottom')\n",
    "ax.text(-2.8,18, 'Lesions: components', ha ='left', va='bottom')\n",
    "ax.text(-2.8,13, 'Modifications', ha ='left', va='bottom')\n",
    "ax.text(-2.8,7, 'Extensions', ha ='left', va='bottom')\n",
    "ax.text(-2.8,2, 'Controls', ha ='left', va='bottom')\n",
    "ax.text(0, 0.95, 'A', horizontalalignment='left',\n",
    "        verticalalignment='center', transform=fig.transFigure, fontsize = 20)\n",
    "\n",
    "fig.tight_layout()\n",
    "fig.savefig(direc + 'loglik_rep_A.pdf')\n",
    "plt.show()\n"
   ]
  },
  {
   "cell_type": "code",
   "execution_count": 10,
   "metadata": {},
   "outputs": [
    {
     "ename": "NameError",
     "evalue": "name 'loglik' is not defined",
     "output_type": "error",
     "traceback": [
      "\u001b[1;31m---------------------------------------------------------------------------\u001b[0m",
      "\u001b[1;31mNameError\u001b[0m                                 Traceback (most recent call last)",
      "\u001b[1;32m<ipython-input-10-d66186c0f5c8>\u001b[0m in \u001b[0;36m<module>\u001b[1;34m\u001b[0m\n\u001b[1;32m----> 1\u001b[1;33m \u001b[0mloglik\u001b[0m\u001b[1;33m\u001b[0m\u001b[1;33m\u001b[0m\u001b[0m\n\u001b[0m",
      "\u001b[1;31mNameError\u001b[0m: name 'loglik' is not defined"
     ]
    }
   ],
   "source": [
    "loglik"
   ]
  },
  {
   "cell_type": "code",
   "execution_count": null,
   "metadata": {},
   "outputs": [],
   "source": [
    "letters = ['B','C','D','E','F','G','H','I','J','K','L']\n",
    "\n",
    "for i,letter in enumerate(letters):\n",
    "    fig, ax = plt.subplots()\n",
    "    \n",
    "    loglik_main = -loglik[0,i]\n",
    "    loglik_diff = -loglik[:,i] - loglik_main\n",
    "\n",
    "    ax.set_ylim([0.5,len(model_names)+0.5])\n",
    "    ax.set_yticks(range(len(model_names),0,-1))\n",
    "    ax.set_yticklabels(model_names)\n",
    "    ax.barh(range(len(model_names),0,-1), loglik_diff, height = 0.7, align='center',\n",
    "         color=model_colors, ecolor='black', left=loglik_main)\n",
    "    ax.plot(loglik_main,len(model_names),'.k')\n",
    "    ax.axvline(x=loglik_main, color='black')\n",
    "    ax.axhline(y=22.5, color='black', linestyle = 'dashed')\n",
    "    ax.axhline(y=17.5, color='black', linestyle = 'dashed')\n",
    "    ax.axhline(y=12.5, color='black', linestyle = 'dashed')\n",
    "    ax.axhline(y=6.5, color='black', linestyle = 'dashed')\n",
    "    ax.axhline(y=1.5, color='black', linestyle = 'dashed')\n",
    "    ax.yaxis.tick_right()\n",
    "    ax.spines['left'].set_visible(False)\n",
    "    ax.spines['top'].set_visible(False)\n",
    "    ax.set_xlim([-2.8,-1.7])\n",
    "    ax.text(-2.8,23, 'Lesions: features', ha ='left', va='bottom')\n",
    "    ax.text(-2.8,18, 'Lesions: components', ha ='left', va='bottom')\n",
    "    ax.text(-2.8,13, 'Modifications', ha ='left', va='bottom')\n",
    "    ax.text(-2.8,7, 'Extensions', ha ='left', va='bottom')\n",
    "    ax.text(-2.8,2, 'Controls', ha ='left', va='bottom')\n",
    "    ax.text(0, 0.95, letter, horizontalalignment='left',\n",
    "            verticalalignment='center', transform=fig.transFigure, fontsize = 20)\n",
    "    fig.tight_layout()\n",
    "    fig.savefig(fig_direc + 'loglik_rep_' + letter + '.png')\n",
    "    plt.show()\n"
   ]
  },
  {
   "cell_type": "code",
   "execution_count": null,
   "metadata": {},
   "outputs": [],
   "source": [
    "c = np.array([[stats.spearmanr(loglik[:,i],loglik[:,j],nan_policy='omit').correlation \n",
    "               for i in range(loglik.shape[1])] for j in range(loglik.shape[1])])\n",
    "\n",
    "data_names= ['Human-vs-human','Generalization','Eye tracking','Learning session 1',\n",
    "             'Learning session 2','Learning session 3','Learning session 4','Learning session 5',\n",
    "             'Time pressure 5-second','Time pressure 10-second','Time pressure 20-second']\n",
    "\n"
   ]
  },
  {
   "cell_type": "code",
   "execution_count": null,
   "metadata": {},
   "outputs": [],
   "source": [
    "fig, ax = plt.subplots()\n",
    "\n",
    "cax = ax.imshow(c,interpolation='nearest',cmap='Reds',vmin=0,vmax=1)\n",
    "\n",
    "ax.set_xticks(range(len(data_names)))\n",
    "ax.set_yticks(range(len(data_names)))\n",
    "ax.set_yticklabels(data_names)\n",
    "ax.set_xticklabels(data_names,rotation=60,ha='right')\n",
    "cbar = fig.colorbar(cax, ticks=[0, 0.5, 1])\n",
    "fig.tight_layout()\n",
    "ax.text(0.2, 0.9, 'A', horizontalalignment='left',\n",
    "        verticalalignment='center', transform=fig.transFigure, fontsize = 20)\n",
    "fig.savefig(fig_direc + 'loglik_corr_A.pdf')\n",
    "plt.show()\n",
    "\n",
    "print(np.mean(c[np.triu_indices(11,1)]),np.std(c[np.triu_indices(11,1)])/np.sqrt(10*11/2))"
   ]
  },
  {
   "cell_type": "code",
   "execution_count": null,
   "metadata": {},
   "outputs": [],
   "source": [
    "color_names = ['','#E5711E','#E6AC27','#B1D7DB','#7AB6B0','#4C8F7D','#2A654A',\n",
    "               '#11321E','#FFAC9A','#F85D5F','#9B1A30']    \n",
    "    \n",
    "fig, ax = plt.subplots(figsize=(8,6))\n",
    "for i in range(1,len(data_names)):\n",
    "    ax.plot(-loglik[:,0],-loglik[:,i],'.',label=data_names[i],color = color_names[i],markersize =8)\n",
    "    \n",
    "ax.set_xlim([-2.8,-1.9])\n",
    "ax.set_ylim([-3,-1.6])\n",
    "ax.set_xlabel('Log-likelihood on \\nhuman-vs-human data',fontsize = 20)\n",
    "ax.set_ylabel('Log-likelihood on \\nhuman-vs-computer data',fontsize = 20)\n",
    "#ax.text(0.02, 0.9, 'B', horizontalalignment='left',\n",
    "#        verticalalignment='center', transform=fig.transFigure, fontsize = 20)\n",
    "ax.spines['top'].set_visible(False)\n",
    "ax.spines['right'].set_visible(False)\n",
    "\n",
    "plt.legend(frameon=False,fontsize = 14)\n",
    "\n",
    "fig.tight_layout()\n",
    "fig.savefig(fig_direc + 'loglik_corr_B.png')\n",
    "plt.show()\n"
   ]
  },
  {
   "cell_type": "code",
   "execution_count": null,
   "metadata": {},
   "outputs": [],
   "source": [
    "color_names = ['','#E5711E','#E6AC27','#B1D7DB','#7AB6B0','#4C8F7D','#2A654A',\n",
    "               '#11321E','#FFAC9A','#F85D5F','#9B1A30']    \n",
    "    \n",
    "fig, ax = plt.subplots(figsize=(8,6))\n",
    "for i in range(1,2):#len(data_names)):\n",
    "    ax.plot(-loglik[:,0],-loglik[:,i],'.',label=data_names[i],color = color_names[i],markersize =8)\n",
    "    \n",
    "ax.set_xlim([-2.8,-1.9])\n",
    "ax.set_ylim([-3,-1.6])\n",
    "ax.set_xlabel('Log-likelihood on \\nhuman-vs-human data',fontsize = 20)\n",
    "ax.set_ylabel('Log-likelihood on \\nhuman-vs-computer data',fontsize = 20)\n",
    "#ax.text(0.02, 0.9, 'B', horizontalalignment='left',\n",
    "#        verticalalignment='center', transform=fig.transFigure, fontsize = 20)\n",
    "ax.spines['top'].set_visible(False)\n",
    "ax.spines['right'].set_visible(False)\n",
    "\n",
    "#plt.legend(frameon=False)\n",
    "\n",
    "fig.tight_layout()\n",
    "fig.savefig(fig_direc + 'loglik_corr_generalization.png')\n",
    "plt.show()"
   ]
  },
  {
   "cell_type": "code",
   "execution_count": null,
   "metadata": {},
   "outputs": [],
   "source": [
    "fig, ax = plt.subplots()\n",
    "for i,col in enumerate(model_colors):\n",
    "    ax.plot(range(1,6),(loglik_learn[0,:]-loglik_learn[i,:]).T,'.-',color=col)\n",
    "ax.set_xlabel('Learning session')\n",
    "ax.set_ylabel('Log-likelihood difference with\\nmain model')\n",
    "ax.set_xticks(range(1,6))\n",
    "ax.text(0.02, 0.9, 'A', horizontalalignment='left',\n",
    "        verticalalignment='center', transform=fig.transFigure, fontsize = 20)\n",
    "ax.spines['top'].set_visible(False)\n",
    "ax.spines['right'].set_visible(False)\n",
    "fig.tight_layout()\n",
    "fig.savefig(fig_direc + 'loglik_learn_A.pdf')\n",
    "plt.show()"
   ]
  },
  {
   "cell_type": "code",
   "execution_count": null,
   "metadata": {},
   "outputs": [],
   "source": [
    "loglik_learn.shape"
   ]
  },
  {
   "cell_type": "code",
   "execution_count": null,
   "metadata": {},
   "outputs": [],
   "source": [
    "fig, ax = plt.subplots()\n",
    "for i,col in enumerate(model_colors):\n",
    "    ax.plot(range(1,6),(loglik_learn[i,0]-loglik_learn[i,:]).T,'.-',color=col)\n",
    "ax.set_xlabel('Learning session')\n",
    "ax.set_ylabel('Log-likelihood difference with\\nfirst session')\n",
    "ax.set_xticks(range(1,6))\n",
    "ax.text(0.02, 0.9, 'B', horizontalalignment='left',\n",
    "        verticalalignment='center', transform=fig.transFigure, fontsize = 20)\n",
    "ax.spines['top'].set_visible(False)\n",
    "ax.spines['right'].set_visible(False)\n",
    "\n",
    "fig.tight_layout()\n",
    "fig.savefig(fig_direc + 'loglik_learn_B.pdf')\n",
    "plt.show()"
   ]
  },
  {
   "cell_type": "code",
   "execution_count": null,
   "metadata": {},
   "outputs": [],
   "source": [
    "fig, ax = plt.subplots()\n",
    "for i,col in enumerate(model_colors):\n",
    "    ax.plot([5,10,20],(loglik_tai[0,:]-loglik_tai[i,:]).T,'.-',color=col)\n",
    "ax.set_xlabel('Time constraint (s)')\n",
    "ax.set_ylabel('Log-likelihood difference with\\nmain model')\n",
    "ax.set_xticks([5,10,20])\n",
    "ax.text(0.02, 0.9, 'C', horizontalalignment='left',\n",
    "        verticalalignment='center', transform=fig.transFigure, fontsize = 20)\n",
    "ax.spines['top'].set_visible(False)\n",
    "ax.spines['right'].set_visible(False)\n",
    "\n",
    "fig.tight_layout()\n",
    "fig.savefig(fig_direc + 'loglik_tai_A.pdf')\n",
    "plt.show()"
   ]
  },
  {
   "cell_type": "code",
   "execution_count": null,
   "metadata": {},
   "outputs": [],
   "source": [
    "fig, ax = plt.subplots()\n",
    "for i,col in enumerate(model_colors):\n",
    "    ax.plot([5,10,20],(loglik_tai[i,0]-loglik_tai[i,:]).T,'.-',color=col)\n",
    "ax.set_xlabel('Time constraint (s)')\n",
    "ax.set_ylabel('Log-likelihood difference with\\n5-second condition')\n",
    "ax.set_xticks([5,10,20])\n",
    "ax.text(0.02, 0.9, 'D', horizontalalignment='left',\n",
    "        verticalalignment='center', transform=fig.transFigure, fontsize = 20)\n",
    "ax.spines['top'].set_visible(False)\n",
    "ax.spines['right'].set_visible(False)\n",
    "\n",
    "fig.tight_layout()\n",
    "fig.savefig(fig_direc + 'loglik_tai_B.pdf')\n",
    "plt.show()"
   ]
  },
  {
   "cell_type": "code",
   "execution_count": null,
   "metadata": {},
   "outputs": [],
   "source": [
    "fig, ax = plt.subplots()\n",
    "ax.plot(range(1,6),(loglik_learn[0,:]-loglik_learn[4,:]),'.-')\n",
    "ax.set_xlabel('Learning session')\n",
    "ax.set_ylabel('Log-likelihood difference with main model')\n",
    "\n",
    "ax.set_xticks(range(1,6))\n",
    "fig.tight_layout()\n",
    "plt.show()"
   ]
  },
  {
   "cell_type": "code",
   "execution_count": null,
   "metadata": {},
   "outputs": [],
   "source": []
  },
  {
   "cell_type": "code",
   "execution_count": null,
   "metadata": {},
   "outputs": [],
   "source": []
  }
 ],
 "metadata": {
  "anaconda-cloud": {},
  "kernelspec": {
   "display_name": "Python 3",
   "language": "python",
   "name": "python3"
  },
  "language_info": {
   "codemirror_mode": {
    "name": "ipython",
    "version": 3
   },
   "file_extension": ".py",
   "mimetype": "text/x-python",
   "name": "python",
   "nbconvert_exporter": "python",
   "pygments_lexer": "ipython3",
   "version": "3.7.1"
  }
 },
 "nbformat": 4,
 "nbformat_minor": 4
}
