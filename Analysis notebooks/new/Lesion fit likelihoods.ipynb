{
 "cells": [
  {
   "cell_type": "code",
   "execution_count": 42,
   "metadata": {},
   "outputs": [],
   "source": [
    "import os\n",
    "import re\n",
    "import math\n",
    "import matplotlib.pyplot as plt\n",
    "import pandas as pd\n",
    "from statistics import mean\n",
    "\n",
    "datadir = \"../data/\"\n",
    "data = pd.read_csv(datadir + \"SubjectAge.csv\")\n",
    "bins = [7, 12, 17, 25]\n",
    "ageBinrNr2Value = {0: 10, 1: 15, 2:21}\n",
    "data['ageBin'] = pd.cut(data['FlooredAge'], bins)\n",
    "data['ageBinNr'] = data['ageBin'].cat.codes\n",
    "data['ageBinValue'] = data.apply(lambda row: ageBinrNr2Value.get(row['ageBinNr'], 0), axis = 1)"
   ]
  },
  {
   "cell_type": "code",
   "execution_count": 43,
   "metadata": {},
   "outputs": [],
   "source": [
    "def read_subject_nlls(data_folder):\n",
    "    subject_nlls = {}\n",
    "    for subject_id in os.listdir(data_folder):\n",
    "        subdir = os.path.join(data_folder, subject_id)\n",
    "        if not os.path.isdir(subdir):\n",
    "            # We're looking for directories only. Skip everything else\n",
    "            continue\n",
    "        fold_nlls = []\n",
    "        # Get nlls for all the folds\n",
    "        for filename in os.listdir(subdir):\n",
    "            filepath = os.path.join(subdir, filename)\n",
    "            match = re.match(\"lltest\\\\d+\\\\.csv\", filename)\n",
    "            if not os.path.isfile(filepath) or not match:\n",
    "                # Skip any file that doesn't fit the pattern\n",
    "                continue\n",
    "            for line in open(filepath):\n",
    "                fold_nlls.append(float(line))\n",
    "        # Use the average nll over all moves\n",
    "        if len(fold_nlls) > 0:\n",
    "            subject_nlls[subject_id.split(\"-\")[0]] = mean(fold_nlls)\n",
    "    return subject_nlls\n",
    "\n",
    "def get_diffs(model1, model2, label):\n",
    "    diffs = []\n",
    "    missing = max(0, len(model2) - len(model1))\n",
    "    for key in model1:\n",
    "        if not key in model2:\n",
    "            missing += 1\n",
    "        else:\n",
    "            diffs.append(model1[key] - model2[key])\n",
    "    if missing != 0:\n",
    "        print(f\"Could only find {len(diffs)} differences for {label}. Subjects: {len(model1)} vs {len(model2)}\")\n",
    "    return diffs"
   ]
  },
  {
   "cell_type": "code",
   "execution_count": 44,
   "metadata": {},
   "outputs": [
    {
     "name": "stdout",
     "output_type": "stream",
     "text": [
      "Read 158 nlls in ../data/fit_main\n",
      "Read 158 nlls in ../data/fit_no_feature_drop\n",
      "Read 158 nlls in ../data/fit_no_prune\n",
      "Read 158 nlls in ../data/fit_no_tree\n",
      "Read 158 nlls in ../data/fit_no_scale\n",
      "Read 158 nlls in ../data/fit_no_3_row\n",
      "Read 158 nlls in ../data/fit_no_2_con\n",
      "Read 158 nlls in ../data/fit_no_center\n",
      "Read 158 nlls in ../data/fit_no_4_row\n",
      "Read 158 nlls in ../data/fit_no_2_unc\n"
     ]
    }
   ],
   "source": [
    "def add_model(data, names, folder, name):\n",
    "    subject_data = read_subject_nlls(folder)\n",
    "    data[name] = data[\"StudyID\"].map(subject_data)\n",
    "    names.append(name)\n",
    "    print(f\"Read {len(data)} nlls in {folder}\")\n",
    "\n",
    "model_names = []\n",
    "\n",
    "add_model(data, model_names, \"../data/fit_main\", \"Main\")\n",
    "#add_model(data, model_names, \"../data/fit_no_noise\", \"No noise\")\n",
    "add_model(data, model_names, \"../data/fit_no_feature_drop\", \"No feature drop\")\n",
    "add_model(data, model_names, \"../data/fit_no_prune\", \"No pruning\")\n",
    "add_model(data, model_names, \"../data/fit_no_tree\", \"No tree\")\n",
    "add_model(data, model_names, \"../data/fit_no_scale\", \"No active scaling\")\n",
    "add_model(data, model_names, \"../data/fit_no_3_row\", \"No 3-in-a-row\")\n",
    "add_model(data, model_names, \"../data/fit_no_2_con\", \"No connected 2-in-a-row\")\n",
    "add_model(data, model_names, \"../data/fit_no_center\", \"No center\")\n",
    "add_model(data, model_names, \"../data/fit_no_4_row\", \"No 4-in-a-row\")\n",
    "add_model(data, model_names, \"../data/fit_no_2_unc\", \"No unconnected 2-in-a-row\")"
   ]
  },
  {
   "cell_type": "code",
   "execution_count": 45,
   "metadata": {},
   "outputs": [],
   "source": [
    "def make_plot(data, model_colors):\n",
    "    fig, ax = plt.subplots()\n",
    "    \n",
    "    compareToModel = \"Main\"\n",
    "    myFontSize = 12\n",
    "    \n",
    "    loglik_main = -data[compareToModel].mean()\n",
    "    loglik_diff = []\n",
    "    loglik_sem  = []\n",
    "    for model_name in model_names:\n",
    "        diffs = data[compareToModel] - data[model_name]\n",
    "        loglik_diff.append(diffs.mean())\n",
    "        loglik_sem.append(diffs.std() / math.sqrt(len(diffs)))\n",
    "\n",
    "    domain = [-2.55,-2.0]\n",
    "\n",
    "    def markSection(ax, label, x, y):\n",
    "        ax.axhline(y = y-0.5, color='black', linestyle = 'dashed')\n",
    "        ax.text(x, y, label, ha ='left', va='bottom', fontsize=myFontSize)\n",
    "\n",
    "    ax.set_ylim([0.5,len(model_names)+0.5])\n",
    "    ax.set_yticks(range(len(model_names),0,-1))\n",
    "    ax.set_yticklabels(model_names, fontsize = myFontSize)\n",
    "    ax.xaxis.set_tick_params(labelsize = myFontSize)\n",
    "    ax.barh(range(len(model_names),0,-1), loglik_diff,\n",
    "            xerr = loglik_sem,\n",
    "            height = 0.5, align='center',\n",
    "            color = model_colors, ecolor='black', left=loglik_main)\n",
    "    ax.plot(loglik_main, len(model_names),'.k')\n",
    "    ax.axvline(x=loglik_main, color='black')\n",
    "    markSection(ax, 'Lesions: components', domain[0], 11)\n",
    "    markSection(ax, 'Lesions: features', domain[0], 6)\n",
    "    ax.yaxis.tick_right()\n",
    "    ax.spines['left'].set_visible(False)\n",
    "    ax.spines['top'].set_visible(False)\n",
    "    ax.set_xlim(domain)\n",
    "\n",
    "    # fig.tight_layout()\n",
    "    # fig.savefig(direc + 'loglik_rep_A.pdf')\n",
    "    #plt.show()\n",
    "    ax.figure.savefig(\"../data/lesion_adol.pdf\", dpi=300, bbox_inches='tight')"
   ]
  },
  {
   "cell_type": "code",
   "execution_count": 46,
   "metadata": {},
   "outputs": [
    {
     "data": {
      "image/png": "[encoded data removed]",
      "text/plain": [
       "<Figure size 432x288 with 1 Axes>"
      ]
     },
     "metadata": {
      "needs_background": "light"
     },
     "output_type": "display_data"
    }
   ],
   "source": [
    "make_plot(data,['black'] + ['#a5a5a5'] * 10)\n"
   ]
  },
  {
   "cell_type": "code",
   "execution_count": 47,
   "metadata": {},
   "outputs": [],
   "source": [
    "data = data.dropna() \n",
    "datachild = data[data[\"ageBinNr\"] == 0]\n",
    "dataadoles = data[data[\"ageBinNr\"] == 1]\n",
    "dataadult = data[data[\"ageBinNr\"] == 2]"
   ]
  },
  {
   "cell_type": "code",
   "execution_count": 48,
   "metadata": {},
   "outputs": [
    {
     "data": {
      "image/png": "[encoded data removed]",
      "text/plain": [
       "<Figure size 432x288 with 1 Axes>"
      ]
     },
     "metadata": {
      "needs_background": "light"
     },
     "output_type": "display_data"
    }
   ],
   "source": [
    "make_plot(datachild, ['black'] + ['#7DE3AC'] * 10)\n"
   ]
  },
  {
   "cell_type": "code",
   "execution_count": 49,
   "metadata": {},
   "outputs": [
    {
     "data": {
      "image/png": "[encoded data removed]",
      "text/plain": [
       "<Figure size 432x288 with 1 Axes>"
      ]
     },
     "metadata": {
      "needs_background": "light"
     },
     "output_type": "display_data"
    }
   ],
   "source": [
    "make_plot(dataadoles, ['black'] + ['#129951'] * 10)"
   ]
  },
  {
   "cell_type": "code",
   "execution_count": 50,
   "metadata": {},
   "outputs": [
    {
     "data": {
      "image/png": "[encoded data removed]",
      "text/plain": [
       "<Figure size 432x288 with 1 Axes>"
      ]
     },
     "metadata": {
      "needs_background": "light"
     },
     "output_type": "display_data"
    }
   ],
   "source": [
    "make_plot(dataadult, ['black'] + ['#20382B'] * 10)"
   ]
  },
  {
   "cell_type": "code",
   "execution_count": 29,
   "metadata": {},
   "outputs": [
    {
     "data": {
      "text/html": [
       "<div>\n",
       "<style scoped>\n",
       "    .dataframe tbody tr th:only-of-type {\n",
       "        vertical-align: middle;\n",
       "    }\n",
       "\n",
       "    .dataframe tbody tr th {\n",
       "        vertical-align: top;\n",
       "    }\n",
       "\n",
       "    .dataframe thead th {\n",
       "        text-align: right;\n",
       "    }\n",
       "</style>\n",
       "<table border=\"1\" class=\"dataframe\">\n",
       "  <thead>\n",
       "    <tr style=\"text-align: right;\">\n",
       "      <th></th>\n",
       "      <th>StudyID</th>\n",
       "      <th>DoB</th>\n",
       "      <th>Gender</th>\n",
       "      <th>ExactAge</th>\n",
       "      <th>FlooredAge</th>\n",
       "      <th>TaskDate</th>\n",
       "      <th>ageBin</th>\n",
       "      <th>ageBinNr</th>\n",
       "      <th>ageBinValue</th>\n",
       "      <th>Main</th>\n",
       "      <th>No feature drop</th>\n",
       "      <th>No pruning</th>\n",
       "      <th>No tree</th>\n",
       "      <th>No active scaling</th>\n",
       "      <th>No 3-in-a-row</th>\n",
       "      <th>No connected 2-in-a-row</th>\n",
       "      <th>No center</th>\n",
       "      <th>No 4-in-a-row</th>\n",
       "      <th>No unconnected 2-in-a-row</th>\n",
       "    </tr>\n",
       "  </thead>\n",
       "  <tbody>\n",
       "    <tr>\n",
       "      <th>0</th>\n",
       "      <td>A101</td>\n",
       "      <td>9/26/99</td>\n",
       "      <td>F</td>\n",
       "      <td>21.1151</td>\n",
       "      <td>21</td>\n",
       "      <td>11/1/20</td>\n",
       "      <td>(17, 25]</td>\n",
       "      <td>2</td>\n",
       "      <td>21</td>\n",
       "      <td>2.089006</td>\n",
       "      <td>2.195288</td>\n",
       "      <td>2.128635</td>\n",
       "      <td>2.200582</td>\n",
       "      <td>2.009479</td>\n",
       "      <td>2.173425</td>\n",
       "      <td>1.935120</td>\n",
       "      <td>2.242111</td>\n",
       "      <td>2.105702</td>\n",
       "      <td>2.021860</td>\n",
       "    </tr>\n",
       "    <tr>\n",
       "      <th>1</th>\n",
       "      <td>A103</td>\n",
       "      <td>8/11/00</td>\n",
       "      <td>F</td>\n",
       "      <td>20.2438</td>\n",
       "      <td>20</td>\n",
       "      <td>11/3/20</td>\n",
       "      <td>(17, 25]</td>\n",
       "      <td>2</td>\n",
       "      <td>21</td>\n",
       "      <td>1.738647</td>\n",
       "      <td>1.675465</td>\n",
       "      <td>1.598533</td>\n",
       "      <td>1.643796</td>\n",
       "      <td>1.628812</td>\n",
       "      <td>1.764291</td>\n",
       "      <td>1.573309</td>\n",
       "      <td>1.828780</td>\n",
       "      <td>1.690501</td>\n",
       "      <td>1.702796</td>\n",
       "    </tr>\n",
       "    <tr>\n",
       "      <th>2</th>\n",
       "      <td>A112</td>\n",
       "      <td>2/24/01</td>\n",
       "      <td>F</td>\n",
       "      <td>19.6904</td>\n",
       "      <td>19</td>\n",
       "      <td>10/29/20</td>\n",
       "      <td>(17, 25]</td>\n",
       "      <td>2</td>\n",
       "      <td>21</td>\n",
       "      <td>1.877917</td>\n",
       "      <td>1.908227</td>\n",
       "      <td>1.972906</td>\n",
       "      <td>1.869888</td>\n",
       "      <td>2.090642</td>\n",
       "      <td>2.058059</td>\n",
       "      <td>2.086366</td>\n",
       "      <td>2.117081</td>\n",
       "      <td>1.842846</td>\n",
       "      <td>2.062359</td>\n",
       "    </tr>\n",
       "    <tr>\n",
       "      <th>3</th>\n",
       "      <td>A121</td>\n",
       "      <td>2/10/01</td>\n",
       "      <td>F</td>\n",
       "      <td>19.7370</td>\n",
       "      <td>19</td>\n",
       "      <td>11/1/20</td>\n",
       "      <td>(17, 25]</td>\n",
       "      <td>2</td>\n",
       "      <td>21</td>\n",
       "      <td>1.824760</td>\n",
       "      <td>1.824634</td>\n",
       "      <td>1.877857</td>\n",
       "      <td>1.993535</td>\n",
       "      <td>1.747443</td>\n",
       "      <td>2.150824</td>\n",
       "      <td>1.906508</td>\n",
       "      <td>1.999595</td>\n",
       "      <td>1.754906</td>\n",
       "      <td>2.008500</td>\n",
       "    </tr>\n",
       "    <tr>\n",
       "      <th>4</th>\n",
       "      <td>A1083</td>\n",
       "      <td>10/16/97</td>\n",
       "      <td>M</td>\n",
       "      <td>23.0630</td>\n",
       "      <td>23</td>\n",
       "      <td>11/2/20</td>\n",
       "      <td>(17, 25]</td>\n",
       "      <td>2</td>\n",
       "      <td>21</td>\n",
       "      <td>2.013075</td>\n",
       "      <td>1.974291</td>\n",
       "      <td>1.847697</td>\n",
       "      <td>1.777316</td>\n",
       "      <td>1.880882</td>\n",
       "      <td>2.101008</td>\n",
       "      <td>1.929946</td>\n",
       "      <td>1.956891</td>\n",
       "      <td>1.872294</td>\n",
       "      <td>1.890896</td>\n",
       "    </tr>\n",
       "  </tbody>\n",
       "</table>\n",
       "</div>"
      ],
      "text/plain": [
       "  StudyID       DoB Gender  ExactAge  FlooredAge  TaskDate    ageBin  \\\n",
       "0    A101   9/26/99      F   21.1151          21   11/1/20  (17, 25]   \n",
       "1    A103   8/11/00      F   20.2438          20   11/3/20  (17, 25]   \n",
       "2    A112   2/24/01      F   19.6904          19  10/29/20  (17, 25]   \n",
       "3    A121   2/10/01      F   19.7370          19   11/1/20  (17, 25]   \n",
       "4   A1083  10/16/97      M   23.0630          23   11/2/20  (17, 25]   \n",
       "\n",
       "   ageBinNr  ageBinValue      Main  No feature drop  No pruning   No tree  \\\n",
       "0         2           21  2.089006         2.195288    2.128635  2.200582   \n",
       "1         2           21  1.738647         1.675465    1.598533  1.643796   \n",
       "2         2           21  1.877917         1.908227    1.972906  1.869888   \n",
       "3         2           21  1.824760         1.824634    1.877857  1.993535   \n",
       "4         2           21  2.013075         1.974291    1.847697  1.777316   \n",
       "\n",
       "   No active scaling  No 3-in-a-row  No connected 2-in-a-row  No center  \\\n",
       "0           2.009479       2.173425                 1.935120   2.242111   \n",
       "1           1.628812       1.764291                 1.573309   1.828780   \n",
       "2           2.090642       2.058059                 2.086366   2.117081   \n",
       "3           1.747443       2.150824                 1.906508   1.999595   \n",
       "4           1.880882       2.101008                 1.929946   1.956891   \n",
       "\n",
       "   No 4-in-a-row  No unconnected 2-in-a-row  \n",
       "0       2.105702                   2.021860  \n",
       "1       1.690501                   1.702796  \n",
       "2       1.842846                   2.062359  \n",
       "3       1.754906                   2.008500  \n",
       "4       1.872294                   1.890896  "
      ]
     },
     "execution_count": 29,
     "metadata": {},
     "output_type": "execute_result"
    }
   ],
   "source": [
    "data.head()"
   ]
  },
  {
   "cell_type": "code",
   "execution_count": 78,
   "metadata": {},
   "outputs": [
    {
     "data": {
      "text/plain": [
       "SpearmanrResult(correlation=-0.2358061276999217, pvalue=0.01447985156774727)"
      ]
     },
     "execution_count": 78,
     "metadata": {},
     "output_type": "execute_result"
    }
   ],
   "source": [
    "import scipy.stats as sts\n",
    "sts.spearmanr(data[\"ExactAge\"], data[\"No tree\"])"
   ]
  },
  {
   "cell_type": "code",
   "execution_count": 79,
   "metadata": {},
   "outputs": [
    {
     "data": {
      "text/plain": [
       "0.004545454545454546"
      ]
     },
     "execution_count": 79,
     "metadata": {},
     "output_type": "execute_result"
    }
   ],
   "source": [
    "0.05/11"
   ]
  },
  {
   "cell_type": "code",
   "execution_count": null,
   "metadata": {},
   "outputs": [],
   "source": []
  }
 ],
 "metadata": {
  "kernelspec": {
   "display_name": "Python 3",
   "language": "python",
   "name": "python3"
  },
  "language_info": {
   "codemirror_mode": {
    "name": "ipython",
    "version": 3
   },
   "file_extension": ".py",
   "mimetype": "text/x-python",
   "name": "python",
   "nbconvert_exporter": "python",
   "pygments_lexer": "ipython3",
   "version": "3.7.1"
  },
  "toc-autonumbering": false
 },
 "nbformat": 4,
 "nbformat_minor": 4
}
