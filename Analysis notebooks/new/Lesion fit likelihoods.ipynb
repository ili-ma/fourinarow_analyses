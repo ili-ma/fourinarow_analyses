{
 "cells": [
  {
   "cell_type": "code",
   "execution_count": 1,
   "metadata": {},
   "outputs": [],
   "source": [
    "import os\n",
    "import re\n",
    "import math\n",
    "import matplotlib.pyplot as plt\n",
    "from statistics import mean, stdev"
   ]
  },
  {
   "cell_type": "code",
   "execution_count": 2,
   "metadata": {},
   "outputs": [],
   "source": [
    "def read_subject_nlls(data_folder):\n",
    "    subject_nlls = {}\n",
    "    for subject_id in os.listdir(data_folder):\n",
    "        subdir = os.path.join(data_folder, subject_id)\n",
    "        if not os.path.isdir(subdir):\n",
    "            # We're looking for directories only. Skip everything else\n",
    "            continue\n",
    "        fold_nlls = []\n",
    "        # Get nlls for all the folds\n",
    "        for filename in os.listdir(subdir):\n",
    "            filepath = os.path.join(subdir, filename)\n",
    "            match = re.match(\"lltest\\\\d+\\\\.csv\", filename)\n",
    "            if not os.path.isfile(filepath) or not match:\n",
    "                # Skip any file that doesn't fit the pattern\n",
    "                continue\n",
    "            for line in open(filepath):\n",
    "                fold_nlls.append(float(line))\n",
    "        # Use the average nll over all moves\n",
    "        if len(fold_nlls) > 0:\n",
    "            subject_nlls[subject_id] = mean(fold_nlls)\n",
    "    return subject_nlls\n",
    "\n",
    "def get_diffs(model1, model2, label):\n",
    "    diffs = []\n",
    "    missing = max(0, len(model2) - len(model1))\n",
    "    for key in model1:\n",
    "        if not key in model2:\n",
    "            missing += 1\n",
    "        else:\n",
    "            diffs.append(model1[key] - model2[key])\n",
    "    if missing != 0:\n",
    "        print(f\"Could only find {len(diffs)} differences for {label}. Subjects: {len(model1)} vs {len(model2)}\")\n",
    "    return diffs"
   ]
  },
  {
   "cell_type": "code",
   "execution_count": 3,
   "metadata": {},
   "outputs": [
    {
     "name": "stdout",
     "output_type": "stream",
     "text": [
      "Read 157 nlls in ../data/fit_main\n",
      "Read 90 nlls in ../data/fit_no_noise\n",
      "Read 156 nlls in ../data/fit_no_feature_drop\n",
      "Read 156 nlls in ../data/fit_no_prune\n",
      "Read 157 nlls in ../data/fit_no_tree\n",
      "Read 156 nlls in ../data/fit_no_scale\n",
      "Read 156 nlls in ../data/fit_no_3_row\n",
      "Read 156 nlls in ../data/fit_no_2_con\n",
      "Read 156 nlls in ../data/fit_no_center\n",
      "Read 156 nlls in ../data/fit_no_4_row\n",
      "Read 156 nlls in ../data/fit_no_2_unc\n"
     ]
    }
   ],
   "source": [
    "def add_model(nlls, names, folder, name):\n",
    "    data = read_subject_nlls(folder)\n",
    "    nlls.append(data)\n",
    "    names.append(name)\n",
    "    print(f\"Read {len(data)} nlls in {folder}\")\n",
    "\n",
    "model_nlls = []\n",
    "model_names = []\n",
    "\n",
    "add_model(model_nlls, model_names, \"../data/fit_main\", \"Main\")\n",
    "add_model(model_nlls, model_names, \"../data/fit_no_noise\", \"No noise\")\n",
    "add_model(model_nlls, model_names, \"../data/fit_no_feature_drop\", \"No feature drop\")\n",
    "add_model(model_nlls, model_names, \"../data/fit_no_prune\", \"No pruning\")\n",
    "add_model(model_nlls, model_names, \"../data/fit_no_tree\", \"No tree\")\n",
    "add_model(model_nlls, model_names, \"../data/fit_no_scale\", \"No active scaling\")\n",
    "add_model(model_nlls, model_names, \"../data/fit_no_3_row\", \"No 3-in-a-row\")\n",
    "add_model(model_nlls, model_names, \"../data/fit_no_2_con\", \"No connected 2-in-a-row\")\n",
    "add_model(model_nlls, model_names, \"../data/fit_no_center\", \"No center\")\n",
    "add_model(model_nlls, model_names, \"../data/fit_no_4_row\", \"No 4-in-a-row\")\n",
    "add_model(model_nlls, model_names, \"../data/fit_no_2_unc\", \"No unconnected 2-in-a-row\")"
   ]
  },
  {
   "cell_type": "code",
   "execution_count": 4,
   "metadata": {},
   "outputs": [],
   "source": [
    "data = read_subject_nlls(\"../data/fit_main\")"
   ]
  },
  {
   "cell_type": "code",
   "execution_count": 5,
   "metadata": {},
   "outputs": [],
   "source": [
    "# model_colors = ['black'] + ['#A30006'] * 10 + ['#025D8C'] * 6 + ['#519548'] * 5 + ['gray']\n",
    "model_colors = ['black'] + ['#A30006'] * 10"
   ]
  },
  {
   "cell_type": "code",
   "execution_count": 6,
   "metadata": {},
   "outputs": [
    {
     "name": "stdout",
     "output_type": "stream",
     "text": [
      "Could only find 90 differences for No noise. Subjects: 90 vs 157\n",
      "Could only find 156 differences for No feature drop. Subjects: 156 vs 157\n",
      "Could only find 156 differences for No pruning. Subjects: 156 vs 157\n",
      "Could only find 156 differences for No active scaling. Subjects: 156 vs 157\n",
      "Could only find 156 differences for No 3-in-a-row. Subjects: 156 vs 157\n",
      "Could only find 156 differences for No connected 2-in-a-row. Subjects: 156 vs 157\n",
      "Could only find 156 differences for No center. Subjects: 156 vs 157\n",
      "Could only find 156 differences for No 4-in-a-row. Subjects: 156 vs 157\n",
      "Could only find 156 differences for No unconnected 2-in-a-row. Subjects: 156 vs 157\n"
     ]
    },
    {
     "data": {
      "image/png": "[encoded data removed]",
      "text/plain": [
       "<Figure size 432x288 with 1 Axes>"
      ]
     },
     "metadata": {
      "needs_background": "light"
     },
     "output_type": "display_data"
    }
   ],
   "source": [
    "fig, ax = plt.subplots()\n",
    "\n",
    "loglik_main = -mean(model_nlls[0].values())\n",
    "loglik_diff = []\n",
    "loglik_sem  = []\n",
    "for index in range(len(model_nlls)):\n",
    "    diffs = get_diffs(model_nlls[index], model_nlls[0], model_names[index])\n",
    "    loglik_diff.append(-mean(diffs))\n",
    "    loglik_sem.append(stdev(diffs) / math.sqrt(len(diffs)))\n",
    "\n",
    "\n",
    "domain = [-2.5,-2.0]\n",
    "\n",
    "def markSection(ax, label, x, y):\n",
    "    ax.axhline(y = y-0.5, color='black', linestyle = 'dashed')\n",
    "    ax.text(x, y, label, ha ='left', va='bottom')\n",
    "\n",
    "ax.set_ylim([0.5,len(model_names)+0.5])\n",
    "ax.set_yticks(range(len(model_names),0,-1))\n",
    "ax.set_yticklabels(model_names)\n",
    "ax.barh(range(len(model_names),0,-1), loglik_diff,\n",
    "        xerr = loglik_sem,\n",
    "        height = 0.7, align='center',\n",
    "        color = model_colors, ecolor='black', left=loglik_main)\n",
    "ax.plot(loglik_main, len(model_names),'.k')\n",
    "ax.axvline(x=loglik_main, color='black')\n",
    "markSection(ax, 'Lesions: features', domain[0], 11)\n",
    "markSection(ax, 'Lesions: components', domain[0], 6)\n",
    "ax.yaxis.tick_right()\n",
    "ax.spines['left'].set_visible(False)\n",
    "ax.spines['top'].set_visible(False)\n",
    "ax.set_xlim(domain)\n",
    "ax.text(0, 0.95, 'A', horizontalalignment='left', verticalalignment='center', transform=fig.transFigure, fontsize = 20)\n",
    "\n",
    "# fig.tight_layout()\n",
    "# fig.savefig(direc + 'loglik_rep_A.pdf')\n",
    "plt.show()"
   ]
  },
  {
   "cell_type": "code",
   "execution_count": null,
   "metadata": {},
   "outputs": [],
   "source": []
  }
 ],
 "metadata": {
  "kernelspec": {
   "display_name": "Python 3",
   "language": "python",
   "name": "python3"
  },
  "language_info": {
   "codemirror_mode": {
    "name": "ipython",
    "version": 3
   },
   "file_extension": ".py",
   "mimetype": "text/x-python",
   "name": "python",
   "nbconvert_exporter": "python",
   "pygments_lexer": "ipython3",
   "version": "3.8.2"
  }
 },
 "nbformat": 4,
 "nbformat_minor": 4
}
