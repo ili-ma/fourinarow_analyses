{
 "cells": [
  {
   "cell_type": "code",
   "execution_count": 1,
   "metadata": {},
   "outputs": [],
   "source": [
    "import matplotlib.pyplot as plt\n",
    "from matplotlib import rcParams,font_manager,colors,patches\n",
    "import numpy as np"
   ]
  },
  {
   "cell_type": "code",
   "execution_count": 2,
   "metadata": {},
   "outputs": [],
   "source": [
    "#some old stuff, please ignore\n",
    "#x = x.replace(',w_act,w_pass,delta','').replace('{','').replace('0x','').split(';')\n",
    "#x = [y.split(',') for y in x]\n",
    "#F = np.vstack([list(\"{0:036b}\".format(int(p,16))) for p,_,_,_ in x]).astype(int)\n",
    "#Fempty = np.vstack([list(\"{0:036b}\".format(int(p,16))) for _,p,_,_ in x]).astype(int)\n",
    "#N = np.array([int(n) for _,_,n,_ in x])\n",
    "#ind = np.array([int(i) for _,_,_,i in x])"
   ]
  },
  {
   "cell_type": "code",
   "execution_count": 3,
   "metadata": {},
   "outputs": [],
   "source": [
    "#directory where policy_params.txt is saved\n",
    "direc = 'C:/Users/svo/Documents/FourinarowData/'"
   ]
  },
  {
   "cell_type": "code",
   "execution_count": 4,
   "metadata": {},
   "outputs": [],
   "source": [
    "#Loading in policy parameters\n",
    "x = np.loadtxt(direc + 'policy_params.txt',dtype=int)\n",
    "F = x[:,:36]\n",
    "Fempty = x[:,36:72]\n",
    "N = x[:,72]\n",
    "ind = x[:,73]\n",
    "w = np.array([0.8,0.2,3.5,6,0.8,0.2,3.5,6,0.8,0.2,3.5,6,0.8,0.2,3.5,6,0])\n",
    "w = w[ind]"
   ]
  },
  {
   "cell_type": "code",
   "execution_count": 6,
   "metadata": {},
   "outputs": [],
   "source": [
    "np.savetxt(direc + 'policy_params.txt',x)"
   ]
  },
  {
   "cell_type": "code",
   "execution_count": null,
   "metadata": {},
   "outputs": [],
   "source": [
    "#fucntion which \"plots\" a 4-in-a-row board\n",
    "cm = colors.LinearSegmentedColormap.from_list('gray_red_map', [colors.to_rgb('darkgray'), \n",
    "                                                            colors.to_rgb('red')], N=100)    \n",
    "\n",
    "def display_board(bp,wp,move,color,d=None):\n",
    "    fig = plt.figure()\n",
    "    ax = fig.add_subplot(111,aspect='equal')\n",
    "    ax.vlines(np.arange(-0.5,9.5,1),-0.5,3.5,color='black')\n",
    "    ax.hlines(np.arange(-0.5,4.5,1),-0.5,8.5,color='black')\n",
    "    for i in range(36):\n",
    "        if(bp[i]==1):\n",
    "            circ = patches.Circle((i%9,i//9),0.33,color=\"black\",fill=True)\n",
    "            circ = ax.add_patch(circ)\n",
    "        if(wp[i]==1):\n",
    "            circ = patches.Circle((i%9,i//9),0.33,color=\"white\",fill=True)\n",
    "            circ = ax.add_patch(circ)\n",
    "    if move !=99:\n",
    "        circ = patches.Circle((move%9,move//9),0.33,color=color,fill=False)\n",
    "        circ = ax.add_patch(circ)\n",
    "    if not d is None:\n",
    "        plt.imshow(np.reshape(d,[4,9]), cmap=cm,interpolation='nearest',origin='lower',vmin=0,vmax=0.5)\n",
    "    else:\n",
    "        rec = patches.Rectangle((-0.5,-0.5),9,4,color=\"gray\",fill=True,zorder=1)\n",
    "        ax.add_patch(rec)\n",
    "    \n",
    "    ax.axis('off')\n",
    "    plt.show()"
   ]
  },
  {
   "cell_type": "code",
   "execution_count": null,
   "metadata": {},
   "outputs": [],
   "source": [
    "#example board position\n",
    "bp = np.array([ 0,0,0,0,1,0,0,0,0,0,0,0,1,1,0,0,0,0,0,0,0,0,0,0,0,0,0,0,0,0,0,0,1,0,0,0 ])\n",
    "wp = np.array([ 0,1,0,0,0,0,0,0,0,0,0,0,0,0,1,0,0,0,0,0,0,0,0,0,0,0,0,0,0,0,1,1,0,0,0,0 ])"
   ]
  },
  {
   "cell_type": "code",
   "execution_count": null,
   "metadata": {},
   "outputs": [],
   "source": [
    "def compute_policy(bp,wp):\n",
    "    active_features_black = np.logical_and(np.sum(F*bp,axis=1)==np.sum(F,axis=1),\n",
    "                                           np.sum(Fempty*(bp+wp),axis=1)==0).astype(int)\n",
    "    active_features_white = np.logical_and(np.sum(F*wp,axis=1)==np.sum(F,axis=1),\n",
    "                                           np.sum(Fempty*(bp+wp),axis=1)==0).astype(int)\n",
    "    almost_active_features_black = np.logical_and(np.sum(F*wp,axis=1)==0,\n",
    "                                                  np.logical_and(np.sum(F*bp,axis=1)==(np.sum(F,axis=1)-1),\n",
    "                                                                 np.sum(Fempty*(bp+wp),axis=1)==0)).astype(int)\n",
    "    V = np.sum(Fempty*(active_features_white - active_features_black)[:,None]*w[:,None],axis=0)\n",
    "    V += np.sum(F*(bp==0)[None,:]*almost_active_features_black[:,None]*w[:,None],axis=0)\n",
    "    V += 1/np.sqrt((np.repeat(np.arange(4),9)-1.5)**2 + (np.tile(np.arange(9),4)-4)**2)\n",
    "    V = V-np.max(V)\n",
    "    return np.exp(V)/np.sum(np.exp(V))\n"
   ]
  },
  {
   "cell_type": "code",
   "execution_count": null,
   "metadata": {},
   "outputs": [],
   "source": [
    "compute_policy(bp,wp).reshape([4,9])"
   ]
  },
  {
   "cell_type": "code",
   "execution_count": null,
   "metadata": {},
   "outputs": [],
   "source": [
    "display_board(bp,wp,99,'black',d=compute_policy(bp,wp))"
   ]
  },
  {
   "cell_type": "code",
   "execution_count": 8,
   "metadata": {},
   "outputs": [
    {
     "data": {
      "text/plain": [
       "array([ 0,  1,  2,  3,  4,  5,  6,  7,  8,  9, 10, 11, 12, 13, 14, 15, 16,\n",
       "       17, 18, 19, 20, 21, 22, 23, 24, 25, 26, 27, 28, 29, 30, 31, 32, 33,\n",
       "       34, 35], dtype=int64)"
      ]
     },
     "execution_count": 8,
     "metadata": {},
     "output_type": "execute_result"
    }
   ],
   "source": [
    "np.argwhere(np.zeros(36)==0).flatten()"
   ]
  },
  {
   "cell_type": "code",
   "execution_count": null,
   "metadata": {},
   "outputs": [],
   "source": []
  }
 ],
 "metadata": {
  "kernelspec": {
   "display_name": "Python 3",
   "language": "python",
   "name": "python3"
  },
  "language_info": {
   "codemirror_mode": {
    "name": "ipython",
    "version": 3
   },
   "file_extension": ".py",
   "mimetype": "text/x-python",
   "name": "python",
   "nbconvert_exporter": "python",
   "pygments_lexer": "ipython3",
   "version": "3.7.4"
  }
 },
 "nbformat": 4,
 "nbformat_minor": 4
}
