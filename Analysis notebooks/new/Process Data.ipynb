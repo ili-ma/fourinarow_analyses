{
 "cells": [
  {
   "cell_type": "markdown",
   "metadata": {},
   "source": [
    "# Create paramsMatrix\n",
    "input: folders with fitted parameters, like this:\n",
    "```\n",
    "data folder\n",
    " +- 1\n",
    " |  +- params1.csv\n",
    " |  +- params2.csv\n",
    " |  +- ...\n",
    " +- 2\n",
    " |  +- params1.csv\n",
    " ...\n",
    "```"
   ]
  },
  {
   "cell_type": "code",
   "execution_count": null,
   "metadata": {},
   "outputs": [],
   "source": [
    "data_folder = \"../data/splits\"\n",
    "output_file = \"../data/paramsMatrix.csv\"\n",
    "\n",
    "import os\n",
    "import re\n",
    "\n",
    "dirpattern = \"\\\\d+\" # only numbers (digits)\n",
    "parampattern = \"params(\\\\d+).csv\"\n",
    "\n",
    "lines = []\n",
    "num_subjects = 0\n",
    "for subject_number in os.listdir(data_folder):\n",
    "    subdir = os.path.join(data_folder, subject_number)\n",
    "    if not os.path.isdir(subdir) or not re.match(dirpattern, subject_number):\n",
    "        # We're looking for directories whose name is a number. Skip everything else\n",
    "        continue\n",
    "    num_subjects += 1\n",
    "    for filename in os.listdir(subdir):\n",
    "        filepath = os.path.join(subdir, filename)\n",
    "        match = re.match(parampattern, filename)\n",
    "        if not os.path.isfile(filepath) or not match:\n",
    "            # Skip any file that isn't a param*.csv file\n",
    "            continue\n",
    "        fold_number = match.group(1)\n",
    "        with open(filepath) as infile:\n",
    "            lines.append([int(subject_number), int(fold_number), infile.readline().strip()])\n",
    "lines.sort()\n",
    "linecounter = 0\n",
    "with open(output_file, \"w\") as targetfile:\n",
    "    # Write the header\n",
    "    targetfile.write(\",subject,fold,\")\n",
    "    targetfile.write(\",\".join([str(item) for item in range(1,11)]))\n",
    "    targetfile.write(\"\\n\")\n",
    "    # Write content\n",
    "    for line in lines:\n",
    "        line.insert(0, linecounter)\n",
    "        targetfile.write(\",\".join([str(item) for item in line]))\n",
    "        targetfile.write(\"\\n\")\n",
    "        linecounter += 1\n",
    "print(f\"Found {num_subjects} subject. Wrote {len(lines)} lines to {output_file}\")"
   ]
  },
  {
   "cell_type": "code",
   "execution_count": null,
   "metadata": {},
   "outputs": [],
   "source": []
  }
 ],
 "metadata": {
  "kernelspec": {
   "display_name": "Python 3",
   "language": "python",
   "name": "python3"
  },
  "language_info": {
   "codemirror_mode": {
    "name": "ipython",
    "version": 3
   },
   "file_extension": ".py",
   "mimetype": "text/x-python",
   "name": "python",
   "nbconvert_exporter": "python",
   "pygments_lexer": "ipython3",
   "version": "3.8.2"
  }
 },
 "nbformat": 4,
 "nbformat_minor": 4
}
