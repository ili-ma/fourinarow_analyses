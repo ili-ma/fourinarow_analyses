{
 "cells": [
  {
   "cell_type": "markdown",
   "metadata": {},
   "source": [
    "# Create splits\n",
    "```\n",
    "input: trialdata.csv\n",
    "output: splits folder\n",
    "```\n",
    "Trialdata.csv is created by psiturk when you download the datafile. This is the experiment data collected by the task stored in ```Experiment code```\n",
    "\n",
    "The splits folder will contain a named folder per subject. Test data is filtered out by inspecting the user id. Incomplete data is filtered out by inspecting the number of finished games. These folders contain data that can be fitted to a model by running ```Model code/matlab wrapper/auto_fit.sh``` on it. After model fitting is complete you can create paramsMatrix further down in this notebook."
   ]
  },
  {
   "cell_type": "code",
   "execution_count": 1,
   "metadata": {},
   "outputs": [],
   "source": [
    "input_file = \"../data/trialdata.csv\"\n",
    "output_folder = \"../data\""
   ]
  },
  {
   "cell_type": "code",
   "execution_count": 2,
   "metadata": {},
   "outputs": [
    {
     "name": "stdout",
     "output_type": "stream",
     "text": [
      "drop test_im:R_2YspUds9g1Pyp6J\n",
      "drop test_im:R_1LYfkmETpZRD3kn\n",
      "drop debug:R_3G7Yq6aginiNva2\n",
      "drop test_im2:R_2YspUds9g1Pyp6J\n",
      "drop im_full_test:assign_full_test\n",
      "drop test_im3:R_2YspUds9g1Pyp6J\n",
      "drop null:R_emsNDLsvWMLPb7X\n",
      "drop test_im_ff:test_FF_win\n",
      "drop test_im_edge:test_edge_win\n",
      "drop twindemo:noas\n",
      "drop null:R_2qCyb2CeLwcRxH2\n",
      "drop null:R_25HjvhOMhc79iaa\n",
      "drop debugYZNI1G:debugDVJFSO\n",
      "drop test_BO_11:R_1eXnot6X58rnPMv\n",
      "drop null:R_2zhw77FMGEb36zK\n",
      "drop debugOCOGDF:debug2TDLTY\n",
      "drop test_im_ff2:test_FF2_win\n",
      "drop null:R_2aV9fwk4CR3GjBg\n",
      "drop debugQWOQ1C:debugOQ8IEY\n",
      "drop CPTest:R_1QxPuBVlzMbldXa\n",
      "drop CPTest:R_1FsoM2AkWpLn1Qw\n",
      "drop im_full_test:ssign_full_test\n",
      "drop just_a_test_:test\n",
      "drop debugfull:noas\n",
      "drop null:R_vou3qrtMy6aHysp\n",
      "drop debugscreenshot:noas\n",
      "Loaded 192 participants\n"
     ]
    }
   ],
   "source": [
    "from fourinarowfunctions import *\n",
    "\n",
    "data_dict = load_data(input_file)"
   ]
  },
  {
   "cell_type": "code",
   "execution_count": 3,
   "metadata": {},
   "outputs": [
    {
     "name": "stdout",
     "output_type": "stream",
     "text": [
      "Incomplete A108:R_2TnOx7dVPSonpTg: user only finished 27 games\n",
      "Incomplete A123:R_2viEesh2c9XCBMe: user only finished 27 games\n",
      "Incomplete A120:R_PONVLZnwDK7wSpr: user only finished 27 games\n",
      "Incomplete 115:R_241tt6O6tVQs9NR: user only finished 22 games\n",
      "Incomplete 106:R_1HqNZ7zU4Tb0SSR: user only finished 22 games\n",
      "Incomplete A1174:R_296zFssAEmp2lpK: user only finished 17 games\n",
      "Incomplete 131:R_3iJ8A5hXnygbqAF: user only finished 22 games\n",
      "Incomplete 160:R_3h5POosYswsLZqe: user only finished 22 games\n",
      "Incomplete 159:R_3kolXJjcfDsjL6k: user only finished 22 games\n",
      "Incomplete A125:R_d5dJPkPEZBF0HLP: user only finished 32 games\n",
      "Incomplete 128:R_AEYAh7gikx2YEvL: user only finished 22 games\n",
      "Incomplete 154:R_3kgZuiVj87g1GNO: user only finished 22 games\n",
      "Incomplete 153:R_reR4dauvBGinQvT: user only finished 22 games\n",
      "Incomplete 109:R_1NurOLY6ru1XwrL: user only finished 12 games\n",
      "Incomplete 124:R_cOwNfKZ17YDGcGR: user only finished 12 games\n",
      "Incomplete 130:R_10pkDu4x8ARiMHf: user only finished 12 games\n",
      "Incomplete 168:R_2ARs0RJIBjJZhYL: user only finished 22 games\n",
      "Incomplete 143:R_1PRYqkSFZQYTVUg: user only finished 22 games\n",
      "Incomplete A507:R_2b176cnRCyapnkx: user only finished 27 games\n",
      "Incomplete 142:R_1InpeBO876j23Eh: user only finished 22 games\n",
      "Incomplete 169:R_RQyaj0YbKu9fsDT: user only finished 27 games\n",
      "Incomplete 195:R_22tOmOP9V3YTA0u: user only finished 27 games\n",
      "Incomplete 118:R_28AEWB4BHHAp3ic: user only finished 22 games\n",
      "Incomplete A116:R_cu9t4ZNp60qTplf: user only finished 27 games\n",
      "Incomplete 116:R_3qeT0l1LS4myHr4: user only finished 22 games\n",
      "Incomplete 141:R_1CK2JfPijAWf85C: user only finished 27 games\n",
      "Incomplete 828:R_1fmiqSWEdYLAPg7: user only finished 29 games\n",
      "Incomplete A106:R_x6jDmbRb3oyYGdz: user only finished 27 games\n",
      "Incomplete 841:R_25ZiTXX4Zh9Hnjz: user only finished 32 games\n",
      "Incomplete A242:R_ymscU32j53VKwil: user completed too many games? 74\n",
      "Incomplete A143:R_RESPGcoZaPUGauR: user only finished 4 games\n",
      "Incomplete 867:R_1l0RzJzHGvo3BbL: user only finished 32 games\n",
      "Incomplete A1085:R_2X6TqSaV4sc4OYS: user only finished 33 games\n",
      "Incomplete A1187:R_1Eb6nxfE1nCe4bs: user only finished 17 games\n",
      "Wrote splits for 158 participants                    \n"
     ]
    }
   ],
   "source": [
    "import os\n",
    "import numpy as np\n",
    "\n",
    "#helper functions that encode boards as and moves as integers for the model fitting pipeline\n",
    "def encode_board(pieces):\n",
    "    return np.sum([2**i for i,p in enumerate(pieces) if p=='1']).astype(np.int64)\n",
    "\n",
    "def ensure_dir(dirname):\n",
    "    if not os.path.exists(dirname):\n",
    "        os.mkdir(dirname)\n",
    "\n",
    "def save_raw_splits(data_dict, root):\n",
    "    ensure_dir(root + '/raw/')\n",
    "    ensure_dir(root + '/splits/')\n",
    "    numOk = 0\n",
    "    for username, data in data_dict.items():\n",
    "        print(f\"writing {username} {len(data)}\", end='\\r')\n",
    "        try:\n",
    "            parsed_data = get_parsed_data(data)\n",
    "        except AssertionError as e:\n",
    "            print(f\"Incomplete {username}: {e}\")\n",
    "            continue\n",
    "        filename = username.replace(\":\", \"-\")\n",
    "        with open(root + '/raw/' + filename + '.csv', 'w') as f:\n",
    "            df = pd.DataFrame([(encode_board(bp), encode_board(wp), c.lower().capitalize(), 2**m, rt, username.split(':')[0]) for bp,wp,m,c,rt in parsed_data])\n",
    "            f.write(df.to_csv(None, index=False, header=False, sep='\\t', line_terminator ='\\n')[:-1])\n",
    "        group = (5 * (np.random.permutation(len(parsed_data))/len(parsed_data))).astype(int) + 1\n",
    "        ensure_dir(root + '/splits/' + filename)\n",
    "        with open(root + '/splits/' + filename + '/data.csv', 'w') as f:\n",
    "            df = pd.DataFrame([(encode_board(bp),encode_board(wp), c.lower().capitalize(), 2**m, rt,g,username.split(':')[0]) for (bp,wp,m,c,rt), g in zip(parsed_data, group)])\n",
    "            f.write(df.to_csv(None, index = False, header=False, sep='\\t', line_terminator='\\n')[:-1])\n",
    "        for g in range(1,6):\n",
    "            with open(root + '/splits/' + filename + '/' + str(g) + '.csv', 'w') as f:\n",
    "                df = pd.DataFrame([(encode_board(bp), encode_board(wp), c.lower().capitalize(), 2**m, rt,g,username.split(':')[0]) for (bp,wp,m,c,rt), g in zip(parsed_data, group)])\n",
    "                f.write(df[df[5]==g].to_csv(None, index=False, header=False, sep='\\t', line_terminator='\\n')[:-1])\n",
    "        numOk += 1\n",
    "    print(f\"Wrote splits for {numOk} participants{' ' * 20}\")\n",
    "\n",
    "save_raw_splits(data_dict, output_folder)"
   ]
  },
  {
   "cell_type": "markdown",
   "metadata": {},
   "source": [
    "# Create paramsMatrix\n",
    "```\n",
    "input: fitted parameters\n",
    "output: paramsMatrix.csv\n",
    "```\n",
    "The input structure is a root folder that contains folders with fitted parameters, like this:\n",
    "```\n",
    "data folder\n",
    " +- subject_id_1\n",
    " |  +- params1.csv\n",
    " |  +- params2.csv\n",
    " |  +- ...\n",
    " +- subject_id_2\n",
    " |  +- params1.csv\n",
    " ...\n",
    "```\n",
    "Use paramsMatrix.csv in the ```Calculate metrics and Elo``` notebook."
   ]
  },
  {
   "cell_type": "code",
   "execution_count": 4,
   "metadata": {},
   "outputs": [
    {
     "name": "stdout",
     "output_type": "stream",
     "text": [
      "Found 158 subjects. Wrote 790 lines to ../data/paramsMatrix.csv\n"
     ]
    }
   ],
   "source": [
    "data_folder = \"../data/splits\"\n",
    "output_file = \"../data/paramsMatrix.csv\"\n",
    "\n",
    "import os\n",
    "import re\n",
    "\n",
    "parampattern = \"params(\\\\d+).csv\"\n",
    "\n",
    "lines = []\n",
    "num_subjects = 0\n",
    "for subject_id in os.listdir(data_folder):\n",
    "    subdir = os.path.join(data_folder, subject_id)\n",
    "    if not os.path.isdir(subdir):\n",
    "        # We're looking for directories only. Skip everything else\n",
    "        continue\n",
    "    num_subjects += 1\n",
    "    for filename in os.listdir(subdir):\n",
    "        filepath = os.path.join(subdir, filename)\n",
    "        match = re.match(parampattern, filename)\n",
    "        if not os.path.isfile(filepath) or not match:\n",
    "            # Skip any file that isn't a param*.csv file\n",
    "            continue\n",
    "        fold_number = match.group(1)\n",
    "        with open(filepath) as infile:\n",
    "            lines.append([subject_id.replace(\"-\",\":\"), int(fold_number), infile.readline().strip()])\n",
    "lines.sort()\n",
    "linecounter = 0\n",
    "with open(output_file, \"w\") as targetfile:\n",
    "    # Write the header\n",
    "    targetfile.write(\",subject,fold,\")\n",
    "    targetfile.write(\",\".join([str(item) for item in range(1,11)]))\n",
    "    targetfile.write(\"\\n\")\n",
    "    # Write content\n",
    "    for line in lines:\n",
    "        line.insert(0, linecounter)\n",
    "        targetfile.write(\",\".join([str(item) for item in line]))\n",
    "        targetfile.write(\"\\n\")\n",
    "        linecounter += 1\n",
    "print(f\"Found {num_subjects} subjects. Wrote {len(lines)} lines to {output_file}\")"
   ]
  },
  {
   "cell_type": "code",
   "execution_count": null,
   "metadata": {},
   "outputs": [],
   "source": []
  }
 ],
 "metadata": {
  "kernelspec": {
   "display_name": "Python 3",
   "language": "python",
   "name": "python3"
  },
  "language_info": {
   "codemirror_mode": {
    "name": "ipython",
    "version": 3
   },
   "file_extension": ".py",
   "mimetype": "text/x-python",
   "name": "python",
   "nbconvert_exporter": "python",
   "pygments_lexer": "ipython3",
   "version": "3.8.2"
  }
 },
 "nbformat": 4,
 "nbformat_minor": 4
}
