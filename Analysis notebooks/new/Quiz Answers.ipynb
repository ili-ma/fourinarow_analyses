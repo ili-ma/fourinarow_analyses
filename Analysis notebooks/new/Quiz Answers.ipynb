{
 "cells": [
  {
   "cell_type": "code",
   "execution_count": 1,
   "id": "b98aa3df-84e3-4fda-b102-8daca144a208",
   "metadata": {},
   "outputs": [],
   "source": [
    "import pandas as pd\n",
    "from scipy import stats\n",
    "from fourinarowfunctions import *"
   ]
  },
  {
   "cell_type": "code",
   "execution_count": 2,
   "id": "108f4aaf-12f4-4c7b-ae43-2ad55f4e3ca7",
   "metadata": {},
   "outputs": [
    {
     "name": "stdout",
     "output_type": "stream",
     "text": [
      "user A242:R_ymscU32j53VKwil started games after completing the task. Using only the first 37 games\n",
      "156 users with complete data\n"
     ]
    }
   ],
   "source": [
    "datadir = '../data/'\n",
    "age = pd.read_csv(datadir + \"SubjectAge.csv\")\n",
    "filename = datadir + 'trialdata.csv'\n",
    "data_dict = load_data(filename, verbose = False)\n",
    "parsed_dict = {}\n",
    "for username, data in data_dict.items():\n",
    "    try:\n",
    "        parsed_dict[username] = get_parsed_data(data, username)\n",
    "    except AssertionError as e:\n",
    "        continue\n",
    "usernames = sorted(parsed_dict.keys())\n",
    "usernames.remove(\"A1153:R_1CwnNA5xXOlHq5l\")\n",
    "usernames.remove(\"866:R_31YEgt5MqfcfZMC\")\n",
    "usernames.remove(\"A242:R_ymscU32j53VKwil\")\n",
    "print(f\"{len(usernames)} users with complete data\")"
   ]
  },
  {
   "cell_type": "code",
   "execution_count": 3,
   "id": "3ed5f6d7-dade-4543-be4b-a19a9d986ffb",
   "metadata": {},
   "outputs": [
    {
     "data": {
      "text/html": [
       "<div>\n",
       "<style scoped>\n",
       "    .dataframe tbody tr th:only-of-type {\n",
       "        vertical-align: middle;\n",
       "    }\n",
       "\n",
       "    .dataframe tbody tr th {\n",
       "        vertical-align: top;\n",
       "    }\n",
       "\n",
       "    .dataframe thead th {\n",
       "        text-align: right;\n",
       "    }\n",
       "</style>\n",
       "<table border=\"1\" class=\"dataframe\">\n",
       "  <thead>\n",
       "    <tr style=\"text-align: right;\">\n",
       "      <th></th>\n",
       "      <th>subject</th>\n",
       "      <th>image</th>\n",
       "      <th>expected</th>\n",
       "      <th>given</th>\n",
       "      <th>correct</th>\n",
       "      <th>rt_ms</th>\n",
       "      <th>StudyID</th>\n",
       "      <th>DoB</th>\n",
       "      <th>Gender</th>\n",
       "      <th>ExactAge</th>\n",
       "      <th>FlooredAge</th>\n",
       "      <th>TaskDate</th>\n",
       "      <th>count</th>\n",
       "    </tr>\n",
       "  </thead>\n",
       "  <tbody>\n",
       "    <tr>\n",
       "      <th>0</th>\n",
       "      <td>166:R_9Nac2hjg6u7BlS1</td>\n",
       "      <td>blackHorizontal.png</td>\n",
       "      <td>Black</td>\n",
       "      <td>Black</td>\n",
       "      <td>True</td>\n",
       "      <td>8770</td>\n",
       "      <td>166</td>\n",
       "      <td>10/14/09</td>\n",
       "      <td>M</td>\n",
       "      <td>11.1123</td>\n",
       "      <td>11</td>\n",
       "      <td>11/21/20</td>\n",
       "      <td>1</td>\n",
       "    </tr>\n",
       "    <tr>\n",
       "      <th>1</th>\n",
       "      <td>166:R_9Nac2hjg6u7BlS1</td>\n",
       "      <td>whiteDiagonal.png</td>\n",
       "      <td>White</td>\n",
       "      <td>White</td>\n",
       "      <td>True</td>\n",
       "      <td>2511</td>\n",
       "      <td>166</td>\n",
       "      <td>10/14/09</td>\n",
       "      <td>M</td>\n",
       "      <td>11.1123</td>\n",
       "      <td>11</td>\n",
       "      <td>11/21/20</td>\n",
       "      <td>1</td>\n",
       "    </tr>\n",
       "    <tr>\n",
       "      <th>2</th>\n",
       "      <td>166:R_9Nac2hjg6u7BlS1</td>\n",
       "      <td>whiteVertical.png</td>\n",
       "      <td>White</td>\n",
       "      <td>White</td>\n",
       "      <td>True</td>\n",
       "      <td>2132</td>\n",
       "      <td>166</td>\n",
       "      <td>10/14/09</td>\n",
       "      <td>M</td>\n",
       "      <td>11.1123</td>\n",
       "      <td>11</td>\n",
       "      <td>11/21/20</td>\n",
       "      <td>1</td>\n",
       "    </tr>\n",
       "    <tr>\n",
       "      <th>3</th>\n",
       "      <td>166:R_9Nac2hjg6u7BlS1</td>\n",
       "      <td>whiteNoWin.png</td>\n",
       "      <td>No-one</td>\n",
       "      <td>No-one</td>\n",
       "      <td>True</td>\n",
       "      <td>6503</td>\n",
       "      <td>166</td>\n",
       "      <td>10/14/09</td>\n",
       "      <td>M</td>\n",
       "      <td>11.1123</td>\n",
       "      <td>11</td>\n",
       "      <td>11/21/20</td>\n",
       "      <td>1</td>\n",
       "    </tr>\n",
       "    <tr>\n",
       "      <th>4</th>\n",
       "      <td>166:R_9Nac2hjg6u7BlS1</td>\n",
       "      <td>blackDiagonal.png</td>\n",
       "      <td>Black</td>\n",
       "      <td>Black</td>\n",
       "      <td>True</td>\n",
       "      <td>1919</td>\n",
       "      <td>166</td>\n",
       "      <td>10/14/09</td>\n",
       "      <td>M</td>\n",
       "      <td>11.1123</td>\n",
       "      <td>11</td>\n",
       "      <td>11/21/20</td>\n",
       "      <td>1</td>\n",
       "    </tr>\n",
       "  </tbody>\n",
       "</table>\n",
       "</div>"
      ],
      "text/plain": [
       "                 subject                image expected   given  correct  \\\n",
       "0  166:R_9Nac2hjg6u7BlS1  blackHorizontal.png    Black   Black     True   \n",
       "1  166:R_9Nac2hjg6u7BlS1    whiteDiagonal.png    White   White     True   \n",
       "2  166:R_9Nac2hjg6u7BlS1    whiteVertical.png    White   White     True   \n",
       "3  166:R_9Nac2hjg6u7BlS1       whiteNoWin.png   No-one  No-one     True   \n",
       "4  166:R_9Nac2hjg6u7BlS1    blackDiagonal.png    Black   Black     True   \n",
       "\n",
       "   rt_ms StudyID       DoB Gender  ExactAge  FlooredAge  TaskDate  count  \n",
       "0   8770     166  10/14/09      M   11.1123          11  11/21/20      1  \n",
       "1   2511     166  10/14/09      M   11.1123          11  11/21/20      1  \n",
       "2   2132     166  10/14/09      M   11.1123          11  11/21/20      1  \n",
       "3   6503     166  10/14/09      M   11.1123          11  11/21/20      1  \n",
       "4   1919     166  10/14/09      M   11.1123          11  11/21/20      1  "
      ]
     },
     "execution_count": 3,
     "metadata": {},
     "output_type": "execute_result"
    }
   ],
   "source": [
    "quiz_list = get_quiz_answers(data_dict)\n",
    "quiz_df = pd.DataFrame(quiz_list)\n",
    "quiz_df = quiz_df[quiz_df[\"subject\"].isin(usernames)]\n",
    "quiz_df[\"StudyID\"] = quiz_df[\"subject\"].apply(lambda subject: subject.split(\":\")[0])\n",
    "quiz_df = pd.merge(quiz_df, age, on=\"StudyID\", how=\"left\")\n",
    "quiz_df[\"count\"] = 1\n",
    "quiz_df.head()"
   ]
  },
  {
   "cell_type": "code",
   "execution_count": 4,
   "id": "a21d3da4-2a2d-460f-92b0-47605dbdd7ba",
   "metadata": {},
   "outputs": [
    {
     "data": {
      "text/html": [
       "<div>\n",
       "<style scoped>\n",
       "    .dataframe tbody tr th:only-of-type {\n",
       "        vertical-align: middle;\n",
       "    }\n",
       "\n",
       "    .dataframe tbody tr th {\n",
       "        vertical-align: top;\n",
       "    }\n",
       "\n",
       "    .dataframe thead th {\n",
       "        text-align: right;\n",
       "    }\n",
       "</style>\n",
       "<table border=\"1\" class=\"dataframe\">\n",
       "  <thead>\n",
       "    <tr style=\"text-align: right;\">\n",
       "      <th></th>\n",
       "      <th>correct</th>\n",
       "      <th>rt_ms</th>\n",
       "      <th>count</th>\n",
       "      <th>avg_rt_s</th>\n",
       "      <th>correct_ratio</th>\n",
       "    </tr>\n",
       "    <tr>\n",
       "      <th>image</th>\n",
       "      <th></th>\n",
       "      <th></th>\n",
       "      <th></th>\n",
       "      <th></th>\n",
       "      <th></th>\n",
       "    </tr>\n",
       "  </thead>\n",
       "  <tbody>\n",
       "    <tr>\n",
       "      <th>blackDiagonal.png</th>\n",
       "      <td>155</td>\n",
       "      <td>391289</td>\n",
       "      <td>156</td>\n",
       "      <td>2.508263</td>\n",
       "      <td>0.993590</td>\n",
       "    </tr>\n",
       "    <tr>\n",
       "      <th>blackHorizontal.png</th>\n",
       "      <td>151</td>\n",
       "      <td>1040733</td>\n",
       "      <td>156</td>\n",
       "      <td>6.671365</td>\n",
       "      <td>0.967949</td>\n",
       "    </tr>\n",
       "    <tr>\n",
       "      <th>whiteDiagonal.png</th>\n",
       "      <td>155</td>\n",
       "      <td>411379</td>\n",
       "      <td>156</td>\n",
       "      <td>2.637045</td>\n",
       "      <td>0.993590</td>\n",
       "    </tr>\n",
       "    <tr>\n",
       "      <th>whiteNoWin.png</th>\n",
       "      <td>142</td>\n",
       "      <td>692258</td>\n",
       "      <td>156</td>\n",
       "      <td>4.437551</td>\n",
       "      <td>0.910256</td>\n",
       "    </tr>\n",
       "    <tr>\n",
       "      <th>whiteVertical.png</th>\n",
       "      <td>156</td>\n",
       "      <td>410528</td>\n",
       "      <td>156</td>\n",
       "      <td>2.631590</td>\n",
       "      <td>1.000000</td>\n",
       "    </tr>\n",
       "  </tbody>\n",
       "</table>\n",
       "</div>"
      ],
      "text/plain": [
       "                     correct    rt_ms  count  avg_rt_s  correct_ratio\n",
       "image                                                                \n",
       "blackDiagonal.png        155   391289    156  2.508263       0.993590\n",
       "blackHorizontal.png      151  1040733    156  6.671365       0.967949\n",
       "whiteDiagonal.png        155   411379    156  2.637045       0.993590\n",
       "whiteNoWin.png           142   692258    156  4.437551       0.910256\n",
       "whiteVertical.png        156   410528    156  2.631590       1.000000"
      ]
     },
     "execution_count": 4,
     "metadata": {},
     "output_type": "execute_result"
    }
   ],
   "source": [
    "quiz_per_question = quiz_df[[\"image\", \"correct\", \"rt_ms\", \"count\"]].groupby(\"image\").sum()\n",
    "quiz_per_question[\"avg_rt_s\"] = quiz_per_question[\"rt_ms\"] / 1000 / quiz_per_question[\"count\"]\n",
    "quiz_per_question[\"correct_ratio\"] = quiz_per_question[\"correct\"] / quiz_per_question[\"count\"]\n",
    "quiz_per_question"
   ]
  },
  {
   "cell_type": "code",
   "execution_count": 5,
   "id": "3638b20b-23c0-4676-84cd-6ab236ebd51f",
   "metadata": {},
   "outputs": [
    {
     "data": {
      "text/plain": [
       "5    138\n",
       "4     16\n",
       "3      1\n",
       "2      1\n",
       "Name: correct, dtype: int64"
      ]
     },
     "execution_count": 5,
     "metadata": {},
     "output_type": "execute_result"
    }
   ],
   "source": [
    "quiz_df.groupby(\"subject\").sum()[\"correct\"].value_counts()"
   ]
  },
  {
   "cell_type": "code",
   "execution_count": 6,
   "id": "2ab90649-5358-4ef1-be18-c2e041877300",
   "metadata": {},
   "outputs": [
    {
     "name": "stdout",
     "output_type": "stream",
     "text": [
      "Correclation = 0.13643910994805136, p = 0.08943792233002816\n"
     ]
    }
   ],
   "source": [
    "age_correct = quiz_df.groupby(\"subject\").mean()[[\"correct\", \"ExactAge\"]]\n",
    "age_correct[\"correct\"] = age_correct[\"correct\"] * 5\n",
    "r, p = stats.spearmanr(age_correct[\"ExactAge\"], age_correct[\"correct\"])\n",
    "print(f\"Correclation = {r}, p = {p}\")"
   ]
  },
  {
   "cell_type": "code",
   "execution_count": 17,
   "id": "5fb17dfd-306f-4343-bf15-b8d9201b276c",
   "metadata": {},
   "outputs": [
    {
     "data": {
      "text/plain": [
       "5.0    138\n",
       "4.0     16\n",
       "2.0      1\n",
       "3.0      1\n",
       "Name: correct, dtype: int64"
      ]
     },
     "execution_count": 17,
     "metadata": {},
     "output_type": "execute_result"
    }
   ],
   "source": [
    "age_correct[\"correct\"].value_counts()"
   ]
  },
  {
   "cell_type": "code",
   "execution_count": 7,
   "id": "e7dab5d2-d2d6-4e3d-8b99-14ccdd50bb37",
   "metadata": {},
   "outputs": [
    {
     "data": {
      "text/plain": [
       "<AxesSubplot:xlabel='ExactAge', ylabel='correct'>"
      ]
     },
     "execution_count": 7,
     "metadata": {},
     "output_type": "execute_result"
    },
    {
     "data": {
      "image/png": "[encoded data removed]",
      "text/plain": [
       "<Figure size 432x288 with 1 Axes>"
      ]
     },
     "metadata": {
      "needs_background": "light"
     },
     "output_type": "display_data"
    }
   ],
   "source": [
    "age_correct.plot.scatter(x = \"ExactAge\", y = \"correct\")"
   ]
  },
  {
   "cell_type": "code",
   "execution_count": null,
   "id": "a972a860-24b9-471e-9038-9c4482379d0f",
   "metadata": {},
   "outputs": [],
   "source": []
  }
 ],
 "metadata": {
  "kernelspec": {
   "display_name": "Python 3 (ipykernel)",
   "language": "python",
   "name": "python3"
  },
  "language_info": {
   "codemirror_mode": {
    "name": "ipython",
    "version": 3
   },
   "file_extension": ".py",
   "mimetype": "text/x-python",
   "name": "python",
   "nbconvert_exporter": "python",
   "pygments_lexer": "ipython3",
   "version": "3.10.2"
  }
 },
 "nbformat": 4,
 "nbformat_minor": 5
}
