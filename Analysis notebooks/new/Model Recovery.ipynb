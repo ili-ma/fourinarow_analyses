{
 "cells": [
  {
   "cell_type": "code",
   "execution_count": 1,
   "metadata": {},
   "outputs": [],
   "source": [
    "import os\n",
    "import re\n",
    "import math\n",
    "import matplotlib.pyplot as plt\n",
    "import numpy as np\n",
    "import pandas as pd\n",
    "import scipy.stats as sts\n",
    "from statistics import mean\n",
    "\n",
    "datadir = \"../data/generated_games/\""
   ]
  },
  {
   "cell_type": "code",
   "execution_count": 2,
   "metadata": {},
   "outputs": [
    {
     "name": "stdout",
     "output_type": "stream",
     "text": [
      "Read 9 nlls in ../data/generated_games/fit_no_tree_gen_full\n",
      "Read 9 nlls in ../data/generated_games/fit_no_tree_gen_no_tree\n",
      "Read 9 nlls in ../data/generated_games/fit_gen_average\n",
      "Read 9 nlls in ../data/generated_games/fit_full_gen_no_tree\n"
     ]
    },
    {
     "data": {
      "text/html": [
       "<div>\n",
       "<style scoped>\n",
       "    .dataframe tbody tr th:only-of-type {\n",
       "        vertical-align: middle;\n",
       "    }\n",
       "\n",
       "    .dataframe tbody tr th {\n",
       "        vertical-align: top;\n",
       "    }\n",
       "\n",
       "    .dataframe thead th {\n",
       "        text-align: right;\n",
       "    }\n",
       "</style>\n",
       "<table border=\"1\" class=\"dataframe\">\n",
       "  <thead>\n",
       "    <tr style=\"text-align: right;\">\n",
       "      <th></th>\n",
       "      <th>fit_nt_gen_full</th>\n",
       "      <th>fit_nt_gen_nt</th>\n",
       "      <th>fit_full_gen_full</th>\n",
       "      <th>fit_full_gen_nt</th>\n",
       "    </tr>\n",
       "    <tr>\n",
       "      <th>StudyID</th>\n",
       "      <th></th>\n",
       "      <th></th>\n",
       "      <th></th>\n",
       "      <th></th>\n",
       "    </tr>\n",
       "  </thead>\n",
       "  <tbody>\n",
       "    <tr>\n",
       "      <th>Sub1099_vs_Level110</th>\n",
       "      <td>2.164161</td>\n",
       "      <td>2.733674</td>\n",
       "      <td>1.990584</td>\n",
       "      <td>2.595237</td>\n",
       "    </tr>\n",
       "    <tr>\n",
       "      <th>Sub1099_vs_Level118</th>\n",
       "      <td>2.143804</td>\n",
       "      <td>2.349564</td>\n",
       "      <td>1.885318</td>\n",
       "      <td>2.495463</td>\n",
       "    </tr>\n",
       "    <tr>\n",
       "      <th>Sub1099_vs_Level92</th>\n",
       "      <td>2.117804</td>\n",
       "      <td>2.689744</td>\n",
       "      <td>1.892562</td>\n",
       "      <td>2.568502</td>\n",
       "    </tr>\n",
       "    <tr>\n",
       "      <th>Sub117_vs_Level110</th>\n",
       "      <td>2.038069</td>\n",
       "      <td>2.547121</td>\n",
       "      <td>2.023929</td>\n",
       "      <td>2.640488</td>\n",
       "    </tr>\n",
       "    <tr>\n",
       "      <th>Sub117_vs_Level118</th>\n",
       "      <td>2.202988</td>\n",
       "      <td>2.600927</td>\n",
       "      <td>1.795200</td>\n",
       "      <td>2.644190</td>\n",
       "    </tr>\n",
       "    <tr>\n",
       "      <th>Sub117_vs_Level92</th>\n",
       "      <td>2.152895</td>\n",
       "      <td>2.558443</td>\n",
       "      <td>1.997246</td>\n",
       "      <td>2.598983</td>\n",
       "    </tr>\n",
       "    <tr>\n",
       "      <th>Sub200_vs_Level110</th>\n",
       "      <td>2.222054</td>\n",
       "      <td>1.633850</td>\n",
       "      <td>1.853115</td>\n",
       "      <td>1.698577</td>\n",
       "    </tr>\n",
       "    <tr>\n",
       "      <th>Sub200_vs_Level118</th>\n",
       "      <td>2.181218</td>\n",
       "      <td>1.740544</td>\n",
       "      <td>2.102723</td>\n",
       "      <td>1.708900</td>\n",
       "    </tr>\n",
       "    <tr>\n",
       "      <th>Sub200_vs_Level92</th>\n",
       "      <td>2.303193</td>\n",
       "      <td>1.865840</td>\n",
       "      <td>2.167171</td>\n",
       "      <td>1.880296</td>\n",
       "    </tr>\n",
       "  </tbody>\n",
       "</table>\n",
       "</div>"
      ],
      "text/plain": [
       "                     fit_nt_gen_full  fit_nt_gen_nt  fit_full_gen_full  \\\n",
       "StudyID                                                                  \n",
       "Sub1099_vs_Level110         2.164161       2.733674           1.990584   \n",
       "Sub1099_vs_Level118         2.143804       2.349564           1.885318   \n",
       "Sub1099_vs_Level92          2.117804       2.689744           1.892562   \n",
       "Sub117_vs_Level110          2.038069       2.547121           2.023929   \n",
       "Sub117_vs_Level118          2.202988       2.600927           1.795200   \n",
       "Sub117_vs_Level92           2.152895       2.558443           1.997246   \n",
       "Sub200_vs_Level110          2.222054       1.633850           1.853115   \n",
       "Sub200_vs_Level118          2.181218       1.740544           2.102723   \n",
       "Sub200_vs_Level92           2.303193       1.865840           2.167171   \n",
       "\n",
       "                     fit_full_gen_nt  \n",
       "StudyID                               \n",
       "Sub1099_vs_Level110         2.595237  \n",
       "Sub1099_vs_Level118         2.495463  \n",
       "Sub1099_vs_Level92          2.568502  \n",
       "Sub117_vs_Level110          2.640488  \n",
       "Sub117_vs_Level118          2.644190  \n",
       "Sub117_vs_Level92           2.598983  \n",
       "Sub200_vs_Level110          1.698577  \n",
       "Sub200_vs_Level118          1.708900  \n",
       "Sub200_vs_Level92           1.880296  "
      ]
     },
     "execution_count": 2,
     "metadata": {},
     "output_type": "execute_result"
    }
   ],
   "source": [
    "from fourinarowfunctions import read_subject_nlls\n",
    "\n",
    "def add_subject_df(target_df, path, name):\n",
    "    nll_dict = read_subject_nlls(path)\n",
    "    print(f\"Read {len(nll_dict)} nlls in {path}\")\n",
    "    df = pd.DataFrame(list(nll_dict.items()), columns=['StudyID', name])\n",
    "    # Some IDs start with an age group specification. Some have an A before the number.\n",
    "    # Normalize the names by removing both optional elements.\n",
    "    pattern = r\"(Age\\d)?SubA?(.*)\"\n",
    "    preprocess_id = lambda x: \"Sub\" + re.match(pattern, x).group(2)\n",
    "    df['StudyID'] = df['StudyID'].apply(preprocess_id)\n",
    "    df.set_index('StudyID', inplace=True)\n",
    "    if isinstance(target_df, pd.DataFrame):\n",
    "        return pd.merge(target_df, df, left_index=True, right_index=True, how=\"outer\")\n",
    "    else:\n",
    "        return df\n",
    "\n",
    "nll_data = None\n",
    "nll_data = add_subject_df(nll_data, datadir + \"fit_no_tree_gen_full\", \"fit_nt_gen_full\")\n",
    "nll_data = add_subject_df(nll_data, datadir + \"fit_no_tree_gen_no_tree\", \"fit_nt_gen_nt\")\n",
    "nll_data = add_subject_df(nll_data, datadir + \"fit_gen_average\", \"fit_full_gen_full\")\n",
    "nll_data = add_subject_df(nll_data, datadir + \"fit_full_gen_no_tree\", \"fit_full_gen_nt\")\n",
    "nll_data"
   ]
  },
  {
   "cell_type": "code",
   "execution_count": 3,
   "metadata": {},
   "outputs": [
    {
     "data": {
      "text/plain": [
       "fit_nt_gen_full      2.169576\n",
       "fit_nt_gen_nt        2.302190\n",
       "fit_full_gen_full    1.967539\n",
       "fit_full_gen_nt      2.314515\n",
       "dtype: float64"
      ]
     },
     "execution_count": 3,
     "metadata": {},
     "output_type": "execute_result"
    }
   ],
   "source": [
    "nll_data.mean()"
   ]
  },
  {
   "cell_type": "raw",
   "metadata": {},
   "source": [
    "#Exclude subjects\n",
    "#drop the double subject\n",
    "data = data[~data.StudyID.str.contains(\"866\")]\n",
    "# drop the subject with extremely low elo\n",
    "data = data[~data.StudyID.str.contains(\"236\")] \n",
    "data[\"StudyID\"].nunique() # expect 156"
   ]
  },
  {
   "cell_type": "code",
   "execution_count": 4,
   "metadata": {},
   "outputs": [],
   "source": [
    "def bootstrap(values, reduce):\n",
    "    num_bootstraps = 10000\n",
    "    samples = []\n",
    "    for _ in range(num_bootstraps):\n",
    "        # Resample with replacement\n",
    "        raw_sample = np.random.choice(values, size=len(values), replace=True)\n",
    "        # Calculate the median of the bootstrap sample\n",
    "        reduced_sample = reduce(raw_sample)\n",
    "        if not np.isnan(reduced_sample):\n",
    "            samples.append(reduced_sample)\n",
    "    return np.percentile(samples, [5, 50, 95])\n",
    "\n",
    "def plot_bootstrap(bootstrap_result, title):\n",
    "    ci_lo = bootstrap_result[1] - bootstrap_result[0]\n",
    "    ci_hi = bootstrap_result[2] - bootstrap_result[1]\n",
    "    plt.figure(figsize=(6,1))\n",
    "    plt.errorbar([bootstrap_result[1]], [0], xerr=[[ci_lo], [ci_hi]], fmt='o', capsize=5)\n",
    "    plt.axvline(x=0, linestyle='--', color='gray')\n",
    "    plt.title(title)\n",
    "    return plt"
   ]
  },
  {
   "cell_type": "code",
   "execution_count": 5,
   "metadata": {},
   "outputs": [
    {
     "data": {
      "text/plain": [
       "array([-0.25848614, -0.17357673, -0.13602235])"
      ]
     },
     "execution_count": 5,
     "metadata": {},
     "output_type": "execute_result"
    }
   ],
   "source": [
    "full_boot = bootstrap(nll_data[\"fit_full_gen_full\"] - nll_data[\"fit_nt_gen_full\"], np.median)\n",
    "full_boot"
   ]
  },
  {
   "cell_type": "code",
   "execution_count": 6,
   "metadata": {},
   "outputs": [
    {
     "data": {
      "text/plain": [
       "<module 'matplotlib.pyplot' from 'C:\\\\Users\\\\Timva\\\\AppData\\\\Local\\\\Programs\\\\Python\\\\Python310\\\\lib\\\\site-packages\\\\matplotlib\\\\pyplot.py'>"
      ]
     },
     "execution_count": 6,
     "metadata": {},
     "output_type": "execute_result"
    },
    {
     "data": {
      "image/png": "[encoded data removed]",
      "text/plain": [
       "<Figure size 432x72 with 1 Axes>"
      ]
     },
     "metadata": {
      "needs_background": "light"
     },
     "output_type": "display_data"
    }
   ],
   "source": [
    "plot_bootstrap(full_boot, \"Generated by full model\")"
   ]
  },
  {
   "cell_type": "code",
   "execution_count": 7,
   "metadata": {},
   "outputs": [
    {
     "data": {
      "text/plain": [
       "array([-0.06472626, -0.04053913,  0.03164438])"
      ]
     },
     "execution_count": 7,
     "metadata": {},
     "output_type": "execute_result"
    }
   ],
   "source": [
    "nt_boot = bootstrap(nll_data[\"fit_nt_gen_nt\"] - nll_data[\"fit_full_gen_nt\"], np.nanmedian)\n",
    "nt_boot"
   ]
  },
  {
   "cell_type": "code",
   "execution_count": 8,
   "metadata": {},
   "outputs": [
    {
     "data": {
      "text/plain": [
       "<module 'matplotlib.pyplot' from 'C:\\\\Users\\\\Timva\\\\AppData\\\\Local\\\\Programs\\\\Python\\\\Python310\\\\lib\\\\site-packages\\\\matplotlib\\\\pyplot.py'>"
      ]
     },
     "execution_count": 8,
     "metadata": {},
     "output_type": "execute_result"
    },
    {
     "data": {
      "image/png": "[encoded data removed]",
      "text/plain": [
       "<Figure size 432x72 with 1 Axes>"
      ]
     },
     "metadata": {
      "needs_background": "light"
     },
     "output_type": "display_data"
    }
   ],
   "source": [
    "plot_bootstrap(nt_boot, \"Generated by no tree model\")"
   ]
  },
  {
   "cell_type": "code",
   "execution_count": 9,
   "metadata": {},
   "outputs": [],
   "source": [
    "def make_plot(data, ref_model_name, referenceModel, compareModel):\n",
    "    fig, ax = plt.subplots()\n",
    "    fig.set_size_inches(6, 1)\n",
    "\n",
    "    myFontSize = 12\n",
    "\n",
    "    loglik_main = -data[referenceModel].mean()\n",
    "    loglik_diff = []\n",
    "    loglik_sem  = []\n",
    "    model_names = [referenceModel, compareModel]\n",
    "    for model_name in model_names:\n",
    "        diffs = data[referenceModel] - data[model_name]\n",
    "        loglik_diff.append(diffs.mean())\n",
    "        loglik_sem.append(diffs.std() / math.sqrt(len(diffs)))\n",
    "\n",
    "    domain = [-2.55, -1.9]\n",
    "\n",
    "    def markSection(ax, label, x, y):\n",
    "        ax.axhline(y = y-0.5, color='black', linestyle = 'dashed')\n",
    "        ax.text(x, y, label, ha ='left', va='bottom', fontsize=myFontSize)\n",
    "\n",
    "    ax.set_ylim([0.5,len(model_names)+0.5])\n",
    "    ax.set_yticks(range(len(model_names),0,-1))\n",
    "    ax.set_yticklabels(model_names, fontsize = myFontSize)\n",
    "    ax.xaxis.set_tick_params(labelsize = myFontSize)\n",
    "    ax.barh(range(len(model_names),0,-1), loglik_diff,\n",
    "            xerr = loglik_sem,\n",
    "            height = 0.5, align='center',\n",
    "            color = '#7DE3AC', ecolor='black', left=loglik_main)\n",
    "    ax.plot(loglik_main, len(model_names),'.k')\n",
    "    ax.axvline(x=loglik_main, color='black')\n",
    "    markSection(ax, 'Generated by ' + ref_model_name, domain[0], 3)\n",
    "    # markSection(ax, 'Lesions: features', domain[0], 6)\n",
    "    ax.yaxis.tick_right()\n",
    "    ax.spines['left'].set_visible(False)\n",
    "    ax.spines['top'].set_visible(False)\n",
    "    ax.set_xlim(domain)"
   ]
  },
  {
   "cell_type": "code",
   "execution_count": 10,
   "metadata": {},
   "outputs": [
    {
     "data": {
      "image/png": "[encoded data removed]",
      "text/plain": [
       "<Figure size 432x72 with 1 Axes>"
      ]
     },
     "metadata": {
      "needs_background": "light"
     },
     "output_type": "display_data"
    }
   ],
   "source": [
    "make_plot(nll_data, 'full model', 'fit_full_gen_full', 'fit_nt_gen_full')"
   ]
  },
  {
   "cell_type": "code",
   "execution_count": 11,
   "metadata": {},
   "outputs": [
    {
     "data": {
      "image/png": "[encoded data removed]",
      "text/plain": [
       "<Figure size 432x72 with 1 Axes>"
      ]
     },
     "metadata": {
      "needs_background": "light"
     },
     "output_type": "display_data"
    }
   ],
   "source": [
    "make_plot(nll_data, 'no tree model', 'fit_nt_gen_nt', 'fit_full_gen_nt')"
   ]
  },
  {
   "cell_type": "code",
   "execution_count": null,
   "metadata": {},
   "outputs": [],
   "source": []
  }
 ],
 "metadata": {
  "kernelspec": {
   "display_name": "Python 3 (ipykernel)",
   "language": "python",
   "name": "python3"
  },
  "language_info": {
   "codemirror_mode": {
    "name": "ipython",
    "version": 3
   },
   "file_extension": ".py",
   "mimetype": "text/x-python",
   "name": "python",
   "nbconvert_exporter": "python",
   "pygments_lexer": "ipython3",
   "version": "3.10.2"
  },
  "toc-autonumbering": false
 },
 "nbformat": 4,
 "nbformat_minor": 4
}
