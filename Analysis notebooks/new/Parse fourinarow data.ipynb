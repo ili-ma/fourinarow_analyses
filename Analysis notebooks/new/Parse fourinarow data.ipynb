{
 "cells": [
  {
   "cell_type": "code",
   "execution_count": 1,
   "metadata": {},
   "outputs": [],
   "source": [
    "import numpy as np\n",
    "import pandas as pd\n",
    "import seaborn as sb\n",
    "import statsmodels\n",
    "import json\n",
    "from collections import defaultdict\n",
    "import matplotlib.pyplot as plt\n",
    "import matplotlib.patches as patches\n",
    "import os\n",
    "\n",
    "from fourinarowfunctions import *\n",
    "\n",
    "# directory where your data is stored\n",
    "direc = '../data/'"
   ]
  },
  {
   "cell_type": "code",
   "execution_count": 2,
   "metadata": {},
   "outputs": [],
   "source": [
    "def should_be_equal(name, actual, expected, warnings):\n",
    "    if expected != actual:\n",
    "        warnings.append(f\"{name} was expected to be {expected} but was {actual}\")\n",
    "\n",
    "def check_event_counts(data,num_games):\n",
    "    event_count_dict = defaultdict(lambda: 0, dict(zip(*np.unique([e['event_type'] for e in data],return_counts=True))))\n",
    "    warnings = []\n",
    "    should_be_equal(\"Number of game starts\", event_count_dict['start game'], num_games, warnings)\n",
    "    should_be_equal(\"Number of game endings\", event_count_dict['end game'], num_games, warnings)\n",
    "    should_be_equal(\"User moves\", event_count_dict['user move'], event_count_dict['your turn'], warnings)\n",
    "    should_be_equal(\"Opponent moves\", event_count_dict['opponent move'], event_count_dict['waiting for opponent'], warnings)\n",
    "    should_be_equal(\"Game outcomes\", event_count_dict['opponent win'] + event_count_dict['user win'] + event_count_dict['draw'], event_count_dict['start game'], warnings)\n",
    "    return warnings"
   ]
  },
  {
   "cell_type": "code",
   "execution_count": 3,
   "metadata": {},
   "outputs": [
    {
     "name": "stdout",
     "output_type": "stream",
     "text": [
      "drop test_im:R_2YspUds9g1Pyp6J\n",
      "drop test_im:R_1LYfkmETpZRD3kn\n",
      "drop debug:R_3G7Yq6aginiNva2\n",
      "drop test_im2:R_2YspUds9g1Pyp6J\n",
      "drop im_full_test:assign_full_test\n",
      "drop test_im3:R_2YspUds9g1Pyp6J\n",
      "drop null:R_emsNDLsvWMLPb7X\n",
      "drop test_im_ff:test_FF_win\n",
      "drop test_im_edge:test_edge_win\n",
      "drop twindemo:noas\n",
      "drop null:R_2qCyb2CeLwcRxH2\n",
      "drop null:R_25HjvhOMhc79iaa\n",
      "drop debugYZNI1G:debugDVJFSO\n",
      "drop test_BO_11:R_1eXnot6X58rnPMv\n",
      "drop null:R_2zhw77FMGEb36zK\n",
      "drop debugOCOGDF:debug2TDLTY\n",
      "drop test_im_ff2:test_FF2_win\n",
      "drop null:R_2aV9fwk4CR3GjBg\n",
      "drop debugQWOQ1C:debugOQ8IEY\n",
      "drop CPTest:R_1QxPuBVlzMbldXa\n",
      "drop CPTest:R_1FsoM2AkWpLn1Qw\n",
      "drop im_full_test:ssign_full_test\n",
      "drop just_a_test_:test\n",
      "drop debugfull:noas\n",
      "drop null:R_vou3qrtMy6aHysp\n",
      "drop debugscreenshot:noas\n",
      "Loaded 192 participants\n",
      "Incomplete A108:R_2TnOx7dVPSonpTg: user only finished 27 games\n",
      "Incomplete A123:R_2viEesh2c9XCBMe: user only finished 27 games\n",
      "Incomplete A120:R_PONVLZnwDK7wSpr: user only finished 27 games\n",
      "Incomplete 115:R_241tt6O6tVQs9NR: user only finished 22 games\n",
      "Incomplete 106:R_1HqNZ7zU4Tb0SSR: user only finished 22 games\n",
      "Incomplete A1174:R_296zFssAEmp2lpK: user only finished 17 games\n",
      "Incomplete 131:R_3iJ8A5hXnygbqAF: user only finished 22 games\n",
      "Incomplete 160:R_3h5POosYswsLZqe: user only finished 22 games\n",
      "Incomplete 159:R_3kolXJjcfDsjL6k: user only finished 22 games\n",
      "Incomplete A125:R_d5dJPkPEZBF0HLP: user only finished 32 games\n",
      "Incomplete 128:R_AEYAh7gikx2YEvL: user only finished 22 games\n",
      "Incomplete 154:R_3kgZuiVj87g1GNO: user only finished 22 games\n",
      "Incomplete 153:R_reR4dauvBGinQvT: user only finished 22 games\n",
      "Incomplete 109:R_1NurOLY6ru1XwrL: user only finished 12 games\n",
      "Incomplete 124:R_cOwNfKZ17YDGcGR: user only finished 12 games\n",
      "Incomplete 130:R_10pkDu4x8ARiMHf: user only finished 12 games\n",
      "Incomplete 168:R_2ARs0RJIBjJZhYL: user only finished 22 games\n",
      "Incomplete 143:R_1PRYqkSFZQYTVUg: user only finished 22 games\n",
      "Incomplete A507:R_2b176cnRCyapnkx: user only finished 27 games\n",
      "Incomplete 142:R_1InpeBO876j23Eh: user only finished 22 games\n",
      "Incomplete 169:R_RQyaj0YbKu9fsDT: user only finished 27 games\n",
      "Incomplete 195:R_22tOmOP9V3YTA0u: user only finished 27 games\n",
      "Incomplete 118:R_28AEWB4BHHAp3ic: user only finished 22 games\n",
      "Incomplete A116:R_cu9t4ZNp60qTplf: user only finished 27 games\n",
      "Incomplete 116:R_3qeT0l1LS4myHr4: user only finished 22 games\n",
      "Incomplete 141:R_1CK2JfPijAWf85C: user only finished 27 games\n",
      "Incomplete 828:R_1fmiqSWEdYLAPg7: user only finished 29 games\n",
      "Incomplete A106:R_x6jDmbRb3oyYGdz: user only finished 27 games\n",
      "Incomplete 841:R_25ZiTXX4Zh9Hnjz: user only finished 32 games\n",
      "Incomplete A242:R_ymscU32j53VKwil: user completed too many games? 74\n",
      "Incomplete A143:R_RESPGcoZaPUGauR: user only finished 4 games\n",
      "Incomplete 867:R_1l0RzJzHGvo3BbL: user only finished 32 games\n",
      "Incomplete A1085:R_2X6TqSaV4sc4OYS: user only finished 33 games\n",
      "Incomplete A1187:R_1Eb6nxfE1nCe4bs: user only finished 17 games\n",
      "158 users with complete data\n"
     ]
    }
   ],
   "source": [
    "#name of your data file\n",
    "filename = direc + 'trialdata.csv'\n",
    "data_dict = load_data(filename)\n",
    "parsed_dict = {}\n",
    "for username, data in data_dict.items():\n",
    "    try:\n",
    "        parsed_dict[username] = get_parsed_data(data)\n",
    "    except AssertionError as e:\n",
    "        print(f\"Incomplete {username}: {e}\")\n",
    "        continue\n",
    "usernames = parsed_dict.keys()\n",
    "print(f\"{len(usernames)} users with complete data\")"
   ]
  },
  {
   "cell_type": "code",
   "execution_count": 4,
   "metadata": {},
   "outputs": [],
   "source": [
    "#load other datafiles\n",
    "age = pd.read_csv(direc + \"SubjectAge.csv\")\n",
    "bins = [7, 12, 18, 26]\n",
    "age['ageBins'] = pd.cut(age['FlooredAge'], bins)\n",
    "\n",
    "pars = pd.read_csv(direc + \"params_with_metrics.csv\", index_col=None)\n",
    "pars['StudyID'] = pars['subject'].str.split(':').str[0]\n",
    "pars = pd.merge(age, pars, on='StudyID', how='outer')\n",
    "# pars = pars[pars['iteration'].notna()]\n",
    "\n",
    "df_rt = pd.read_csv(direc + \"reactiontimes.csv\")\n",
    "df_rt['StudyID'] = df_rt['User'].str.split(':').str[0]\n",
    "df_rt = pd.merge(age, df_rt, on='StudyID', how='outer')\n",
    "# df_rt.to_csv(direc + 'df_rt.csv', index = False) "
   ]
  },
  {
   "cell_type": "code",
   "execution_count": 5,
   "metadata": {},
   "outputs": [],
   "source": [
    "# create reaction times csv\n",
    "with open(direc + \"reactiontimes.csv\", \"w\") as outfile:\n",
    "    outfile.write(\"User,GameNr,Category,Level,MoveNr,RT,UserMoves,OpponentMoves,Result\\n\")\n",
    "    for username in usernames:\n",
    "        # First go through all the events and record gane results\n",
    "        game_data = {}\n",
    "        for event in data_dict[username]:\n",
    "            if event[\"event_type\"] == \"start game\":\n",
    "                user_moves = 0\n",
    "                opponent_moves = 0\n",
    "            elif event[\"event_type\"] == \"user move\":\n",
    "                user_moves += 1\n",
    "            elif event[\"event_type\"] == \"opponent move\":\n",
    "                opponent_moves += 1\n",
    "            elif event[\"event_type\"] == \"end game\":\n",
    "                # practice rounds will be overwritten because the \"real\" rounds have the same game_num\n",
    "                game_data[event[\"event_info\"][\"game_num\"]] = {\n",
    "                    \"user_moves\": user_moves,\n",
    "                    \"opponent_moves\": opponent_moves,\n",
    "                    \"outcome\": event[\"event_info\"][\"result\"]\n",
    "                }\n",
    "        is_practice = False\n",
    "        # Go through all the events a second time and write csv lines as we go\n",
    "        for event in data_dict[username]:\n",
    "            if event[\"event_type\"] == \"start game\":\n",
    "                ei = event[\"event_info\"]\n",
    "                game_nr = ei[\"game_num\"]\n",
    "                move_nr = 0\n",
    "                is_practice = ei[\"is_practice\"]\n",
    "                game_info = \",\".join([str(x)for x in [game_nr, ei[\"category\"], ei[\"level\"]]])\n",
    "            elif event[\"event_type\"] == \"your turn\":\n",
    "                prompt_time = int(event[\"event_time\"])\n",
    "            elif event[\"event_type\"] == \"user move\":\n",
    "                if is_practice:\n",
    "                    continue\n",
    "                move_time = int(event[\"event_time\"])\n",
    "                move_nr += 1\n",
    "                gd = game_data[game_nr]\n",
    "                line = \",\".join([username, game_info, str(move_nr), str((move_time - prompt_time) / 1000), str(gd[\"user_moves\"]), str(gd[\"opponent_moves\"]), gd[\"outcome\"]])\n",
    "                outfile.write(line + \"\\n\")"
   ]
  },
  {
   "cell_type": "code",
   "execution_count": 6,
   "metadata": {},
   "outputs": [],
   "source": [
    "# Create durations csv\n",
    "with open(direc + \"gameDurations.csv\", \"w\") as outfile:\n",
    "    outfile.write(\"User,TotalDurationSeconds,MainDurationSeconds,GamesPlayed\\n\")\n",
    "    for username in usernames:\n",
    "        games_played = 0\n",
    "        startTime = 0\n",
    "        endTime = 0\n",
    "        events = data_dict[username]\n",
    "        for event in events:\n",
    "            if event[\"event_type\"] == \"start game\" and event[\"event_info\"][\"game_num\"] == 0:\n",
    "                # Practice and main task both have a game 0, but main task is assigned last\n",
    "                startTime = event[\"event_time\"]\n",
    "            elif event[\"event_type\"] == \"end game\":\n",
    "                # The endtime keeps being overwritten so we end up with the last one\n",
    "                endTime = event[\"event_time\"]\n",
    "                games_played = event[\"event_info\"][\"game_num\"] + 1 # 0-indexed\n",
    "        line_elements = [username]\n",
    "        line_elements.append(str((endTime - events[0][\"event_time\"]) / 1000) if len(events) >= 1 else \"-\")\n",
    "        line_elements.append(str((endTime - startTime) / 1000))\n",
    "        line_elements.append(str(games_played))\n",
    "        outfile.write(\",\".join(line_elements) + \"\\n\")"
   ]
  },
  {
   "cell_type": "code",
   "execution_count": null,
   "metadata": {},
   "outputs": [],
   "source": [
    "#the second argument in check_data is the number of games that ought to exist for this user\n",
    "#if this function failes an assertion, something is wrong with your data, including practise trials\n",
    "#this function will print the count of all the event type in the data\n",
    "had_warnings = False\n",
    "for index in range(len(data)):\n",
    "    d = data[index]\n",
    "    warnings = check_event_counts(d,37)\n",
    "    if warnings:\n",
    "        had_warnings = True\n",
    "        print(usernames[index] + \" \" + \"; \".join(warnings))\n",
    "    for bp,wp,m,c,rt in get_parsed_data(d):\n",
    "        assert(len(bp.split('1'))-len(bp.split('1')) in [0,1])\n",
    "print(\"Some things didn't add up!\" if had_warnings else \"Everything looks ok\")"
   ]
  },
  {
   "cell_type": "code",
   "execution_count": null,
   "metadata": {},
   "outputs": [],
   "source": [
    "hists = dataFrame['category'].hist(by=dataFrame['subject'], range=[1,20], figsize=(50, 30), xlabelsize=30, ylabelsize=30)\n",
    "for x in hists.ravel():\n",
    "    x.title.set_size(32)\n"
   ]
  },
  {
   "cell_type": "code",
   "execution_count": null,
   "metadata": {},
   "outputs": [],
   "source": [
    "plt.figure()\n",
    "dataFrame['count'] = 1\n",
    "dataFrame['win'] = (dataFrame['outcome'] == '1').astype(int)\n",
    "dataFrame['category'] = pd.to_numeric(dataFrame['category'])\n",
    "dataWinCount = dataFrame.groupby(['subject', 'category'], as_index=False).sum()\n",
    "dataWinCount['winRate'] = dataWinCount['win']/dataWinCount['count']\n",
    "dataWinCount = dataWinCount.groupby(['category'], as_index=False).mean()\n",
    "\n",
    "plt.plot(dataWinCount['category'],dataWinCount['winRate'] )"
   ]
  },
  {
   "cell_type": "code",
   "execution_count": null,
   "metadata": {},
   "outputs": [],
   "source": [
    "ax = sb.barplot(x=\"category\", y=\"winRate\", data=dataWinCount, ci = None, color = \"#3182bd\")\n",
    "plt.ylabel(\"Win rate\")\n",
    "plt.xlabel(\"Category\")"
   ]
  },
  {
   "cell_type": "code",
   "execution_count": null,
   "metadata": {},
   "outputs": [],
   "source": [
    "dataWinCount.head()"
   ]
  },
  {
   "cell_type": "code",
   "execution_count": null,
   "metadata": {},
   "outputs": [],
   "source": [
    "dataFrame['subjectNr'] = dataFrame['subject'].str.split(':').str[0]\n",
    "age['subjectNr'] = age['StudyID']\n",
    "df_age_cat = pd.merge(age, dataFrame, on='subjectNr', how='outer')\n",
    "df_age_cat = df_age_cat[df_age_cat['gameNumber'].notna()]\n",
    "df_age_winrate = df_age_cat.groupby(['subjectNr'], as_index=False).mean()\n",
    "df_age_medcat = df_age_cat.groupby(['subjectNr'], as_index=False).median()\n",
    "df_age_maxcat = df_age_cat.groupby(['subjectNr'], as_index=False).max()\n",
    "\n",
    "# Get all games numbered 0 or 1 (practice and task)\n",
    "first_games = df_age_cat[pd.to_numeric(df_age_cat['gameNumber']) < 2]\n",
    "# First games has 4 games per subject: 2 practice 2 task\n",
    "counter = range(int(len(first_games) / 4))\n",
    "# Make a list of every 1st and 2nd game (practice games), so excluce every 3rd and 4th (task games)\n",
    "indices = [x * 4 for x in counter]\n",
    "indices.extend([x * 4 + 1 for x in counter])\n",
    "indices.sort()\n",
    "# Select all the practice games from the df so we can get a list of their indices\n",
    "practice_games = first_games.iloc[indices]\n",
    "# Remove the practice indices from df_age_cat. What's left are only task games.\n",
    "df_age_cat = df_age_cat.drop(practice_games.index)\n",
    "\n",
    "df_age_cat"
   ]
  },
  {
   "cell_type": "code",
   "execution_count": null,
   "metadata": {},
   "outputs": [],
   "source": [
    "ax = sb.barplot(x=\"subject\", y=\"win\", data=dataFrame, ci = None, color = \"#3182bd\")\n",
    "plt.ylabel(\"Total win rate\")\n",
    "plt.xlabel(\"Subject\")\n"
   ]
  },
  {
   "cell_type": "code",
   "execution_count": null,
   "metadata": {},
   "outputs": [],
   "source": [
    "win_age = sb.pointplot(x=\"gameNumber\", y=\"category\", data=df_age_cat, ci =68)\n",
    "plt.ylabel(\"Opponent category\", fontsize=20)\n",
    "plt.xlabel(\"Game number\", fontsize=20)\n",
    "bins = [7, 12, 18, 26]\n",
    "df_age_cat['ageBins'] = pd.cut(df_age_cat['FlooredAge'], bins)\n",
    "df_age_cat.loc[df_age_cat.index.intersection([x * 30 for x in range(20)]),:]"
   ]
  },
  {
   "cell_type": "code",
   "execution_count": null,
   "metadata": {},
   "outputs": [],
   "source": [
    "df_age_cat2 = df_age_cat\n",
    "df_age_cat2[\"gameNumber\"] = pd.to_numeric(df_age_cat2[\"gameNumber\"])\n",
    "win_age = sb.pointplot(x=\"gameNumber\", y=\"category\", data=df_age_cat2, ci =68, hue = \"ageBins\", dodge=True,plot_kws=dict(alpha=0.3))\n",
    "plt.setp(win_age.collections, alpha=.5) #for the markers\n",
    "plt.setp(win_age.lines, alpha=.5) \n",
    "plt.ylabel(\"Opponent category\", fontsize=20)\n",
    "plt.xlabel(\"Game number\", fontsize=20)\n",
    "plt.legend(loc='upper left', frameon=False)"
   ]
  },
  {
   "cell_type": "code",
   "execution_count": null,
   "metadata": {},
   "outputs": [],
   "source": [
    "plt.figure(figsize=(10,5))\n",
    "df_age_cat2 = df_age_cat\n",
    "df_age_cat2[\"gameNumber\"] = pd.to_numeric(df_age_cat2[\"gameNumber\"])\n",
    "win_age = sb.pointplot(x=\"gameNumber\", y=\"category\", data=df_age_cat2, ci =68, \n",
    "                       hue = \"ageBins\", dodge=True,plot_kws=dict(alpha=1), palette=sb.color_palette(\"Set2\"),  \n",
    "                       legend=False)\n",
    "plt.setp(win_age.collections, alpha=1) #for the markers\n",
    "plt.setp(win_age.lines, alpha=1) \n",
    "plt.ylabel(\"Opponent category\", fontsize=20)\n",
    "plt.xlabel(\"Game number\", fontsize=20)\n",
    "plt.legend(loc='upper left', frameon=False)"
   ]
  },
  {
   "cell_type": "code",
   "execution_count": null,
   "metadata": {},
   "outputs": [],
   "source": [
    "pars_mean = pars.groupby(['StudyID'], as_index=False).mean()\n",
    "win_age = sb.regplot(x=\"ExactAge\", y=\"FeatureDropRate\", data=pars_mean, ci =68, color = \"green\")\n",
    "plt.ylabel(\"Feature drop rate\", fontsize=20)\n",
    "plt.xlabel(\"Age\", fontsize=20)\n"
   ]
  },
  {
   "cell_type": "code",
   "execution_count": null,
   "metadata": {},
   "outputs": [],
   "source": [
    "win_age = sb.regplot(x=\"ExactAge\", y=\"category\", data=df_age_medcat, ci =68)\n",
    "plt.ylabel(\"Median category\", fontsize=20)\n",
    "plt.xlabel(\"Age\", fontsize=20)\n"
   ]
  },
  {
   "cell_type": "code",
   "execution_count": null,
   "metadata": {},
   "outputs": [],
   "source": [
    "win_age = sb.regplot(x=\"ExactAge\", y=\"category\", data=df_age_maxcat, ci = 68, color = \"Darkblue\")\n",
    "plt.ylabel(\"Max category\", fontsize=20)\n",
    "plt.xlabel(\"Age\", fontsize=20)"
   ]
  },
  {
   "cell_type": "code",
   "execution_count": null,
   "metadata": {},
   "outputs": [],
   "source": [
    "win_age = sb.regplot(x=\"ExactAge\", y=\"win\", data=df_age_winrate, ci=68, color = 'Purple')\n",
    "plt.ylabel(\"Win rate\", fontsize=20)\n",
    "plt.xlabel(\"Age\", fontsize=20)"
   ]
  },
  {
   "cell_type": "code",
   "execution_count": null,
   "metadata": {},
   "outputs": [],
   "source": [
    "#plot winrate as function of category\n",
    "dataFrame['count'] = 1\n",
    "dataFrame['win'] = (dataFrame['outcome'] == '1').astype(int)\n",
    "dataFrame['category'] = pd.to_numeric(dataFrame['category'])\n",
    "dataWinCount = dataFrame.groupby(['subject', 'category'], as_index=False).sum()\n",
    "dataWinCount['winRate'] = dataWinCount['win']/dataWinCount['count']\n",
    "dataWinCount = dataWinCount.groupby(['category'], as_index=False).mean()\n",
    "print(dataWinCount)\n",
    "dataWinCount['winRate'].plot.line()"
   ]
  },
  {
   "cell_type": "code",
   "execution_count": null,
   "metadata": {},
   "outputs": [],
   "source": [
    "inputDir = '/Users/ilima/Google Drive/Projects/Cate Hartley Weiji/4inarow_fitting_results'\n",
    "with open(inputDir + '/paramsMatrix.csv', 'w') as outfile:\n",
    "    for subject in range(48):\n",
    "        for paramnr in range(5):\n",
    "            outfile.write(str(subject+1)+','+str(paramnr+1) + ',')\n",
    "            with open(inputDir + '/' + str(subject + 1) + '/' + 'params' + str(paramnr+1) + '.csv')as infile:\n",
    "                line = infile.readline()\n",
    "                outfile.write(line)"
   ]
  }
 ],
 "metadata": {
  "kernelspec": {
   "display_name": "Python 3",
   "language": "python",
   "name": "python3"
  },
  "language_info": {
   "codemirror_mode": {
    "name": "ipython",
    "version": 3
   },
   "file_extension": ".py",
   "mimetype": "text/x-python",
   "name": "python",
   "nbconvert_exporter": "python",
   "pygments_lexer": "ipython3",
   "version": "3.8.2"
  }
 },
 "nbformat": 4,
 "nbformat_minor": 4
}
