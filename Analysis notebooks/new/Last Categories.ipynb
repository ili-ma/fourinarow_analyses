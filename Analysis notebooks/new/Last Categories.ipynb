{
 "cells": [
  {
   "cell_type": "code",
   "execution_count": 1,
   "metadata": {},
   "outputs": [],
   "source": [
    "#extracts the last 3 categories for students\n",
    "import statistics\n",
    "from fourinarowfunctions import *\n",
    "\n",
    "# directory where your data is stored\n",
    "datadir = '../data/'"
   ]
  },
  {
   "cell_type": "code",
   "execution_count": 2,
   "metadata": {},
   "outputs": [
    {
     "name": "stdout",
     "output_type": "stream",
     "text": [
      "158 users with complete data\n"
     ]
    }
   ],
   "source": [
    "#name of your data file\n",
    "filename = datadir + 'trialdata.csv'\n",
    "data_dict = load_data(filename, False)\n",
    "parsed_dict = {}\n",
    "for username, data in data_dict.items():\n",
    "    try:\n",
    "        parsed_dict[username] = get_parsed_data(data)\n",
    "    except AssertionError as e:\n",
    "        continue\n",
    "usernames = sorted(parsed_dict.keys())\n",
    "print(f\"{len(usernames)} users with complete data\")"
   ]
  },
  {
   "cell_type": "code",
   "execution_count": 3,
   "metadata": {},
   "outputs": [
    {
     "name": "stdout",
     "output_type": "stream",
     "text": [
      "Done writing ../data/last_categories.csv\n"
     ]
    }
   ],
   "source": [
    "filename = datadir + \"last_categories.csv\"\n",
    "\n",
    "def average_rt(game):\n",
    "    return statistics.mean(move[\"reactiontime\"] for move in game)\n",
    "\n",
    "with open(filename, \"w\") as outfile:\n",
    "    outfile.write(\"StudyID, 3rdToLast, 2ndToLast, Last, rt3, rt2, rt1\\n\")\n",
    "    for username in sorted(usernames):\n",
    "        line = [username.split(\":\")[0]] # study_id\n",
    "        categories = [e[\"event_info\"][\"category\"] for e in get_events_with_type(data_dict[username], \"adjust level\")]\n",
    "        # The category is adjusted AFTER a game ends. That means that the last category in the list is the adjustment\n",
    "        # after the final game, so the participant didn't acutally play against that last level. The last played category\n",
    "        # is the second to last category in the list (at index -2)\n",
    "        line.extend([categories[-4], categories[-3], categories[-2]])\n",
    "        # The list of games is complete, so game[-1] is actually the last played game\n",
    "        line.append(average_rt(parsed_dict[username][-3]))\n",
    "        line.append(average_rt(parsed_dict[username][-2]))\n",
    "        line.append(average_rt(parsed_dict[username][-1]))\n",
    "        outfile.write(\",\".join([str(element) for element in line]))\n",
    "        outfile.write(\"\\n\")\n",
    "print(\"Done writing \" + filename)"
   ]
  },
  {
   "cell_type": "code",
   "execution_count": null,
   "metadata": {},
   "outputs": [],
   "source": []
  }
 ],
 "metadata": {
  "kernelspec": {
   "display_name": "Python 3",
   "language": "python",
   "name": "python3"
  },
  "language_info": {
   "codemirror_mode": {
    "name": "ipython",
    "version": 3
   },
   "file_extension": ".py",
   "mimetype": "text/x-python",
   "name": "python",
   "nbconvert_exporter": "python",
   "pygments_lexer": "ipython3",
   "version": "3.8.2"
  }
 },
 "nbformat": 4,
 "nbformat_minor": 4
}
