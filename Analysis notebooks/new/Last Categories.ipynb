{
 "cells": [
  {
   "cell_type": "code",
   "execution_count": 1,
   "metadata": {},
   "outputs": [],
   "source": [
    "from fourinarowfunctions import *\n",
    "\n",
    "# directory where your data is stored\n",
    "datadir = '../data/'"
   ]
  },
  {
   "cell_type": "code",
   "execution_count": 2,
   "metadata": {},
   "outputs": [
    {
     "name": "stdout",
     "output_type": "stream",
     "text": [
      "158 users with complete data\n"
     ]
    }
   ],
   "source": [
    "#name of your data file\n",
    "filename = datadir + 'trialdata.csv'\n",
    "data_dict = load_data(filename, False)\n",
    "parsed_dict = {}\n",
    "for username, data in data_dict.items():\n",
    "    try:\n",
    "        parsed_dict[username] = get_parsed_data(data)\n",
    "    except AssertionError as e:\n",
    "        continue\n",
    "usernames = parsed_dict.keys()\n",
    "print(f\"{len(usernames)} users with complete data\")"
   ]
  },
  {
   "cell_type": "code",
   "execution_count": 3,
   "metadata": {},
   "outputs": [
    {
     "name": "stdout",
     "output_type": "stream",
     "text": [
      "Done writing ../data/last_categories.csv\n"
     ]
    }
   ],
   "source": [
    "filename = datadir + \"last_categories.csv\"\n",
    "with open(filename, \"w\") as outfile:\n",
    "    outfile.write(\"StudyID, 3rdToLast, 2ndToLast, Last\\n\")\n",
    "    for username in sorted(usernames):\n",
    "        study_id = username.split(\":\")[0]\n",
    "        categories = [e[\"event_info\"][\"category\"] for e in get_events_with_type(data_dict[username], \"adjust level\")]\n",
    "        # The category is adjusted AFTER a game ends. That means that the last category in the list is the adjustment\n",
    "        # after the final game, so the participant didn't acutally play against that last level. The last played category\n",
    "        # is the second to last category in the list (at index -2)\n",
    "        outfile.write(\",\".join([study_id, str(categories[-4]), str(categories[-3]), str(categories[-2])]))\n",
    "        outfile.write(\"\\n\")\n",
    "print(\"Done writing \" + filename)"
   ]
  },
  {
   "cell_type": "code",
   "execution_count": null,
   "metadata": {},
   "outputs": [],
   "source": []
  }
 ],
 "metadata": {
  "kernelspec": {
   "display_name": "Python 3",
   "language": "python",
   "name": "python3"
  },
  "language_info": {
   "codemirror_mode": {
    "name": "ipython",
    "version": 3
   },
   "file_extension": ".py",
   "mimetype": "text/x-python",
   "name": "python",
   "nbconvert_exporter": "python",
   "pygments_lexer": "ipython3",
   "version": "3.8.2"
  }
 },
 "nbformat": 4,
 "nbformat_minor": 4
}
