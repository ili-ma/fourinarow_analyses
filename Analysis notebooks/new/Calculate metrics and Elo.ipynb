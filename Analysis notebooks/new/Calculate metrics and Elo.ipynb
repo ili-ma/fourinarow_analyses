{
 "cells": [
  {
   "cell_type": "markdown",
   "metadata": {},
   "source": [
    "# Create params_with_metrics\n",
    "```\n",
    "input: paramsMatrix.csv\n",
    "output: params_with_metrics.csv\n",
    "```\n",
    "Add these columns to params matrix:\n",
    "- Feature drop rate\n",
    "- Heuristic quality\n",
    "- Planning depth\n",
    "- ELO rating"
   ]
  },
  {
   "cell_type": "code",
   "execution_count": 1,
   "metadata": {},
   "outputs": [],
   "source": [
    "import numpy as np\n",
    "import pandas as pd\n",
    "from fourinarowfunctions import *\n",
    "\n",
    "%load_ext autoreload\n",
    "%autoreload 2"
   ]
  },
  {
   "cell_type": "markdown",
   "metadata": {},
   "source": [
    "Provide the directory where the data is kept"
   ]
  },
  {
   "cell_type": "code",
   "execution_count": 2,
   "metadata": {},
   "outputs": [],
   "source": [
    "direc = '../data/'"
   ]
  },
  {
   "cell_type": "markdown",
   "metadata": {},
   "source": [
    "Read parameters and calculate feature drop rate and heuristic quality"
   ]
  },
  {
   "cell_type": "code",
   "execution_count": 3,
   "metadata": {},
   "outputs": [],
   "source": [
    "df = pd.read_csv(direc + 'paramsMatrix.csv')\n",
    "df = df.drop(\"Unnamed: 0\", axis = 1)\n",
    "params = np.array([expand_params(r) for r in df.values[:,-10:].astype(float)])\n",
    "\n",
    "df['feature drop rate'] = params[:,-1]\n",
    "df['heuristic quality'] = np.apply_along_axis(get_heuristic_quality,1,params)"
   ]
  },
  {
   "cell_type": "markdown",
   "metadata": {},
   "source": [
    "We compute planning depth on the cluster. First, export the parameters"
   ]
  },
  {
   "cell_type": "code",
   "execution_count": 4,
   "metadata": {},
   "outputs": [],
   "source": [
    "np.savetxt(direc + 'params.txt', params)"
   ]
  },
  {
   "cell_type": "markdown",
   "metadata": {},
   "source": [
    "Create a directory on the cluster and move params.txt into it. Edit the compute_planning_depth.sh shell script so that the directory is correct, and change the number of jobs to the number of lines in params.txt (in this case 370). Run the script, then zip the depth folder with ```zip -r depth.zip depth```, move it back to your local computer and unzip in the directory where paramsMatrix.csv is stored. "
   ]
  },
  {
   "cell_type": "code",
   "execution_count": 5,
   "metadata": {},
   "outputs": [],
   "source": [
    "depth = np.vstack([np.loadtxt(direc + f\"depth/depth_fourinarow-dev_{i // 5}_{i % 5 + 1}.txt\") for i in range(len(params))])\n",
    "df['planning depth'] = depth"
   ]
  },
  {
   "cell_type": "markdown",
   "metadata": {},
   "source": [
    "Calculate Elo"
   ]
  },
  {
   "cell_type": "code",
   "execution_count": 6,
   "metadata": {},
   "outputs": [
    {
     "name": "stdout",
     "output_type": "stream",
     "text": [
      "drop test_im:R_2YspUds9g1Pyp6J\n",
      "drop test_im:R_1LYfkmETpZRD3kn\n",
      "drop debug:R_3G7Yq6aginiNva2\n",
      "drop test_im2:R_2YspUds9g1Pyp6J\n",
      "drop im_full_test:assign_full_test\n",
      "drop test_im3:R_2YspUds9g1Pyp6J\n",
      "drop null:R_emsNDLsvWMLPb7X\n",
      "drop test_im_ff:test_FF_win\n",
      "drop test_im_edge:test_edge_win\n",
      "drop twindemo:noas\n",
      "drop null:R_2qCyb2CeLwcRxH2\n",
      "drop null:R_25HjvhOMhc79iaa\n",
      "drop debugYZNI1G:debugDVJFSO\n",
      "drop test_BO_11:R_1eXnot6X58rnPMv\n",
      "drop null:R_2zhw77FMGEb36zK\n",
      "drop debugOCOGDF:debug2TDLTY\n",
      "drop test_im_ff2:test_FF2_win\n",
      "drop null:R_2aV9fwk4CR3GjBg\n",
      "drop debugQWOQ1C:debugOQ8IEY\n",
      "drop CPTest:R_1QxPuBVlzMbldXa\n",
      "drop CPTest:R_1FsoM2AkWpLn1Qw\n",
      "drop im_full_test:ssign_full_test\n",
      "drop just_a_test_:test\n",
      "drop debugfull:noas\n",
      "drop null:R_vou3qrtMy6aHysp\n",
      "drop debugscreenshot:noas\n",
      "Loaded 192 participants\n"
     ]
    }
   ],
   "source": [
    "data = load_data(direc + \"trialdata.csv\")"
   ]
  },
  {
   "cell_type": "code",
   "execution_count": 7,
   "metadata": {},
   "outputs": [],
   "source": [
    "def categoryHist(username, data):\n",
    "    table = np.empty([0,6])\n",
    "    category = 2\n",
    "    for event in data:\n",
    "        if event['event_type'] == 'user move':\n",
    "            color = event['event_info']['user_color']\n",
    "        if event['event_type'] == 'adjust level':\n",
    "            category = event['event_info']['category']\n",
    "        if event['event_type'] == 'end game':\n",
    "            result = event['event_info']['result']\n",
    "            resultCode = 1 if result == 'win' else -1 if result == 'opponent win' else 0\n",
    "            table = np.vstack((table, [username, event['event_info']['game_num'], int(category), event['event_info']['level'], color, resultCode]))\n",
    "    return table"
   ]
  },
  {
   "cell_type": "code",
   "execution_count": 8,
   "metadata": {},
   "outputs": [
    {
     "name": "stdout",
     "output_type": "stream",
     "text": [
      "Elo data for 192 subjects\n"
     ]
    }
   ],
   "source": [
    "# create dataframe\n",
    "forEloData = np.empty([0,6]) \n",
    "for username, userdata in data.items():\n",
    "    forEloData = np.vstack((forEloData, categoryHist(username, userdata)))\n",
    "forElo = pd.DataFrame(data = forEloData, columns = ['subject', 'gameNumber', 'category', 'level', 'user_color', 'outcome'])\n",
    "forElo[\"outcome\"] = forElo[\"outcome\"].astype(int)\n",
    "print(f\"Elo data for {len(pd.unique(forElo['subject']))} subjects\")"
   ]
  },
  {
   "cell_type": "code",
   "execution_count": 9,
   "metadata": {},
   "outputs": [],
   "source": [
    "results = [[row['subject'].split(':')[1],str(row['level']),row['outcome']] if row['user_color']=='black' else\n",
    "           [str(row['level']),row['subject'].split(':')[1],-row['outcome']] for _,row in forElo.iterrows()]\n",
    "create_bayeselo_input(results, direc + 'games.pgn')"
   ]
  },
  {
   "cell_type": "code",
   "execution_count": 10,
   "metadata": {},
   "outputs": [],
   "source": [
    "bayeselo_direc = './'\n",
    "\n",
    "elo = run_bayeselo(bayeselo_direc,[direc + 'tournament_results_short.pgn', direc + 'games.pgn'])\n",
    "elo = {key : val for key,val in elo.items() if key.startswith('R_')}\n",
    "df[\"elo\"] = df[\"subject\"].apply(lambda x: x.split(\":\")[1]).map(elo)"
   ]
  },
  {
   "cell_type": "markdown",
   "metadata": {},
   "source": [
    "All the metrics are in the datafrome now. Let's save it."
   ]
  },
  {
   "cell_type": "code",
   "execution_count": 11,
   "metadata": {},
   "outputs": [],
   "source": [
    "df.to_csv(direc + 'params_with_metrics.csv', index = False)"
   ]
  },
  {
   "cell_type": "code",
   "execution_count": null,
   "metadata": {},
   "outputs": [],
   "source": []
  }
 ],
 "metadata": {
  "kernelspec": {
   "display_name": "Python 3",
   "language": "python",
   "name": "python3"
  },
  "language_info": {
   "codemirror_mode": {
    "name": "ipython",
    "version": 3
   },
   "file_extension": ".py",
   "mimetype": "text/x-python",
   "name": "python",
   "nbconvert_exporter": "python",
   "pygments_lexer": "ipython3",
   "version": "3.8.2"
  }
 },
 "nbformat": 4,
 "nbformat_minor": 4
}
