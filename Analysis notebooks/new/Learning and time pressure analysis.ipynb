{
 "cells": [
  {
   "cell_type": "code",
   "execution_count": 31,
   "metadata": {},
   "outputs": [
    {
     "name": "stdout",
     "output_type": "stream",
     "text": [
      "The autoreload extension is already loaded. To reload it, use:\n",
      "  %reload_ext autoreload\n"
     ]
    }
   ],
   "source": [
    "import numpy as np\n",
    "import matplotlib.pyplot as plt\n",
    "import scipy.stats as sts\n",
    "from matplotlib import rcParams,font_manager\n",
    "import os\n",
    "from matplotlib.ticker import FormatStrFormatter\n",
    "import pandas as pd\n",
    "import pickle\n",
    "from fourinarowfunctions import *\n",
    "\n",
    "%load_ext autoreload\n",
    "%autoreload 2"
   ]
  },
  {
   "cell_type": "code",
   "execution_count": 8,
   "metadata": {},
   "outputs": [],
   "source": [
    "rcParams['figure.figsize'] = (6,6) #figure size in inches\n",
    "rcParams['font.family'] = \"sans-serif\" \n",
    "rcParams['font.weight'] = \"roman\" \n",
    "rcParams['font.style'] = \"normal\" # not 100% sure what this does but it was recommended\n",
    "rcParams['font.size'] = 32 # not 100% sure what this does but it was recommended\n",
    "rcParams['pdf.fonttype'] = 42\n",
    "rcParams['axes.linewidth'] = 2 #thickness of the border\n",
    "rcParams['xtick.major.width'] = rcParams['axes.linewidth'] # make sure line widths are consistent\n",
    "rcParams['ytick.major.width'] = rcParams['axes.linewidth']\n",
    "rcParams['axes.spines.right'] = False #hides right border\n",
    "rcParams['axes.spines.top'] = False #hides top\n",
    "rcParams['legend.frameon'] = False #hides box around the legend\n",
    "rcParams['legend.fontsize'] = 18 #font size in pt\n",
    "rcParams['axes.labelsize'] = 32 \n",
    "rcParams['xtick.labelsize'] = 24\n",
    "rcParams['ytick.labelsize'] = rcParams['xtick.labelsize']\n",
    "rcParams['lines.linewidth'] = 3\n",
    "rcParams['xtick.major.size'] = 5\n",
    "rcParams['lines.markersize'] = 16\n",
    "rcParams['ytick.major.size'] = rcParams['xtick.major.size'] "
   ]
  },
  {
   "cell_type": "code",
   "execution_count": 15,
   "metadata": {},
   "outputs": [],
   "source": [
    "direc = 'C:/Users/svo/Google Drive/Bas Games/Analysis/'\n",
    "fig_direc = 'C:/Users/svo/Google Drive/Bas Games/Figures/'\n",
    "peak_direc = 'C:/Users/svo/Documents/FourinarowData/Data/peak/'"
   ]
  },
  {
   "cell_type": "code",
   "execution_count": 16,
   "metadata": {},
   "outputs": [],
   "source": [
    "def plot_with_errorbars(fig,ax,x,A,colors=None):\n",
    "    m = np.nanmean(A,axis=0)\n",
    "    s = np.nanstd(A-m[None,:],axis=0)/np.sqrt(A.shape[0])\n",
    "    plt.errorbar(x,m,yerr = s,color='black')\n",
    "    if not colors is None:\n",
    "        ax.scatter(x,m,color=colors)\n",
    "    else:\n",
    "        ax.plot(x,m,'.')"
   ]
  },
  {
   "cell_type": "code",
   "execution_count": 17,
   "metadata": {},
   "outputs": [],
   "source": [
    "#time_colors = ['#9B1A30','#F85D5F','#FFAC9A']\n",
    "#learn_colors = ['#4B8F7C', '#3C7864', '#2E614D','#1F4935','#10321D']\n",
    "#peak_colors = ['#00B4D8','#0096C7','#0077B6','#023E8A','#03045E']\n",
    "\n",
    "time_colors = ['#9F4AB0','#6E207D','#430F4D']\n",
    "learn_colors = ['#7DE3AC', '#0EE676', '#129951','#17452D','#20382B']\n",
    "peak_colors = ['#D7E8FA','#A3CDF7','#3C92E8','#0E5296','#0F3153']"
   ]
  },
  {
   "cell_type": "code",
   "execution_count": 18,
   "metadata": {},
   "outputs": [],
   "source": [
    "import pandas as pd\n",
    "boards_hvh = pd.read_csv(direc+'Opt/opt_hvh.txt',delim_whitespace=True,header=None)[[0,1]].values"
   ]
  },
  {
   "cell_type": "code",
   "execution_count": 19,
   "metadata": {},
   "outputs": [],
   "source": [
    "def load_params_file(filename):\n",
    "    if os.path.exists(filename):\n",
    "        return np.loadtxt(filename,delimiter=',')\n",
    "    else:\n",
    "        return np.full(shape=[10,],fill_value=np.nan)\n",
    "\n",
    "def get_peak_user_id(i):\n",
    "    df = pd.read_csv(peak_direc + 'splits/' + str(i+1) + '/data.csv',delim_whitespace=True,header=None)\n",
    "    names = pd.unique(df[6])\n",
    "    assert len(names)==1\n",
    "    name = names[0]\n",
    "    return name[:10] + '_block' + name[10:]\n",
    "    #selected_peak_users = np.unique([player[:player.find('_')] for player in rating_dict.keys() if '_block' in player])\n",
    "\n",
    "def get_peak_rt(i):\n",
    "    df = pd.read_csv(peak_direc + 'splits/' + str(i+1) + '/data.csv',delim_whitespace=True,header=None)\n",
    "    return df[df[4]<10][4].mean()\n",
    "    #selected_peak_users = np.unique([player[:player.find('_')] for player in rating_dict.keys() if '_block' in player])    "
   ]
  },
  {
   "cell_type": "code",
   "execution_count": 20,
   "metadata": {},
   "outputs": [],
   "source": [
    "peak_rts = [get_peak_rt(i) for i in range(5000)]\n",
    "peak_user_ids = [get_peak_user_id(i) for i in range(5000)]"
   ]
  },
  {
   "cell_type": "code",
   "execution_count": 21,
   "metadata": {},
   "outputs": [],
   "source": [
    "import json\n",
    "with open(direc + 'Ratings/ratings_all_expts_peak.txt') as f:\n",
    "    rating_dict = json.load(f)\n",
    "\n",
    "ratings_learn = np.array([[rating_dict['subj' + str(j).zfill(2) + 'sess' + str(i).zfill(2)] for i in range(5)] for j in range(30)])\n",
    "ratings_time = np.array([[rating_dict['subj' + str(j).zfill(2) + 'cond' + str(i).zfill(2)] for i in range(3)] for j in range(30)])"
   ]
  },
  {
   "cell_type": "code",
   "execution_count": 22,
   "metadata": {},
   "outputs": [],
   "source": [
    "#np.savetxt(peak_direc + 'params_peak_final.txt',np.vstack([expand_params(np.loadtxt(peak_direc + 'splits/' + str(i+1) + '/params' + str(j) + '.csv',delimiter=',')) \n",
    "#                                              for i in range(5000) for j in range(1,6)]),fmt='%.5f')"
   ]
  },
  {
   "cell_type": "code",
   "execution_count": 23,
   "metadata": {},
   "outputs": [],
   "source": [
    "ratings_peak = np.reshape(np.array([rating_dict[u] for u in peak_user_ids]),[-1,5])"
   ]
  },
  {
   "cell_type": "code",
   "execution_count": 24,
   "metadata": {},
   "outputs": [],
   "source": [
    "params_peak = np.array([[expand_params(load_params_file(peak_direc + 'splits/' + str(i+1) + '/params' + str(j+1) + '.csv')) \n",
    "                                       for j in range(5)]\n",
    "                        for i in range(0,5000)])\n",
    "params_peak = np.reshape(params_peak,[-1,5,5,58]) \n",
    "feature_drop_rate_peak = params_peak[:,:,:,-1]"
   ]
  },
  {
   "cell_type": "code",
   "execution_count": 25,
   "metadata": {},
   "outputs": [],
   "source": [
    "params_learn = np.reshape(np.loadtxt(direc + 'Params/params_learn_final.txt'),[30,5,5,58])\n",
    "params_time = np.reshape(np.loadtxt(direc + 'Params/params_tai_final.txt'),[30,3,5,58])\n",
    "feature_drop_rate_learn = params_learn[:,:,:,-1]\n",
    "feature_drop_rate_time = params_time[:,:,:,-1]\n"
   ]
  },
  {
   "cell_type": "code",
   "execution_count": 26,
   "metadata": {},
   "outputs": [],
   "source": [
    "\n",
    "ili_direc = 'C:/Users/svo/Documents/FourinarowData/Data/ili/'\n",
    "df = pd.read_csv(ili_direc + 'paramsMatrix.csv',header=None)\n",
    "params_ili_final = np.array([expand_params(r) for r in df.values[:,2:]])\n",
    "#np.savetxt(direc + 'params_ili_final.txt',params_ili_final)\n",
    "depth_ili = [np.mean(np.loadtxt(ili_direc + 'depth/depth_ili_final_'+str(i//5)+'_' + str(i%5+1) + '.txt'))\n",
    "                     for i in range(240)]\n",
    "heuristic_quality_ili = np.apply_along_axis(get_heuristic_quality,1,params_ili_final)\n",
    "\n",
    "df['planning depth'] = depth_ili\n",
    "df['feature drop rate'] = params_ili_final[:,-1]\n",
    "df['heuristic quality'] = heuristic_quality_ili.flatten()\n",
    "df.to_csv(ili_direc + 'params_with_metrics.csv')"
   ]
  },
  {
   "cell_type": "code",
   "execution_count": null,
   "metadata": {},
   "outputs": [],
   "source": []
  },
  {
   "cell_type": "code",
   "execution_count": 27,
   "metadata": {},
   "outputs": [],
   "source": [
    "filename = direc + 'Learning/depth_learn.npy'\n",
    "if os.path.exists(filename):\n",
    "    depth_learn = np.load(filename,allow_pickle=True)\n",
    "else: \n",
    "    depth_learn = np.reshape([[np.mean(np.loadtxt(direc + 'Learning/splits/'+str(i)+'/pv_depth_' + str(j) + '.txt'))\n",
    "                           for j in range(1,6)] for i in range(0,150)],[30,5,5])\n",
    "    np.save(filename,depth_learn,allow_pickle=True)"
   ]
  },
  {
   "cell_type": "code",
   "execution_count": 28,
   "metadata": {},
   "outputs": [],
   "source": [
    "filename = direc + 'Timed AI/depth_time.npy'\n",
    "if os.path.exists(filename):\n",
    "    depth_time = np.load(filename,allow_pickle=True)\n",
    "else: \n",
    "    depth_time = np.reshape([[np.mean(np.loadtxt(direc + 'Timed AI/splits/'+str(i)+'/pv_depth_' + str(j) + '.txt'))\n",
    "                           for j in range(1,6)] for i in range(0,90)],[30,3,5])\n",
    "    np.save(filename,depth_time,allow_pickle=True)"
   ]
  },
  {
   "cell_type": "code",
   "execution_count": 29,
   "metadata": {},
   "outputs": [],
   "source": [
    "filename = direc + 'Peak/depth_peak.npy'\n",
    "if os.path.exists(filename):\n",
    "    depth_peak = np.load(filename,allow_pickle=True)\n",
    "else: \n",
    "    depth_peak = np.reshape([[np.mean(np.loadtxt(peak_direc + 'depth/depth_peak_final_'+str(i)+'_' + str(j) + '.txt'))\n",
    "                       for j in range(1,6)] for i in range(5000)],[-1,5,5])    \n",
    "    np.save(filename,depth_peak,allow_pickle=True)"
   ]
  },
  {
   "cell_type": "code",
   "execution_count": 30,
   "metadata": {},
   "outputs": [],
   "source": [
    "heuristic_quality_learn = np.apply_along_axis(get_heuristic_quality,arr=params_learn,axis=3)\n",
    "heuristic_quality_time = np.apply_along_axis(get_heuristic_quality,arr=params_time,axis=3)\n",
    "heuristic_quality_peak = np.apply_along_axis(get_heuristic_quality,arr=params_peak,axis=3)\n",
    "#heuristic_quality_time = get_heuristic_quality(params_time)\n",
    "#heuristic_quality_peak = np.vstack([get_heuristic_quality(params_peak[100*i:100*(i+1)]) for i in range(10)])"
   ]
  },
  {
   "cell_type": "code",
   "execution_count": 33,
   "metadata": {},
   "outputs": [
    {
     "data": {
      "text/plain": [
       "(30, 3, 5)"
      ]
     },
     "execution_count": 33,
     "metadata": {},
     "output_type": "execute_result"
    }
   ],
   "source": [
    "heuristic_quality_time.shape"
   ]
  },
  {
   "cell_type": "code",
   "execution_count": 34,
   "metadata": {},
   "outputs": [
    {
     "data": {
      "image/png": "[encoded data removed]",
      "text/plain": [
       "<Figure size 432x432 with 1 Axes>"
      ]
     },
     "metadata": {
      "needs_background": "light"
     },
     "output_type": "display_data"
    }
   ],
   "source": [
    "fig,ax=plt.subplots(figsize=(6,6))\n",
    "ax.xaxis.set_major_formatter(FormatStrFormatter('%g'))\n",
    "ax.yaxis.set_major_formatter(FormatStrFormatter('%g'))\n",
    "\n",
    "plot_with_errorbars(fig,ax,range(1,6),ratings_learn,colors=learn_colors)\n",
    "ax.set_xlabel('Session')\n",
    "ax.set_ylabel('Elo rating')\n",
    "ax.set_xticks(range(1,6))\n",
    "fig.subplots_adjust(bottom=0.2,right=0.95,left=0.25)\n",
    "#plt.text(0,0.9,'A',ha='right',va='top',transform=fig.transFigure)\n",
    "fig.savefig(fig_direc + 'figure_3a.pdf')\n",
    "plt.show()"
   ]
  },
  {
   "cell_type": "code",
   "execution_count": 35,
   "metadata": {},
   "outputs": [
    {
     "data": {
      "image/png": "[encoded data removed]",
      "text/plain": [
       "<Figure size 432x432 with 1 Axes>"
      ]
     },
     "metadata": {
      "needs_background": "light"
     },
     "output_type": "display_data"
    }
   ],
   "source": [
    "fig,ax=plt.subplots(figsize=(6,6))\n",
    "ax.xaxis.set_major_formatter(FormatStrFormatter('%g'))\n",
    "ax.yaxis.set_major_formatter(FormatStrFormatter('%g'))\n",
    "\n",
    "plot_with_errorbars(fig,ax,range(1,6),np.mean(depth_learn,axis=2),colors=learn_colors)\n",
    "ax.set_xlabel('Session')\n",
    "ax.set_ylabel('Planning depth')\n",
    "ax.set_xticks(range(1,6))\n",
    "fig.subplots_adjust(bottom=0.2,right=0.95,left=0.25)\n",
    "#plt.text(0,0.9,'A',ha='right',va='top',transform=fig.transFigure)\n",
    "fig.savefig(fig_direc + 'figure_3b.pdf')\n",
    "plt.show()"
   ]
  },
  {
   "cell_type": "code",
   "execution_count": 36,
   "metadata": {},
   "outputs": [
    {
     "data": {
      "image/png": "[encoded data removed]",
      "text/plain": [
       "<Figure size 432x432 with 1 Axes>"
      ]
     },
     "metadata": {
      "needs_background": "light"
     },
     "output_type": "display_data"
    }
   ],
   "source": [
    "fig,ax=plt.subplots(figsize=(6,6))\n",
    "ax.xaxis.set_major_formatter(FormatStrFormatter('%g'))\n",
    "ax.yaxis.set_major_formatter(FormatStrFormatter('%g'))\n",
    "\n",
    "plot_with_errorbars(fig,ax,range(1,6),np.mean(feature_drop_rate_learn,axis=2),colors=learn_colors)\n",
    "ax.set_xlabel('Session')\n",
    "ax.set_ylabel('Feature drop rate')\n",
    "ax.set_xticks(range(1,6))\n",
    "fig.subplots_adjust(bottom=0.2,right=0.95,left=0.25)\n",
    "#plt.text(0,0.9,'A',ha='right',va='top',transform=fig.transFigure)\n",
    "fig.savefig(fig_direc + 'figure_3c.pdf')\n",
    "plt.show()"
   ]
  },
  {
   "cell_type": "code",
   "execution_count": 37,
   "metadata": {},
   "outputs": [
    {
     "data": {
      "image/png": "[encoded data removed]",
      "text/plain": [
       "<Figure size 432x432 with 1 Axes>"
      ]
     },
     "metadata": {
      "needs_background": "light"
     },
     "output_type": "display_data"
    }
   ],
   "source": [
    "fig,ax=plt.subplots(figsize=(6,6))\n",
    "ax.xaxis.set_major_formatter(FormatStrFormatter('%g'))\n",
    "ax.yaxis.set_major_formatter(FormatStrFormatter('%g'))\n",
    "\n",
    "plot_with_errorbars(fig,ax,range(1,6),np.mean(heuristic_quality_learn,axis=2),colors=learn_colors)\n",
    "ax.set_xlabel('Session')\n",
    "ax.set_ylabel('Heuristic quality')\n",
    "ax.set_xticks(range(1,6))\n",
    "fig.subplots_adjust(bottom=0.2,right=0.95,left=0.25)\n",
    "#plt.text(0,0.9,'A',ha='right',va='top',transform=fig.transFigure)\n",
    "fig.savefig(fig_direc + 'figure_3d.pdf')\n",
    "plt.show()"
   ]
  },
  {
   "cell_type": "code",
   "execution_count": 38,
   "metadata": {},
   "outputs": [
    {
     "data": {
      "image/png": "[encoded data removed]",
      "text/plain": [
       "<Figure size 864x432 with 1 Axes>"
      ]
     },
     "metadata": {
      "needs_background": "light"
     },
     "output_type": "display_data"
    }
   ],
   "source": [
    "T = np.loadtxt(direc + 'Learning/time_learn.txt')\n",
    "thinking_time = [np.mean(T[T[:,0]==i,1])/1000 for i in range(150)]\n",
    "\n",
    "fig,ax=plt.subplots(figsize=(12,6))\n",
    "ax.xaxis.set_major_formatter(FormatStrFormatter('%g'))\n",
    "ax.yaxis.set_major_formatter(FormatStrFormatter('%g'))\n",
    "\n",
    "plot_with_errorbars(fig,ax,range(1,6),np.reshape(thinking_time,[30,5]),colors=learn_colors)\n",
    "ax.set_xlabel('Session')\n",
    "ax.set_ylabel('Response time(s)')\n",
    "ax.set_xticks(range(1,6))\n",
    "ax.set_yticks(np.arange(4,6.5,0.5))\n",
    "fig.subplots_adjust(bottom=0.15,right=0.98,left=0.12,top=0.95)\n",
    "#plt.text(0,0.9,'A',ha='right',va='top',transform=fig.transFigure)\n",
    "fig.savefig(fig_direc + 'supp_figure_16.pdf')\n",
    "plt.show()"
   ]
  },
  {
   "cell_type": "code",
   "execution_count": 39,
   "metadata": {},
   "outputs": [
    {
     "data": {
      "image/png": "[encoded data removed]",
      "text/plain": [
       "<Figure size 864x432 with 1 Axes>"
      ]
     },
     "metadata": {
      "needs_background": "light"
     },
     "output_type": "display_data"
    }
   ],
   "source": [
    "fig,ax=plt.subplots(figsize=(12,6))\n",
    "ax.xaxis.set_major_formatter(FormatStrFormatter('%g'))\n",
    "ax.yaxis.set_major_formatter(FormatStrFormatter('%g'))\n",
    "\n",
    "plot_with_errorbars(fig,ax,np.arange(20,120,20),np.reshape(peak_rts,[1000,5]),colors=peak_colors)\n",
    "ax.set_xlabel('Games played')\n",
    "ax.set_xticks(np.arange(20,120,20))\n",
    "ax.set_ylabel('Response time(s)')\n",
    "ax.set_yticks(np.arange(2.6,3.4,0.2))\n",
    "fig.subplots_adjust(bottom=0.15,right=0.98,left=0.12,top=0.95)\n",
    "#plt.text(0,0.9,'A',ha='right',va='top',transform=fig.transFigure)\n",
    "fig.savefig(fig_direc + 'supp_figure_17.pdf')\n",
    "plt.show()"
   ]
  },
  {
   "cell_type": "code",
   "execution_count": 40,
   "metadata": {},
   "outputs": [
    {
     "data": {
      "image/png": "[encoded data removed]",
      "text/plain": [
       "<Figure size 432x432 with 1 Axes>"
      ]
     },
     "metadata": {
      "needs_background": "light"
     },
     "output_type": "display_data"
    }
   ],
   "source": [
    "fig,ax=plt.subplots(figsize=(6,6))\n",
    "ax.xaxis.set_major_formatter(FormatStrFormatter('%g'))\n",
    "ax.yaxis.set_major_formatter(FormatStrFormatter('%g'))\n",
    "\n",
    "plot_with_errorbars(fig,ax,[5,10,20],ratings_time,colors=time_colors)\n",
    "ax.set_xlabel('Time limit (s)')\n",
    "ax.set_ylabel('Elo rating')\n",
    "ax.set_xticks([5,10,20])\n",
    "fig.subplots_adjust(bottom=0.2,right=0.95,left=0.25)\n",
    "#plt.text(0,0.9,'A',ha='right',va='top',transform=fig.transFigure)\n",
    "fig.savefig(fig_direc + 'figure_3e.pdf')\n",
    "plt.show()"
   ]
  },
  {
   "cell_type": "code",
   "execution_count": 41,
   "metadata": {},
   "outputs": [
    {
     "data": {
      "image/png": "[encoded data removed]",
      "text/plain": [
       "<Figure size 432x432 with 1 Axes>"
      ]
     },
     "metadata": {
      "needs_background": "light"
     },
     "output_type": "display_data"
    }
   ],
   "source": [
    "fig,ax=plt.subplots(figsize=(6,6))\n",
    "ax.xaxis.set_major_formatter(FormatStrFormatter('%g'))\n",
    "ax.yaxis.set_major_formatter(FormatStrFormatter('%g'))\n",
    "\n",
    "plot_with_errorbars(fig,ax,[5,10,20],np.mean(depth_time,axis=2),colors=time_colors)\n",
    "ax.set_xlabel('Time limit (s)')\n",
    "ax.set_ylabel('Planning depth')\n",
    "ax.set_xticks([5,10,20])\n",
    "fig.subplots_adjust(bottom=0.2,right=0.95,left=0.25)\n",
    "#plt.text(0,0.9,'A',ha='right',va='top',transform=fig.transFigure)\n",
    "fig.savefig(fig_direc + 'figure_3f.pdf')\n",
    "plt.show()"
   ]
  },
  {
   "cell_type": "code",
   "execution_count": null,
   "metadata": {},
   "outputs": [],
   "source": [
    "fig,ax=plt.subplots(figsize=(6,6))\n",
    "ax.xaxis.set_major_formatter(FormatStrFormatter('%g'))\n",
    "ax.yaxis.set_major_formatter(FormatStrFormatter('%g'))\n",
    "\n",
    "plot_with_errorbars(fig,ax,[5,10,20],np.mean(feature_drop_rate_time,axis=2),colors=time_colors)\n",
    "ax.set_xlabel('Time limit (s)')\n",
    "ax.set_ylabel('Feature drop rate')\n",
    "ax.set_xticks([5,10,20])\n",
    "fig.subplots_adjust(bottom=0.2,right=0.95,left=0.25)\n",
    "#plt.text(0,0.9,'A',ha='right',va='top',transform=fig.transFigure)\n",
    "fig.savefig(fig_direc + 'figure_3g.pdf')\n",
    "plt.show()"
   ]
  },
  {
   "cell_type": "code",
   "execution_count": null,
   "metadata": {},
   "outputs": [],
   "source": [
    "fig,ax=plt.subplots(figsize=(6,6))\n",
    "ax.xaxis.set_major_formatter(FormatStrFormatter('%g'))\n",
    "ax.yaxis.set_major_formatter(FormatStrFormatter('%g'))\n",
    "\n",
    "plot_with_errorbars(fig,ax,[5,10,20],np.mean(heuristic_quality_time,axis=2),colors=time_colors)\n",
    "ax.set_xlabel('Time limit (s)')\n",
    "ax.set_ylabel('Heuristic quality')\n",
    "ax.set_xticks([5,10,20])\n",
    "fig.subplots_adjust(bottom=0.2,right=0.95,left=0.25)\n",
    "#plt.text(0,0.9,'A',ha='right',va='top',transform=fig.transFigure)\n",
    "fig.savefig(fig_direc + 'figure_3h.pdf')\n",
    "plt.show()"
   ]
  },
  {
   "cell_type": "code",
   "execution_count": null,
   "metadata": {},
   "outputs": [],
   "source": [
    "fig,ax=plt.subplots(figsize=(6,6))\n",
    "ax.xaxis.set_major_formatter(FormatStrFormatter('%g'))\n",
    "ax.yaxis.set_major_formatter(FormatStrFormatter('%g'))\n",
    "\n",
    "plot_with_errorbars(fig,ax,np.arange(20,120,20),ratings_peak,colors=peak_colors)\n",
    "ax.set_xlabel('Games played')\n",
    "ax.set_ylabel('Elo rating')\n",
    "ax.set_xticks(np.arange(20,120,20))\n",
    "fig.subplots_adjust(bottom=0.2,right=0.95,left=0.25)\n",
    "#plt.text(0,0.9,'A',ha='right',va='top',transform=fig.transFigure)\n",
    "fig.savefig(fig_direc + 'figure_4a.pdf')\n",
    "plt.show()"
   ]
  },
  {
   "cell_type": "code",
   "execution_count": null,
   "metadata": {},
   "outputs": [],
   "source": [
    "fig,ax=plt.subplots(figsize=(6,6))\n",
    "ax.xaxis.set_major_formatter(FormatStrFormatter('%g'))\n",
    "ax.yaxis.set_major_formatter(FormatStrFormatter('%g'))\n",
    "\n",
    "plot_with_errorbars(fig,ax,np.arange(20,120,20),np.mean(depth_peak,axis=2),colors=peak_colors)\n",
    "ax.set_xlabel('Games played')\n",
    "ax.set_ylabel('Planning depth')\n",
    "ax.set_xticks(np.arange(20,120,20))\n",
    "fig.subplots_adjust(bottom=0.2,right=0.95,left=0.25)\n",
    "#plt.text(0,0.9,'A',ha='right',va='top',transform=fig.transFigure)\n",
    "fig.savefig(fig_direc + 'figure_4b.pdf')\n",
    "plt.show()"
   ]
  },
  {
   "cell_type": "code",
   "execution_count": null,
   "metadata": {},
   "outputs": [],
   "source": [
    "fig,ax=plt.subplots(figsize=(6,6))\n",
    "ax.xaxis.set_major_formatter(FormatStrFormatter('%g'))\n",
    "ax.yaxis.set_major_formatter(FormatStrFormatter('%g'))\n",
    "\n",
    "plot_with_errorbars(fig,ax,np.arange(20,120,20),np.mean(feature_drop_rate_peak,axis=2),colors=peak_colors)\n",
    "ax.set_xlabel('Games played')\n",
    "ax.set_ylabel('Feature drop rate')\n",
    "ax.set_xticks(np.arange(20,120,20))\n",
    "fig.subplots_adjust(bottom=0.2,right=0.95,left=0.25)\n",
    "#plt.text(0,0.9,'A',ha='right',va='top',transform=fig.transFigure)\n",
    "fig.savefig(fig_direc + 'figure_4c.pdf')\n",
    "plt.show()"
   ]
  },
  {
   "cell_type": "code",
   "execution_count": null,
   "metadata": {},
   "outputs": [],
   "source": [
    "fig,ax=plt.subplots(figsize=(6,6))\n",
    "ax.xaxis.set_major_formatter(FormatStrFormatter('%g'))\n",
    "ax.yaxis.set_major_formatter(FormatStrFormatter('%g'))\n",
    "\n",
    "plot_with_errorbars(fig,ax,np.arange(20,120,20),np.mean(heuristic_quality_peak,axis=2),colors=peak_colors)\n",
    "ax.set_xlabel('Games played')\n",
    "ax.set_ylabel('Heuristic quality')\n",
    "ax.set_xticks(np.arange(20,120,20))\n",
    "fig.subplots_adjust(bottom=0.2,right=0.95,left=0.25)\n",
    "#plt.text(0,0.9,'A',ha='right',va='top',transform=fig.transFigure)\n",
    "fig.savefig(fig_direc + 'figure_4d.pdf')\n",
    "plt.show()"
   ]
  },
  {
   "cell_type": "code",
   "execution_count": null,
   "metadata": {},
   "outputs": [],
   "source": [
    "sts.ttest_ind(np.mean(heuristic_quality_learn,axis=2)[:,0],np.mean(heuristic_quality_peak,axis=2)[:,0],equal_var = False)"
   ]
  },
  {
   "cell_type": "code",
   "execution_count": null,
   "metadata": {},
   "outputs": [],
   "source": [
    "np.mean(np.mean(heuristic_quality_learn,axis=2)[:,0]),np.std(np.mean(heuristic_quality_learn,axis=2)[:,0])/np.sqrt(30)"
   ]
  },
  {
   "cell_type": "code",
   "execution_count": null,
   "metadata": {},
   "outputs": [],
   "source": [
    "np.mean(np.mean(heuristic_quality_peak,axis=2)[:,0]),np.std(np.mean(heuristic_quality_peak,axis=2)[:,0])/np.sqrt(1000)"
   ]
  },
  {
   "cell_type": "code",
   "execution_count": null,
   "metadata": {},
   "outputs": [],
   "source": [
    "print('depth')\n",
    "for x,y in zip([range(5),[5,10,20],range(5)],[depth_learn,depth_time,depth_peak]):\n",
    "    print(sts.pearsonr(np.tile(x,[y.shape[0],1]).flatten(),np.mean(y,axis=2).flatten()))\n",
    "    print(sts.spearmanr(np.tile(x,[y.shape[0],1]).flatten(),np.mean(y,axis=2).flatten()))\n",
    "\n",
    "print('feature drop rate')\n",
    "for x,y in zip([range(5),[5,10,20],range(5)],[feature_drop_rate_learn,feature_drop_rate_time,feature_drop_rate_peak]):\n",
    "    print(sts.pearsonr(np.tile(x,[y.shape[0],1]).flatten(),(np.mean(y,axis=2)-np.mean(y,axis=(1,2))[:,None]).flatten()))\n",
    "    print(sts.spearmanr(np.tile(x,[y.shape[0],1]).flatten(),np.mean(y,axis=2).flatten()))\n",
    "\n",
    "print('heuristic quality')\n",
    "for x,y in zip([range(5),[5,10,20],range(5)],[heuristic_quality_learn,heuristic_quality_time,heuristic_quality_peak]):\n",
    "    print(sts.pearsonr(np.tile(x,[y.shape[0],1]).flatten(),np.mean(y,axis=2).flatten()))\n",
    "    print(sts.spearmanr(np.tile(x,[y.shape[0],1]).flatten(),np.mean(y,axis=2).flatten()))\n"
   ]
  },
  {
   "cell_type": "code",
   "execution_count": null,
   "metadata": {},
   "outputs": [],
   "source": [
    "#plt.plot(heuristic_values[0,0,0,player_color==0],optimal_board_values[player_color==0],'.',alpha=0.5)\n",
    "#plt.plot(heuristic_values[0,0,0,player_color==1],optimal_board_values[player_color==1],'.',alpha=0.5)\n",
    "#plt.show()"
   ]
  },
  {
   "cell_type": "code",
   "execution_count": null,
   "metadata": {},
   "outputs": [],
   "source": [
    "fig,ax=plt.subplots(figsize=(8,6))\n",
    "ax.xaxis.set_major_formatter(FormatStrFormatter('%g'))\n",
    "ax.yaxis.set_major_formatter(FormatStrFormatter('%g'))\n",
    "\n",
    "for i,c in enumerate(learn_colors):\n",
    "    ax.plot(ratings_learn[:,i],np.mean(depth_learn,axis=2)[:,i],'.',color=c)\n",
    "for i,c in enumerate(time_colors):\n",
    "    ax.plot(ratings_time[:,i],np.mean(depth_time,axis=2)[:,i],'.',color=c)\n",
    "\n",
    "ax.set_xlabel('Elo rating')\n",
    "ax.set_ylabel('Planning depth')\n",
    "fig.subplots_adjust(bottom=0.2,right=0.95,left=0.2,top=0.95)\n",
    "fig.savefig(fig_direc + 'supp_figure_14A.pdf')\n",
    "plt.show()\n",
    "sts.pearsonr(np.hstack([ratings_learn,ratings_time]).flatten(),\n",
    "             np.hstack([np.mean(depth_learn,axis=2),np.mean(depth_time,axis=2)]).flatten())"
   ]
  },
  {
   "cell_type": "code",
   "execution_count": null,
   "metadata": {},
   "outputs": [],
   "source": [
    "fig,ax=plt.subplots(figsize=(8,6))\n",
    "ax.xaxis.set_major_formatter(FormatStrFormatter('%g'))\n",
    "ax.yaxis.set_major_formatter(FormatStrFormatter('%g'))\n",
    "\n",
    "for i,c in enumerate(learn_colors):\n",
    "    ax.plot(ratings_learn[:,i].flatten(),np.mean(feature_drop_rate_learn,axis=2)[:,i],'.',color=c,alpha=1)\n",
    "for i,c in enumerate(time_colors):\n",
    "    ax.plot(ratings_time[:,i].flatten(),np.mean(feature_drop_rate_time,axis=2)[:,i],'.',color=c,alpha=1)\n",
    "\n",
    "ax.set_xlabel('Elo rating')\n",
    "ax.set_ylabel('Feature drop rate')\n",
    "fig.subplots_adjust(bottom=0.2,right=0.95,left=0.2,top=0.95)\n",
    "#plt.text(0,0.9,'A',ha='right',va='top',transform=fig.transFigure)\n",
    "fig.savefig(fig_direc + 'supp_figure_14B.pdf')\n",
    "plt.show()\n",
    "sts.pearsonr(np.hstack([ratings_learn,ratings_time]).flatten(),\n",
    "             np.hstack([np.mean(feature_drop_rate_learn,axis=2),np.mean(feature_drop_rate_time,axis=2)]).flatten())"
   ]
  },
  {
   "cell_type": "code",
   "execution_count": null,
   "metadata": {},
   "outputs": [],
   "source": [
    "fig,ax=plt.subplots(figsize=(8,6))\n",
    "ax.xaxis.set_major_formatter(FormatStrFormatter('%g'))\n",
    "ax.yaxis.set_major_formatter(FormatStrFormatter('%g'))\n",
    "\n",
    "for i,c in enumerate(learn_colors):\n",
    "    ax.plot(ratings_learn[:,i].flatten(),np.mean(heuristic_quality_learn,axis=2)[:,i],'.',color=c)\n",
    "for i,c in enumerate(time_colors):\n",
    "    ax.plot(ratings_time[:,i].flatten(),np.mean(heuristic_quality_time,axis=2)[:,i],'.',color=c)\n",
    "\n",
    "ax.set_xlabel('Elo rating')\n",
    "ax.set_ylabel('Heuristic quality')\n",
    "fig.subplots_adjust(bottom=0.2,right=0.95,left=0.2,top=0.95)\n",
    "#plt.text(0,0.9,'A',ha='right',va='top',transform=fig.transFigure)\n",
    "fig.savefig(fig_direc + 'supp_figure_14C.pdf')\n",
    "plt.show()\n",
    "sts.pearsonr(np.hstack([ratings_learn,ratings_time]).flatten(),\n",
    "             np.hstack([np.mean(heuristic_quality_learn,axis=2),np.mean(heuristic_quality_time,axis=2)]).flatten())"
   ]
  },
  {
   "cell_type": "code",
   "execution_count": null,
   "metadata": {},
   "outputs": [],
   "source": [
    "fig,ax=plt.subplots(figsize=(6,6))\n",
    "ax.xaxis.set_major_formatter(FormatStrFormatter('%g'))\n",
    "ax.yaxis.set_major_formatter(FormatStrFormatter('%g'))\n",
    "\n",
    "for i,c in enumerate(peak_colors):\n",
    "    ax.plot(ratings_peak[:,i].flatten(),np.mean(depth_peak,axis=2)[:,i],'.',color=c,alpha=0.15)\n",
    "\n",
    "ax.set_xlabel('Elo rating')\n",
    "ax.set_ylabel('Planning depth')\n",
    "fig.subplots_adjust(bottom=0.2,right=0.95,left=0.25)\n",
    "#plt.text(0,0.9,'A',ha='right',va='top',transform=fig.transFigure)\n",
    "fig.savefig(fig_direc + 'supp_figure_1b.pdf')\n",
    "plt.show()\n",
    "sts.pearsonr(ratings_peak.flatten(),np.mean(depth_peak,axis=2).flatten())"
   ]
  },
  {
   "cell_type": "code",
   "execution_count": null,
   "metadata": {},
   "outputs": [],
   "source": [
    "fig,ax=plt.subplots(figsize=(6,6))\n",
    "ax.xaxis.set_major_formatter(FormatStrFormatter('%g'))\n",
    "ax.yaxis.set_major_formatter(FormatStrFormatter('%g'))\n",
    "\n",
    "for i,c in enumerate(peak_colors):\n",
    "    ax.plot(np.mean(heuristic_quality_peak,axis=2)[:,i],np.mean(feature_drop_rate_peak,axis=2)[:,i],'.',color=c,alpha=0.15)\n",
    "\n",
    "ax.set_xlabel('Elo rating')\n",
    "ax.set_ylabel('Feature drop rate')\n",
    "fig.subplots_adjust(bottom=0.2,right=0.95,left=0.25)\n",
    "#plt.text(0,0.9,'A',ha='right',va='top',transform=fig.transFigure)\n",
    "fig.savefig(fig_direc + 'supp_figure_1b.pdf')\n",
    "plt.show()\n",
    "sts.pearsonr(ratings_peak.flatten(),np.mean(feature_drop_rate_peak,axis=2).flatten())"
   ]
  },
  {
   "cell_type": "code",
   "execution_count": null,
   "metadata": {},
   "outputs": [],
   "source": [
    "fig,ax=plt.subplots(figsize=(6,6))\n",
    "ax.xaxis.set_major_formatter(FormatStrFormatter('%g'))\n",
    "ax.yaxis.set_major_formatter(FormatStrFormatter('%g'))\n",
    "\n",
    "for i,c in enumerate(peak_colors):\n",
    "    ax.plot(ratings_peak[:,i].flatten(),np.mean(heuristic_quality_peak,axis=2)[:,i],'.',color=c,alpha=0.15)\n",
    "\n",
    "ax.set_xlabel('Elo rating')\n",
    "ax.set_ylabel('Heuristic quality')\n",
    "fig.subplots_adjust(bottom=0.2,right=0.95,left=0.25)\n",
    "#plt.text(0,0.9,'A',ha='right',va='top',transform=fig.transFigure)\n",
    "fig.savefig(fig_direc + 'supp_figure_1c.pdf')\n",
    "plt.show()\n",
    "sts.pearsonr(ratings_peak.flatten(),np.mean(heuristic_quality_peak,axis=2).flatten())"
   ]
  },
  {
   "cell_type": "code",
   "execution_count": null,
   "metadata": {},
   "outputs": [],
   "source": [
    "d1 = np.mean(np.reshape([[np.mean(np.loadtxt(direc + 'Planning depth/depth/depth_hvh_final_' + str(i) + '_' + str(j) + '.txt'))\n",
    "                           for j in range(1,6)] for i in range(0,40)],[40,5]),axis=1)\n",
    "d2 = np.mean(np.reshape([[np.mean(np.loadtxt(direc + 'Planning depth/depth/depth_hvh_final2_' + str(i) + '_' + str(j) + '.txt'))\n",
    "                           for j in range(1,6)] for i in range(0,40)],[40,5]),axis=1)"
   ]
  },
  {
   "cell_type": "code",
   "execution_count": null,
   "metadata": {},
   "outputs": [],
   "source": [
    "f1 = np.mean(np.reshape(np.loadtxt(direc + 'Params/params_hvh_final.txt')[:,-1],[40,5]),axis=1)\n",
    "f2 = np.mean(np.reshape(np.loadtxt(direc + 'Params/params_hvh_final2.txt')[:,-1],[40,5]),axis=1)"
   ]
  },
  {
   "cell_type": "code",
   "execution_count": null,
   "metadata": {},
   "outputs": [],
   "source": [
    "q1 = np.mean(get_heuristic_quality(np.reshape(np.loadtxt(direc + 'Params/params_hvh_final.txt'),[40,1,5,58])),axis=(1,2))\n",
    "q2 = np.mean(get_heuristic_quality(np.reshape(np.loadtxt(direc + 'Params/params_hvh_final2.txt'),[40,1,5,58])),axis=(1,2))"
   ]
  },
  {
   "cell_type": "code",
   "execution_count": null,
   "metadata": {},
   "outputs": [],
   "source": [
    "sts.pearsonr(d1,d2),sts.pearsonr(f1,f2),sts.pearsonr(q1,q2)"
   ]
  },
  {
   "cell_type": "code",
   "execution_count": null,
   "metadata": {},
   "outputs": [],
   "source": [
    "def plot_param_bars(rho,sem,names,xlabel,c,filename):\n",
    "    fig,ax = plt.subplots(figsize=(8,6))\n",
    "    ax.xaxis.set_major_formatter(FormatStrFormatter('%g'))\n",
    "    ax.yaxis.set_major_formatter(FormatStrFormatter('%g'))\n",
    "    ax.set_xlim([0,1])\n",
    "    ax.set_xlabel(xlabel,usetex=False)\n",
    "    ax.barh(range(len(rho),0,-1), rho, xerr=sem, align='center',\n",
    "        color=c, ecolor='black')\n",
    "    plt.xticks(np.arange(0,1.2,0.5))\n",
    "    plt.yticks(range(len(rho),0,-1),names, fontsize =18)\n",
    "    fig.subplots_adjust(bottom=0.2,right=0.95,left=0.3)\n",
    "    fig.savefig(fig_direc + filename)\n",
    "    plt.show()"
   ]
  },
  {
   "cell_type": "code",
   "execution_count": null,
   "metadata": {},
   "outputs": [],
   "source": [
    "plot_param_bars(rho = [sts.pearsonr(d1,d2)[0],sts.pearsonr(f1,f2)[0],sts.pearsonr(q1,q2)[0]],sem=[0,0,0],\n",
    "                names = ['Planning depth','Feature drop rate','Heuristic quality'],\n",
    "                xlabel = 'Correlation: repeated fits          ',\n",
    "                c='red',filename='supp_figure_5A.pdf')"
   ]
  },
  {
   "cell_type": "code",
   "execution_count": null,
   "metadata": {},
   "outputs": [],
   "source": [
    "def plot_correlation_across_conditions(stats,names,xlabel,color,fig_name):\n",
    "    rho = [np.mean(np.corrcoef(np.mean(x,axis=2).T)[np.triu_indices(x.shape[1],1)]) for x in stats]\n",
    "    sem = [np.std(np.corrcoef(np.mean(x,axis=2).T)[np.triu_indices(x.shape[1],1)])/np.sqrt(10) for x in stats]\n",
    "    plot_param_bars(rho,sem,names,xlabel,color,fig_name)\n",
    "    print(rho,sem,[sts.ttest_1samp(np.corrcoef(np.mean(x,axis=2).T)[np.triu_indices(x.shape[1],1)],popmean=0) for x in stats])\n",
    "\n",
    "plot_correlation_across_conditions([depth_learn,feature_drop_rate_learn,heuristic_quality_learn],\n",
    "                               ['Planning depth','Feature drop rate','Heuristic quality'],\n",
    "                               'Correlation: learning       ',learn_colors[2],'supp_figure_5B.pdf')"
   ]
  },
  {
   "cell_type": "code",
   "execution_count": null,
   "metadata": {},
   "outputs": [],
   "source": [
    "#for name,x in zip(['depth','feature drop rate','heuristic quality'],\n",
    "#                  [depth_time,feature_drop_rate_time,heuristic_quality_time]):\n",
    "#    print(name)\n",
    "#    print('correlation across groups')\n",
    "#    print(np.corrcoef(np.reshape(x,[90,5]).T))\n",
    "#    print('correlation across sessions')\n",
    "#    plt.imshow(np.corrcoef(np.mean(x,axis=2).T),vmin=-1,vmax=1,cmap='bwr')\n",
    "#    plt.show()\n",
    "#    print(np.corrcoef(np.mean(x,axis=2).T))"
   ]
  },
  {
   "cell_type": "code",
   "execution_count": null,
   "metadata": {
    "scrolled": false
   },
   "outputs": [],
   "source": [
    "plt.imshow(np.corrcoef(ratings_peak.T),vmin=-1,vmax=1,cmap='bwr')\n",
    "plt.show()\n",
    "\n",
    "for name,x in zip(['depth','feature drop rate','heuristic quality'],\n",
    "                  [depth_peak,feature_drop_rate_peak,heuristic_quality_peak]):\n",
    "    print(name)\n",
    "    print('correlation across groups')\n",
    "    print(np.corrcoef(np.reshape(x,[-1,5]).T))\n",
    "    print('correlation across games played')\n",
    "    plt.imshow(np.corrcoef(np.mean(x,axis=2).T),vmin=-1,vmax=1,cmap='bwr')\n",
    "    plt.show()"
   ]
  },
  {
   "cell_type": "code",
   "execution_count": null,
   "metadata": {},
   "outputs": [],
   "source": [
    "import pandas as pd\n",
    "import statsmodels.formula.api as sm\n",
    "\n",
    "def get_slopes(elo,tree,feat,qual):\n",
    "    p = sm.ols(formula=\"y ~ tree + feat + qual\",\n",
    "               data=pd.DataFrame({'y' : elo,'tree': tree,'feat' : feat,'qual' : qual})\n",
    "              ).fit().params\n",
    "    return [p[x] for x in ['tree','feat','qual','Intercept']]"
   ]
  },
  {
   "cell_type": "code",
   "execution_count": null,
   "metadata": {},
   "outputs": [],
   "source": [
    "slopes = [get_slopes(ratings_learn[:,i],np.mean(depth_learn,axis=2)[:,i],\n",
    "                     np.mean(feature_drop_rate_learn,axis=2)[:,i],np.mean(heuristic_quality_learn,axis=2)[:,i])\n",
    "                 for i in range(5)]\n",
    "ratings_learn_pred = np.mean(np.sum([s*A for s,A in zip(np.mean(slopes,axis=0),\n",
    "                                                [depth_learn,feature_drop_rate_learn,heuristic_quality_learn])],axis=0),axis=2)\n",
    "ratings_learn_pred += np.mean(slopes,axis=0)[-1]"
   ]
  },
  {
   "cell_type": "code",
   "execution_count": null,
   "metadata": {},
   "outputs": [],
   "source": [
    "list(zip(np.mean(slopes,axis=0),np.std(slopes,axis=0)/np.sqrt(5)))"
   ]
  },
  {
   "cell_type": "code",
   "execution_count": null,
   "metadata": {},
   "outputs": [],
   "source": [
    "np.array(slopes)"
   ]
  },
  {
   "cell_type": "code",
   "execution_count": null,
   "metadata": {},
   "outputs": [],
   "source": [
    "print(np.mean(ratings_learn[:,-1]-ratings_learn[:,0]),np.std(ratings_learn[:,-1]-ratings_learn[:,0])/np.sqrt(30))\n",
    "\n",
    "for s,x in zip(np.mean(slopes,axis=0),[depth_learn,feature_drop_rate_learn,heuristic_quality_learn]):\n",
    "    print(s,s*np.mean(x[:,-1]-x[:,0]),np.abs(s)*np.std(np.mean(x[:,-1,:]-x[:,0,:],axis=1))/np.sqrt(x.shape[0]))"
   ]
  },
  {
   "cell_type": "code",
   "execution_count": null,
   "metadata": {},
   "outputs": [],
   "source": [
    "slopes = [get_slopes(ratings_peak[:,i],np.mean(depth_peak,axis=2)[:,i],\n",
    "                     np.mean(feature_drop_rate_peak,axis=2)[:,i],np.mean(heuristic_quality_peak,axis=2)[:,i])\n",
    "                 for i in range(5)]\n",
    "ratings_peak_pred = np.mean(np.sum([s*A for s,A in zip(np.mean(slopes,axis=0),\n",
    "                                                [depth_peak,feature_drop_rate_peak,heuristic_quality_peak])],axis=0),axis=2)\n",
    "ratings_peak_pred += np.mean(slopes,axis=0)[-1]"
   ]
  },
  {
   "cell_type": "code",
   "execution_count": null,
   "metadata": {},
   "outputs": [],
   "source": [
    "print(np.mean(ratings_peak[:,-1]-ratings_peak[:,0]),np.std(ratings_peak[:,-1]-ratings_peak[:,0])/np.sqrt(1000))\n",
    "\n",
    "for s,x in zip(np.mean(slopes,axis=0),[depth_peak,feature_drop_rate_peak,heuristic_quality_peak]):\n",
    "    print(s,s*np.mean(x[:,-1]-x[:,0]),np.abs(s)*np.std(np.mean(x[:,-1,:]-x[:,0,:],axis=1))/np.sqrt(x.shape[0]))"
   ]
  },
  {
   "cell_type": "code",
   "execution_count": null,
   "metadata": {},
   "outputs": [],
   "source": [
    "fig,ax=plt.subplots(figsize=(8,6))\n",
    "ax.xaxis.set_major_formatter(FormatStrFormatter('%g'))\n",
    "ax.yaxis.set_major_formatter(FormatStrFormatter('%g'))\n",
    "\n",
    "plot_with_errorbars(fig,ax,range(1,6),ratings_learn_pred,colors=learn_colors)\n",
    "#plot_with_errorbars(fig,ax,range(1,6),ratings_learn,colors=learn_colors)\n",
    "ax.set_xlabel('Session')\n",
    "ax.set_ylabel('Elo rating')\n",
    "ax.set_xticks(range(1,6))\n",
    "fig.subplots_adjust(bottom=0.15,right=0.95,left=0.2,top=0.95)\n",
    "#plt.text(0,0.9,'A',ha='right',va='top',transform=fig.transFigure)\n",
    "fig.savefig(fig_direc + 'supp_figure_14B.pdf')\n",
    "plt.show()"
   ]
  },
  {
   "cell_type": "code",
   "execution_count": null,
   "metadata": {},
   "outputs": [],
   "source": [
    "1-np.sum((ratings_learn_pred-ratings_learn)**2)/np.sum((ratings_learn-np.mean(ratings_learn))**2)"
   ]
  },
  {
   "cell_type": "code",
   "execution_count": null,
   "metadata": {},
   "outputs": [],
   "source": [
    "sts.pearsonr(ratings_learn_pred.flatten(),ratings_learn.flatten())"
   ]
  },
  {
   "cell_type": "code",
   "execution_count": null,
   "metadata": {},
   "outputs": [],
   "source": [
    "fig,ax=plt.subplots(figsize=(8,6))\n",
    "ax.xaxis.set_major_formatter(FormatStrFormatter('%g'))\n",
    "ax.yaxis.set_major_formatter(FormatStrFormatter('%g'))\n",
    "\n",
    "for i in range(5):\n",
    "    ax.plot(ratings_learn_pred[:,i],ratings_learn[:,i],'.',color=learn_colors[i])\n",
    "ax.plot([-400,500],[-400,500],color='black',linestyle='dashed')\n",
    "ax.set_xlabel('Predicted Elo')\n",
    "ax.set_ylabel('Observed Elo')\n",
    "ax.set_xlim([-400,500])\n",
    "ax.set_ylim([-400,500])\n",
    "fig.subplots_adjust(bottom=0.15,right=0.95,left=0.2,top=0.95)\n",
    "fig.savefig(fig_direc + 'supp_figure_14A.pdf')\n",
    "plt.show()"
   ]
  },
  {
   "cell_type": "code",
   "execution_count": null,
   "metadata": {},
   "outputs": [],
   "source": [
    "def test_significance(A,x):\n",
    "    df = pd.DataFrame({'y' : A.flatten(),'subj': np.repeat(range(A.shape[0]),A.shape[1]),'cond' : np.tile(x,A.shape[0])})\n",
    "    res = sm.ols(formula=\"y ~ cond + C(subj)\",data=df).fit()\n",
    "    return res.params['cond'],np.mean((res.conf_int(alpha=0.05).loc['cond'].values-res.params['cond'])*[-1,1]),res.pvalues['cond']\n"
   ]
  },
  {
   "cell_type": "code",
   "execution_count": null,
   "metadata": {},
   "outputs": [],
   "source": [
    "for name,x in zip(['depth','feature drop rate','heuristic quality'],\n",
    "                  [depth_learn,feature_drop_rate_learn,heuristic_quality_learn]):\n",
    "    print(name,test_significance(np.mean(x,axis=2),range(5)))\n"
   ]
  },
  {
   "cell_type": "code",
   "execution_count": null,
   "metadata": {},
   "outputs": [],
   "source": [
    "for name,x in zip(['depth','feature drop rate','heuristic quality'],\n",
    "                  [depth_time,feature_drop_rate_time,heuristic_quality_time]):\n",
    "    print(name,test_significance(np.mean(x,axis=2),[5,10,20]))\n"
   ]
  },
  {
   "cell_type": "code",
   "execution_count": null,
   "metadata": {},
   "outputs": [],
   "source": [
    "for name,x in zip(['depth','feature drop rate','heuristic quality'],\n",
    "                  [depth_peak,feature_drop_rate_peak,heuristic_quality_peak]):\n",
    "    print(name,test_significance(np.mean(x,axis=2),range(5)))\n"
   ]
  },
  {
   "cell_type": "code",
   "execution_count": null,
   "metadata": {},
   "outputs": [],
   "source": [
    "test_significance(ratings_peak,range(5))"
   ]
  },
  {
   "cell_type": "code",
   "execution_count": null,
   "metadata": {},
   "outputs": [],
   "source": [
    "test_significance(ratings_learn,range(5))"
   ]
  },
  {
   "cell_type": "code",
   "execution_count": null,
   "metadata": {},
   "outputs": [],
   "source": [
    "models=['final','final_nonoise','final_nodelta','final_noprune','final_notree','final_noact','final_no3',\n",
    "        'final_no2conn','final_nocenter','final_no4','final_no2unc',\n",
    "        'final_optweights','final_mcts_myopic','final_drop_tile','final_fixed_iters',\n",
    "        'final_fixed_depth','final_fixed_branch','final_weight_hvd','final_drop_hvd',\n",
    "        'final_triangle','final_drop_type','final_opp']\n",
    "models=['final','final_nonoise','final_nodelta','final_noprune','final_notree','final_noact','final_no3',\n",
    "        'final_no2conn','final_nocenter','final_no4','final_no2unc',\n",
    "        'final_optweights','final_weight_hvd','final_drop_hvd',\n",
    "        'final_triangle','final_drop_type','final_opp','final_drop_tile',\n",
    "        'final_fixed_branch','final_fixed_iters','final_fixed_depth']\n",
    "\n",
    "model_names = ['Main','No value noise','No feature drop','No pruning','No tree','No active scaling',\n",
    "               'No 3-in-a-row','No connected 2-in-a-row','No center','No 4-in-a-row',\n",
    "               'No unconnected 2-in-a-row','Optimal weights',\n",
    "               'Tile dropping','Fixed iterations','Fixed depth','Fixed branching',\n",
    "               'Orientation-dependent weights','Orientation-dependent dropping','Triangle',\n",
    "               'Type-dependent dropping','Opponent scaling']\n"
   ]
  },
  {
   "cell_type": "code",
   "execution_count": null,
   "metadata": {},
   "outputs": [],
   "source": [
    "with open(direc + 'Planning depth/depth/depth_learn_final_fixed_depth_pickle.txt','wb') as f:\n",
    "    pickle.dump(np.reshape(np.loadtxt(direc + 'Params/params_learn_final_fixed_depth.txt'),[30,5,5,58])[:,:,:,1],file=f)\n",
    "\n"
   ]
  },
  {
   "cell_type": "code",
   "execution_count": null,
   "metadata": {},
   "outputs": [],
   "source": [
    "def get_depth(m):\n",
    "    print(m)\n",
    "    filename = direc + 'Planning depth/depth/depth_learn_' + m + '_pickle.txt'\n",
    "    if os.path.exists(filename):\n",
    "        with open(filename,'rb') as f:\n",
    "            return pickle.load(f)\n",
    "    return np.reshape([[np.mean(np.loadtxt(direc + 'Planning depth/depth/depth_learn_' + m + '_' + str(i) + '_' + str(j) + '.txt'))\n",
    "                           for j in range(1,6)] for i in range(0,150)],[30,5,5])\n",
    "    \n",
    "depth_learn_models =  [get_depth(m) for m in models]"
   ]
  },
  {
   "cell_type": "code",
   "execution_count": null,
   "metadata": {},
   "outputs": [],
   "source": [
    "import pickle\n",
    "for d,m in zip(depth_learn_models,models):\n",
    "    with open(direc + 'Planning depth/depth/depth_learn_' + m + '_pickle.txt','wb') as f:\n",
    "        pickle.dump(d,file=f)"
   ]
  },
  {
   "cell_type": "code",
   "execution_count": null,
   "metadata": {},
   "outputs": [],
   "source": [
    "heuristic_quality_learn_models = [get_heuristic_quality(np.reshape(np.loadtxt(direc + 'Params/params_learn_' + m + '.txt'),\n",
    "                                                                   [30,5,5,58])) for m in models]"
   ]
  },
  {
   "cell_type": "code",
   "execution_count": null,
   "metadata": {},
   "outputs": [],
   "source": [
    "feature_drop_learn_models = [np.reshape(np.loadtxt(direc + 'Params/params_learn_' + m + '.txt'),[30,5,5,58])[:,:,:,-15]\n",
    "                       for m in models]"
   ]
  },
  {
   "cell_type": "code",
   "execution_count": null,
   "metadata": {},
   "outputs": [],
   "source": [
    "fig,ax=plt.subplots(figsize=(6,6))\n",
    "ax.xaxis.set_major_formatter(FormatStrFormatter('%g'))\n",
    "ax.yaxis.set_major_formatter(FormatStrFormatter('%g'))\n",
    "\n",
    "for d in depth_learn_models:\n",
    "    ax.plot(range(1,6),np.mean(d,axis=(0,2)),'.-',color='black')\n",
    "ax.set_xlabel('Session')\n",
    "ax.set_ylabel('Planning depth')\n",
    "ax.set_xticks(range(1,6))\n",
    "fig.subplots_adjust(bottom=0.2,right=0.95,left=0.25)\n",
    "#plt.text(0,0.9,'A',ha='right',va='top',transform=fig.transFigure)\n",
    "#fig.savefig(fig_direc + 'figure_3b.pdf')\n",
    "plt.show()"
   ]
  },
  {
   "cell_type": "code",
   "execution_count": null,
   "metadata": {},
   "outputs": [],
   "source": [
    "fig,ax=plt.subplots(figsize=(6,6))\n",
    "ax.xaxis.set_major_formatter(FormatStrFormatter('%g'))\n",
    "ax.yaxis.set_major_formatter(FormatStrFormatter('%g'))\n",
    "\n",
    "for q in heuristic_quality_learn_models:\n",
    "    ax.plot(range(1,6),np.mean(q,axis=(0,2)),'.-',color='black')\n",
    "ax.set_xlabel('Session')\n",
    "ax.set_ylabel('Heuristic quality')\n",
    "ax.set_xticks(range(1,6))\n",
    "fig.subplots_adjust(bottom=0.2,right=0.95,left=0.25)\n",
    "#plt.text(0,0.9,'A',ha='right',va='top',transform=fig.transFigure)\n",
    "#fig.savefig(fig_direc + 'figure_3b.pdf')\n",
    "plt.show()"
   ]
  },
  {
   "cell_type": "code",
   "execution_count": null,
   "metadata": {},
   "outputs": [],
   "source": [
    "fig,ax=plt.subplots(figsize=(6,6))\n",
    "ax.xaxis.set_major_formatter(FormatStrFormatter('%g'))\n",
    "ax.yaxis.set_major_formatter(FormatStrFormatter('%g'))\n",
    "\n",
    "for f in feature_drop_learn_models:\n",
    "    ax.plot(range(1,6),np.mean(f,axis=(0,2)),'.-',color='black')\n",
    "ax.set_xlabel('Session')\n",
    "ax.set_ylabel('Feature drop rate')\n",
    "ax.set_xticks(range(1,6))\n",
    "fig.subplots_adjust(bottom=0.2,right=0.95,left=0.25)\n",
    "#plt.text(0,0.9,'A',ha='right',va='top',transform=fig.transFigure)\n",
    "#fig.savefig(fig_direc + 'figure_3b.pdf')\n",
    "plt.show()"
   ]
  },
  {
   "cell_type": "code",
   "execution_count": null,
   "metadata": {},
   "outputs": [],
   "source": [
    "for d,q,f,m in zip(depth_learn_models,heuristic_quality_learn_models,feature_drop_learn_models,models):\n",
    "    print(m)\n",
    "    slopes = [get_slopes(ratings_learn[:,i],np.mean(d,axis=2)[:,i],np.mean(f,axis=2)[:,i],np.mean(q,axis=2)[:,i])\n",
    "                     for i in range(5)]\n",
    "    ratings_learn_pred = np.mean(np.sum([s*A for s,A in zip(np.mean(slopes,axis=0),[d,f,q])],axis=0),axis=2)\n",
    "    ratings_learn_pred += np.mean(slopes,axis=0)[-1]\n",
    "    for s,x in zip(np.mean(slopes,axis=0),[d,f,q]):\n",
    "        print(s*np.mean(x[:,-1]-x[:,0]),np.abs(s)*np.std(np.mean(x[:,-1,:]-x[:,0,:],axis=1))/np.sqrt(x.shape[0]))"
   ]
  },
  {
   "cell_type": "code",
   "execution_count": null,
   "metadata": {},
   "outputs": [],
   "source": [
    "def report_stats(s):\n",
    "    rho,p = s\n",
    "    if np.isnan(p):\n",
    "        return '\\\\multicolumn{2}{c |}{N/A}'\n",
    "    elif p>0.01:\n",
    "        return '$' + '{0:.2f}'.format(rho) + '$ & $' + '{:.2f}'.format(p) + '$'\n",
    "    else:\n",
    "        return '$' + '{0:.2f}'.format(rho) + '$ & $' + '{:.1e}'.format(p).split('e')[0] + '\\cdot 10^{' + str(int('{0:.1e}'.format(p).split('e')[1])) + '}$'\n",
    "\n",
    "for d,q,f,m in zip(depth_learn_models,heuristic_quality_learn_models,feature_drop_learn_models,model_names):\n",
    "    print(m,'&',report_stats(sts.pearsonr(np.mean(d,axis=2).flatten(),ratings_learn.flatten())),'&',\n",
    "          report_stats(sts.pearsonr(np.mean(f,axis=2).flatten(),ratings_learn.flatten())),'&',\n",
    "          report_stats(sts.pearsonr(np.mean(q,axis=2).flatten(),ratings_learn.flatten())),'\\\\\\\\\\hline')\n"
   ]
  },
  {
   "cell_type": "code",
   "execution_count": null,
   "metadata": {},
   "outputs": [],
   "source": [
    "depth_hvh_models = [np.array([[np.mean(np.loadtxt(direc + 'Planning depth/depth/depth_learn_' + m + '_' + str(i) + '_' + str(j) + '.txt')) \n",
    "                                for j in range(1,6)] for i in range(40)]) for m in ['final','final_notree','final_nodelta','final_optweights']]"
   ]
  },
  {
   "cell_type": "code",
   "execution_count": null,
   "metadata": {},
   "outputs": [],
   "source": [
    "feature_drop_hvh_models = [np.reshape(np.loadtxt(direc + 'Params/params_hvh_' + m + '.txt'),[40,5,58])[:,:,-15]\n",
    "                       for m in ['final','final_notree','final_nodelta','final_optweights']]\n"
   ]
  },
  {
   "cell_type": "code",
   "execution_count": null,
   "metadata": {},
   "outputs": [],
   "source": [
    "heuristic_quality_hvh_models = [get_heuristic_quality(np.reshape(np.loadtxt(direc + 'Params/params_hvh_' + m + '.txt'),\n",
    "                                                                   [40,1,5,58]))[:,0,:] for m in ['final','final_notree','final_nodelta','final_optweights']]"
   ]
  },
  {
   "cell_type": "code",
   "execution_count": null,
   "metadata": {},
   "outputs": [],
   "source": [
    "Mfull = np.array([np.mean(depth_hvh_models[0],axis=1),\n",
    "         np.mean(feature_drop_hvh_models[0],axis=1),\n",
    "         np.mean(heuristic_quality_hvh_models[0],axis=1)])\n",
    "\n",
    "Mlesions = np.array([[np.mean(depth_hvh_models[i],axis=1),\n",
    "         np.mean(feature_drop_hvh_models[i],axis=1),\n",
    "         np.mean(heuristic_quality_hvh_models[i],axis=1)] for i in range(1,4)])\n"
   ]
  },
  {
   "cell_type": "code",
   "execution_count": null,
   "metadata": {},
   "outputs": [],
   "source": [
    "def get_alpha_fdr(alpha,allps):\n",
    "    return allps[np.nonzero(allps > np.arange(1,len(allps)+1)/len(allps)*alpha)[0][0]]\n",
    "\n",
    "def plot_with_stars(r,p,colormap,limits,filename):\n",
    "    fig,ax = plt.subplots(figsize=(12,12))\n",
    "    ax.xaxis.set_major_formatter(FormatStrFormatter('%g'))\n",
    "    ax.yaxis.set_major_formatter(FormatStrFormatter('%g'))\n",
    "    \n",
    "    nstars = (p < get_alpha_fdr(0.05,np.sort(p.flatten()))).astype(int) + \\\n",
    "             (p < get_alpha_fdr(0.01,np.sort(p.flatten()))).astype(int) + \\\n",
    "             (p < get_alpha_fdr(0.001,np.sort(p.flatten()))).astype(int)\n",
    "        \n",
    "    for i in range(r.shape[0]):\n",
    "        for k in range(r.shape[1]):\n",
    "            if k!=i and nstars[i][k]>0:\n",
    "                ax.text(k,i,'*'*nstars[i][k],ha='center',va='center',fontsize=24)\n",
    "    \n",
    "    ax.set_xticks(range(3))\n",
    "    ax.set_yticks(range(3))\n",
    "    ax.set_xticklabels(['Planning depth','Feature drop rate','Heuristic quality'],usetex=False,rotation=60,ha='right',\n",
    "                       fontsize = 32)\n",
    "        \n",
    "    ax.set_yticklabels(['Planning depth','Feature drop rate','Heuristic quality'],usetex=False,fontsize = 32)    \n",
    "    cax = ax.imshow(r,interpolation='nearest',cmap=colormap,vmin=limits[0],vmax=limits[1])\n",
    "    cbar = fig.colorbar(cax, orientation='vertical',ticks=[-1, 0, 1])\n",
    "    cbar.ax.set_yticklabels([-1,0,1],usetex=False)\n",
    "    fig.subplots_adjust(bottom=0.3,right=0.95,left=0.35,top=0.9)    \n",
    "    fig.savefig(fig_direc + filename)\n",
    "    plt.show()"
   ]
  },
  {
   "cell_type": "code",
   "execution_count": null,
   "metadata": {},
   "outputs": [],
   "source": [
    "rho1 = np.array([[sts.pearsonr(Mfull[i,:]-Mlesions[j,i,:],Mfull[j,:])[0] for i in range(3)] for j in range(3)])\n",
    "P1 = np.array([[sts.pearsonr(Mfull[i,:]-Mlesions[j,i,:],Mfull[j,:])[1] for i in range(3)] for j in range(3)])"
   ]
  },
  {
   "cell_type": "code",
   "execution_count": null,
   "metadata": {},
   "outputs": [],
   "source": [
    "rho1"
   ]
  },
  {
   "cell_type": "code",
   "execution_count": null,
   "metadata": {},
   "outputs": [],
   "source": [
    "plot_with_stars(rho1,P1,'bwr',[-1,1],'supp_figure_7B.pdf')"
   ]
  },
  {
   "cell_type": "code",
   "execution_count": null,
   "metadata": {},
   "outputs": [],
   "source": [
    "D2 = np.array([[sts.ks_2samp(Mfull[i,:],Mlesions[j,i,:])[0] for i in range(3)] for j in range(3)])\n",
    "P2 = np.array([[sts.ks_2samp(Mfull[i,:],Mlesions[j,i,:])[1] for i in range(3)] for j in range(3)])"
   ]
  },
  {
   "cell_type": "code",
   "execution_count": null,
   "metadata": {},
   "outputs": [],
   "source": [
    "plot_with_stars(D2,P2,'Greens',[0,1],'supp_figure_7A.pdf')"
   ]
  },
  {
   "cell_type": "code",
   "execution_count": null,
   "metadata": {},
   "outputs": [],
   "source": []
  },
  {
   "cell_type": "code",
   "execution_count": null,
   "metadata": {},
   "outputs": [],
   "source": []
  },
  {
   "cell_type": "code",
   "execution_count": null,
   "metadata": {},
   "outputs": [],
   "source": []
  }
 ],
 "metadata": {
  "kernelspec": {
   "display_name": "Python 3",
   "language": "python",
   "name": "python3"
  },
  "language_info": {
   "codemirror_mode": {
    "name": "ipython",
    "version": 3
   },
   "file_extension": ".py",
   "mimetype": "text/x-python",
   "name": "python",
   "nbconvert_exporter": "python",
   "pygments_lexer": "ipython3",
   "version": "3.7.4"
  }
 },
 "nbformat": 4,
 "nbformat_minor": 2
}
