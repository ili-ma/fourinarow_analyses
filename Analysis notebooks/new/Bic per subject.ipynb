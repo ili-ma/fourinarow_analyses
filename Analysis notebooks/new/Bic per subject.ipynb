{
 "cells": [
  {
   "cell_type": "code",
   "execution_count": 1,
   "id": "b84a2184-0014-46f3-a52e-92b515db99d7",
   "metadata": {
    "editable": true,
    "slideshow": {
     "slide_type": ""
    },
    "tags": []
   },
   "outputs": [],
   "source": [
    "import pandas as pd\n",
    "from fourinarowfunctions import load_tabular, read_subject_nlls\n",
    "from numpy import log as ln"
   ]
  },
  {
   "cell_type": "markdown",
   "id": "a9b95b59-2069-40be-a585-66598344500c",
   "metadata": {
    "editable": true,
    "slideshow": {
     "slide_type": ""
    },
    "tags": []
   },
   "source": [
    "The definition for BIC is\n",
    "\n",
    "> BIC = −2 × ln(likelihood) + ln(N ) × k\n",
    " \n",
    "But our input is nll, so we have\n",
    "\n",
    ">BIC =  2 × nll + ln(N ) × k"
   ]
  },
  {
   "cell_type": "code",
   "execution_count": 2,
   "id": "edeeadcc-9e1f-41f8-a81c-86fdc3fc288d",
   "metadata": {
    "editable": true,
    "scrolled": true,
    "slideshow": {
     "slide_type": ""
    },
    "tags": []
   },
   "outputs": [],
   "source": [
    "def get_subject_decisions(split_folder):\n",
    "    games = load_tabular(split_folder + \"/**/data.csv\", False)\n",
    "    decisions = {}\n",
    "    for game in games:\n",
    "        player = str(game[\"player_name\"].iloc[0])\n",
    "        count = decisions[player] if player in decisions else 0\n",
    "        decisions[player] = count + len(game)\n",
    "    return decisions\n",
    "\n",
    "def get_subject_bics(decisions, fit_folder, n_parameters):\n",
    "    nll = read_subject_nlls(fit_folder)\n",
    "    print(f\"Got nlls for {len(nll)} subjects\")\n",
    "    result = {subject: 2 * nll[subject] + n_parameters * ln(decisions[subject]) for subject in nll}\n",
    "    print(f\"Calculated bics for {len(result)} subjects\")\n",
    "    return result"
   ]
  },
  {
   "cell_type": "code",
   "execution_count": 3,
   "id": "fddaaffe-7609-446b-b01b-c9d4422bb355",
   "metadata": {},
   "outputs": [
    {
     "name": "stdout",
     "output_type": "stream",
     "text": [
      "Got nlls for 157 subjects\n",
      "Calculated bics for 157 subjects\n",
      "Got nlls for 157 subjects\n",
      "Calculated bics for 157 subjects\n"
     ]
    }
   ],
   "source": [
    "decisions = get_subject_decisions(\"../data/splits\")\n",
    "bics_main = get_subject_bics(decisions, \"../data/fit_main\", 10)\n",
    "bics_no_tree = get_subject_bics(decisions, \"../data/fit_no_tree_bas_method\", 8)"
   ]
  },
  {
   "cell_type": "code",
   "execution_count": 4,
   "id": "af28f15a-c04b-42a2-ab8f-8fac5a5d113b",
   "metadata": {
    "editable": true,
    "slideshow": {
     "slide_type": ""
    },
    "tags": []
   },
   "outputs": [],
   "source": [
    "df_bics_main = pd.DataFrame(list(bics_main.items()), columns = [\"subject\", \"main\"])\n",
    "df_bics_no_tree = pd.DataFrame(list(bics_no_tree.items()), columns = [\"subject\", \"no tree\"])\n",
    "df_bics = pd.merge(df_bics_main, df_bics_no_tree)"
   ]
  },
  {
   "cell_type": "code",
   "execution_count": 5,
   "id": "e7641ec9-3da9-4a45-9726-0e514e379cc4",
   "metadata": {},
   "outputs": [],
   "source": [
    "df_bics.to_csv(\"../data/data_bic_main_notree.csv\", index=False)"
   ]
  },
  {
   "cell_type": "code",
   "execution_count": null,
   "id": "b932123c-ec30-4727-aa1a-1e0b6c43a3f5",
   "metadata": {
    "editable": true,
    "slideshow": {
     "slide_type": ""
    },
    "tags": []
   },
   "outputs": [],
   "source": []
  }
 ],
 "metadata": {
  "kernelspec": {
   "display_name": "Python 3 (ipykernel)",
   "language": "python",
   "name": "python3"
  },
  "language_info": {
   "codemirror_mode": {
    "name": "ipython",
    "version": 3
   },
   "file_extension": ".py",
   "mimetype": "text/x-python",
   "name": "python",
   "nbconvert_exporter": "python",
   "pygments_lexer": "ipython3",
   "version": "3.10.2"
  }
 },
 "nbformat": 4,
 "nbformat_minor": 5
}
